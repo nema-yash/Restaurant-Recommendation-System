{
  "cells": [
    {
      "cell_type": "markdown",
      "source": [
        "Breakdown of the Notebook"
      ],
      "metadata": {
        "id": "-O43Lippz2HR"
      }
    },
    {
      "cell_type": "markdown",
      "source": [
        "\n",
        "1.   Loading Libraries for Data Preprocessing and EDA\n",
        "2.   Loading Dataset\n",
        "3.   Data Preprocessing\n",
        "4.   Exploratory Data Analysis\n",
        "5.   Model Exploration and Model Selection\n",
        "*   Goal 1 and 3: Understanding important factors impacting Rating of a restaurant and Implementation of Selected Models(Naive, Linear, Decision Tree and Extra Tree Regression). Using these model to predict on untrained data x_test and measuring performance\n",
        "*   Goal 2: Identify and cluster restaurants based on common attributes\n",
        "*   Goal 4: Building Recommendation system to suggest restaurant based on customer preference(This is in DM_Group39_Recommendation_System_Code.ipynb file\n",
        "\n",
        "\n",
        "\n",
        "\n",
        "\n",
        "\n",
        "\n"
      ],
      "metadata": {
        "id": "zaSjJgLkmxDo"
      }
    },
    {
      "cell_type": "markdown",
      "metadata": {
        "id": "Y9Va9SZNQ_vv"
      },
      "source": [
        "# Loading Libraries for Data Preprocessing and EDA"
      ]
    },
    {
      "cell_type": "code",
      "execution_count": 299,
      "metadata": {
        "id": "0IQF7YwZztlB"
      },
      "outputs": [],
      "source": [
        "import numpy as np # linear algebra\n",
        "import pandas as pd # data processing, CSV file I/O (e.g. pd.read_csv)\n",
        "import seaborn as sns\n",
        "import matplotlib.pyplot as plt\n",
        "%matplotlib inline\n",
        "pd.set_option('display.max_columns', None)\n",
        "import warnings\n",
        "warnings.filterwarnings(\"ignore\")\n",
        "import sys\n",
        "import csv\n",
        "csv.field_size_limit(sys.maxsize)\n",
        "from wordcloud import WordCloud"
      ]
    },
    {
      "cell_type": "markdown",
      "metadata": {
        "id": "Y_l9k9GXRKbN"
      },
      "source": [
        "# Loading Dataset"
      ]
    },
    {
      "cell_type": "code",
      "execution_count": 300,
      "metadata": {
        "colab": {
          "base_uri": "https://localhost:8080/",
          "height": 0
        },
        "id": "JslzfogOzwBh",
        "outputId": "2c4ff404-5983-4457-9088-f2ccc2ce8bc6"
      },
      "outputs": [
        {
          "output_type": "execute_result",
          "data": {
            "text/plain": [
              "                                                 url  \\\n",
              "0  https://www.zomato.com/bangalore/jalsa-banasha...   \n",
              "1  https://www.zomato.com/bangalore/spice-elephan...   \n",
              "2  https://www.zomato.com/SanchurroBangalore?cont...   \n",
              "3  https://www.zomato.com/bangalore/addhuri-udupi...   \n",
              "4  https://www.zomato.com/bangalore/grand-village...   \n",
              "\n",
              "                                             address                   name  \\\n",
              "0  942, 21st Main Road, 2nd Stage, Banashankari, ...                  Jalsa   \n",
              "1  2nd Floor, 80 Feet Road, Near Big Bazaar, 6th ...         Spice Elephant   \n",
              "2  1112, Next to KIMS Medical College, 17th Cross...        San Churro Cafe   \n",
              "3  1st Floor, Annakuteera, 3rd Stage, Banashankar...  Addhuri Udupi Bhojana   \n",
              "4  10, 3rd Floor, Lakshmi Associates, Gandhi Baza...          Grand Village   \n",
              "\n",
              "  online_order book_table   rate  votes                             phone  \\\n",
              "0          Yes        Yes  4.1/5    775    080 42297555\\r\\n+91 9743772233   \n",
              "1          Yes         No  4.1/5    787                      080 41714161   \n",
              "2          Yes         No  3.8/5    918                    +91 9663487993   \n",
              "3           No         No  3.7/5     88                    +91 9620009302   \n",
              "4           No         No  3.8/5    166  +91 8026612447\\r\\n+91 9901210005   \n",
              "\n",
              "       location            rest_type  \\\n",
              "0  Banashankari        Casual Dining   \n",
              "1  Banashankari        Casual Dining   \n",
              "2  Banashankari  Cafe, Casual Dining   \n",
              "3  Banashankari          Quick Bites   \n",
              "4  Basavanagudi        Casual Dining   \n",
              "\n",
              "                                          dish_liked  \\\n",
              "0  Pasta, Lunch Buffet, Masala Papad, Paneer Laja...   \n",
              "1  Momos, Lunch Buffet, Chocolate Nirvana, Thai G...   \n",
              "2  Churros, Cannelloni, Minestrone Soup, Hot Choc...   \n",
              "3                                        Masala Dosa   \n",
              "4                                Panipuri, Gol Gappe   \n",
              "\n",
              "                         cuisines approx_cost(for two people)  \\\n",
              "0  North Indian, Mughlai, Chinese                         800   \n",
              "1     Chinese, North Indian, Thai                         800   \n",
              "2          Cafe, Mexican, Italian                         800   \n",
              "3      South Indian, North Indian                         300   \n",
              "4        North Indian, Rajasthani                         600   \n",
              "\n",
              "                                        reviews_list menu_item  \\\n",
              "0  [('Rated 4.0', 'RATED\\n  A beautiful place to ...        []   \n",
              "1  [('Rated 4.0', 'RATED\\n  Had been here for din...        []   \n",
              "2  [('Rated 3.0', \"RATED\\n  Ambience is not that ...        []   \n",
              "3  [('Rated 4.0', \"RATED\\n  Great food and proper...        []   \n",
              "4  [('Rated 4.0', 'RATED\\n  Very good restaurant ...        []   \n",
              "\n",
              "  listed_in(type) listed_in(city)  \n",
              "0          Buffet    Banashankari  \n",
              "1          Buffet    Banashankari  \n",
              "2          Buffet    Banashankari  \n",
              "3          Buffet    Banashankari  \n",
              "4          Buffet    Banashankari  "
            ],
            "text/html": [
              "\n",
              "  <div id=\"df-e15c4a1e-3dfe-4138-98f6-cd842714d3f1\">\n",
              "    <div class=\"colab-df-container\">\n",
              "      <div>\n",
              "<style scoped>\n",
              "    .dataframe tbody tr th:only-of-type {\n",
              "        vertical-align: middle;\n",
              "    }\n",
              "\n",
              "    .dataframe tbody tr th {\n",
              "        vertical-align: top;\n",
              "    }\n",
              "\n",
              "    .dataframe thead th {\n",
              "        text-align: right;\n",
              "    }\n",
              "</style>\n",
              "<table border=\"1\" class=\"dataframe\">\n",
              "  <thead>\n",
              "    <tr style=\"text-align: right;\">\n",
              "      <th></th>\n",
              "      <th>url</th>\n",
              "      <th>address</th>\n",
              "      <th>name</th>\n",
              "      <th>online_order</th>\n",
              "      <th>book_table</th>\n",
              "      <th>rate</th>\n",
              "      <th>votes</th>\n",
              "      <th>phone</th>\n",
              "      <th>location</th>\n",
              "      <th>rest_type</th>\n",
              "      <th>dish_liked</th>\n",
              "      <th>cuisines</th>\n",
              "      <th>approx_cost(for two people)</th>\n",
              "      <th>reviews_list</th>\n",
              "      <th>menu_item</th>\n",
              "      <th>listed_in(type)</th>\n",
              "      <th>listed_in(city)</th>\n",
              "    </tr>\n",
              "  </thead>\n",
              "  <tbody>\n",
              "    <tr>\n",
              "      <th>0</th>\n",
              "      <td>https://www.zomato.com/bangalore/jalsa-banasha...</td>\n",
              "      <td>942, 21st Main Road, 2nd Stage, Banashankari, ...</td>\n",
              "      <td>Jalsa</td>\n",
              "      <td>Yes</td>\n",
              "      <td>Yes</td>\n",
              "      <td>4.1/5</td>\n",
              "      <td>775</td>\n",
              "      <td>080 42297555\\r\\n+91 9743772233</td>\n",
              "      <td>Banashankari</td>\n",
              "      <td>Casual Dining</td>\n",
              "      <td>Pasta, Lunch Buffet, Masala Papad, Paneer Laja...</td>\n",
              "      <td>North Indian, Mughlai, Chinese</td>\n",
              "      <td>800</td>\n",
              "      <td>[('Rated 4.0', 'RATED\\n  A beautiful place to ...</td>\n",
              "      <td>[]</td>\n",
              "      <td>Buffet</td>\n",
              "      <td>Banashankari</td>\n",
              "    </tr>\n",
              "    <tr>\n",
              "      <th>1</th>\n",
              "      <td>https://www.zomato.com/bangalore/spice-elephan...</td>\n",
              "      <td>2nd Floor, 80 Feet Road, Near Big Bazaar, 6th ...</td>\n",
              "      <td>Spice Elephant</td>\n",
              "      <td>Yes</td>\n",
              "      <td>No</td>\n",
              "      <td>4.1/5</td>\n",
              "      <td>787</td>\n",
              "      <td>080 41714161</td>\n",
              "      <td>Banashankari</td>\n",
              "      <td>Casual Dining</td>\n",
              "      <td>Momos, Lunch Buffet, Chocolate Nirvana, Thai G...</td>\n",
              "      <td>Chinese, North Indian, Thai</td>\n",
              "      <td>800</td>\n",
              "      <td>[('Rated 4.0', 'RATED\\n  Had been here for din...</td>\n",
              "      <td>[]</td>\n",
              "      <td>Buffet</td>\n",
              "      <td>Banashankari</td>\n",
              "    </tr>\n",
              "    <tr>\n",
              "      <th>2</th>\n",
              "      <td>https://www.zomato.com/SanchurroBangalore?cont...</td>\n",
              "      <td>1112, Next to KIMS Medical College, 17th Cross...</td>\n",
              "      <td>San Churro Cafe</td>\n",
              "      <td>Yes</td>\n",
              "      <td>No</td>\n",
              "      <td>3.8/5</td>\n",
              "      <td>918</td>\n",
              "      <td>+91 9663487993</td>\n",
              "      <td>Banashankari</td>\n",
              "      <td>Cafe, Casual Dining</td>\n",
              "      <td>Churros, Cannelloni, Minestrone Soup, Hot Choc...</td>\n",
              "      <td>Cafe, Mexican, Italian</td>\n",
              "      <td>800</td>\n",
              "      <td>[('Rated 3.0', \"RATED\\n  Ambience is not that ...</td>\n",
              "      <td>[]</td>\n",
              "      <td>Buffet</td>\n",
              "      <td>Banashankari</td>\n",
              "    </tr>\n",
              "    <tr>\n",
              "      <th>3</th>\n",
              "      <td>https://www.zomato.com/bangalore/addhuri-udupi...</td>\n",
              "      <td>1st Floor, Annakuteera, 3rd Stage, Banashankar...</td>\n",
              "      <td>Addhuri Udupi Bhojana</td>\n",
              "      <td>No</td>\n",
              "      <td>No</td>\n",
              "      <td>3.7/5</td>\n",
              "      <td>88</td>\n",
              "      <td>+91 9620009302</td>\n",
              "      <td>Banashankari</td>\n",
              "      <td>Quick Bites</td>\n",
              "      <td>Masala Dosa</td>\n",
              "      <td>South Indian, North Indian</td>\n",
              "      <td>300</td>\n",
              "      <td>[('Rated 4.0', \"RATED\\n  Great food and proper...</td>\n",
              "      <td>[]</td>\n",
              "      <td>Buffet</td>\n",
              "      <td>Banashankari</td>\n",
              "    </tr>\n",
              "    <tr>\n",
              "      <th>4</th>\n",
              "      <td>https://www.zomato.com/bangalore/grand-village...</td>\n",
              "      <td>10, 3rd Floor, Lakshmi Associates, Gandhi Baza...</td>\n",
              "      <td>Grand Village</td>\n",
              "      <td>No</td>\n",
              "      <td>No</td>\n",
              "      <td>3.8/5</td>\n",
              "      <td>166</td>\n",
              "      <td>+91 8026612447\\r\\n+91 9901210005</td>\n",
              "      <td>Basavanagudi</td>\n",
              "      <td>Casual Dining</td>\n",
              "      <td>Panipuri, Gol Gappe</td>\n",
              "      <td>North Indian, Rajasthani</td>\n",
              "      <td>600</td>\n",
              "      <td>[('Rated 4.0', 'RATED\\n  Very good restaurant ...</td>\n",
              "      <td>[]</td>\n",
              "      <td>Buffet</td>\n",
              "      <td>Banashankari</td>\n",
              "    </tr>\n",
              "  </tbody>\n",
              "</table>\n",
              "</div>\n",
              "      <button class=\"colab-df-convert\" onclick=\"convertToInteractive('df-e15c4a1e-3dfe-4138-98f6-cd842714d3f1')\"\n",
              "              title=\"Convert this dataframe to an interactive table.\"\n",
              "              style=\"display:none;\">\n",
              "        \n",
              "  <svg xmlns=\"http://www.w3.org/2000/svg\" height=\"24px\"viewBox=\"0 0 24 24\"\n",
              "       width=\"24px\">\n",
              "    <path d=\"M0 0h24v24H0V0z\" fill=\"none\"/>\n",
              "    <path d=\"M18.56 5.44l.94 2.06.94-2.06 2.06-.94-2.06-.94-.94-2.06-.94 2.06-2.06.94zm-11 1L8.5 8.5l.94-2.06 2.06-.94-2.06-.94L8.5 2.5l-.94 2.06-2.06.94zm10 10l.94 2.06.94-2.06 2.06-.94-2.06-.94-.94-2.06-.94 2.06-2.06.94z\"/><path d=\"M17.41 7.96l-1.37-1.37c-.4-.4-.92-.59-1.43-.59-.52 0-1.04.2-1.43.59L10.3 9.45l-7.72 7.72c-.78.78-.78 2.05 0 2.83L4 21.41c.39.39.9.59 1.41.59.51 0 1.02-.2 1.41-.59l7.78-7.78 2.81-2.81c.8-.78.8-2.07 0-2.86zM5.41 20L4 18.59l7.72-7.72 1.47 1.35L5.41 20z\"/>\n",
              "  </svg>\n",
              "      </button>\n",
              "      \n",
              "  <style>\n",
              "    .colab-df-container {\n",
              "      display:flex;\n",
              "      flex-wrap:wrap;\n",
              "      gap: 12px;\n",
              "    }\n",
              "\n",
              "    .colab-df-convert {\n",
              "      background-color: #E8F0FE;\n",
              "      border: none;\n",
              "      border-radius: 50%;\n",
              "      cursor: pointer;\n",
              "      display: none;\n",
              "      fill: #1967D2;\n",
              "      height: 32px;\n",
              "      padding: 0 0 0 0;\n",
              "      width: 32px;\n",
              "    }\n",
              "\n",
              "    .colab-df-convert:hover {\n",
              "      background-color: #E2EBFA;\n",
              "      box-shadow: 0px 1px 2px rgba(60, 64, 67, 0.3), 0px 1px 3px 1px rgba(60, 64, 67, 0.15);\n",
              "      fill: #174EA6;\n",
              "    }\n",
              "\n",
              "    [theme=dark] .colab-df-convert {\n",
              "      background-color: #3B4455;\n",
              "      fill: #D2E3FC;\n",
              "    }\n",
              "\n",
              "    [theme=dark] .colab-df-convert:hover {\n",
              "      background-color: #434B5C;\n",
              "      box-shadow: 0px 1px 3px 1px rgba(0, 0, 0, 0.15);\n",
              "      filter: drop-shadow(0px 1px 2px rgba(0, 0, 0, 0.3));\n",
              "      fill: #FFFFFF;\n",
              "    }\n",
              "  </style>\n",
              "\n",
              "      <script>\n",
              "        const buttonEl =\n",
              "          document.querySelector('#df-e15c4a1e-3dfe-4138-98f6-cd842714d3f1 button.colab-df-convert');\n",
              "        buttonEl.style.display =\n",
              "          google.colab.kernel.accessAllowed ? 'block' : 'none';\n",
              "\n",
              "        async function convertToInteractive(key) {\n",
              "          const element = document.querySelector('#df-e15c4a1e-3dfe-4138-98f6-cd842714d3f1');\n",
              "          const dataTable =\n",
              "            await google.colab.kernel.invokeFunction('convertToInteractive',\n",
              "                                                     [key], {});\n",
              "          if (!dataTable) return;\n",
              "\n",
              "          const docLinkHtml = 'Like what you see? Visit the ' +\n",
              "            '<a target=\"_blank\" href=https://colab.research.google.com/notebooks/data_table.ipynb>data table notebook</a>'\n",
              "            + ' to learn more about interactive tables.';\n",
              "          element.innerHTML = '';\n",
              "          dataTable['output_type'] = 'display_data';\n",
              "          await google.colab.output.renderOutput(dataTable, element);\n",
              "          const docLink = document.createElement('div');\n",
              "          docLink.innerHTML = docLinkHtml;\n",
              "          element.appendChild(docLink);\n",
              "        }\n",
              "      </script>\n",
              "    </div>\n",
              "  </div>\n",
              "  "
            ]
          },
          "metadata": {},
          "execution_count": 300
        }
      ],
      "source": [
        "df= pd.read_csv('zomato.csv', engine=\"python\", error_bad_lines=False)\n",
        "df.head()"
      ]
    },
    {
      "cell_type": "code",
      "execution_count": 301,
      "metadata": {
        "colab": {
          "base_uri": "https://localhost:8080/"
        },
        "id": "UNbFHLRpz38C",
        "outputId": "2c03a344-7d43-404e-c5f2-6c8ddecb485a"
      },
      "outputs": [
        {
          "output_type": "stream",
          "name": "stdout",
          "text": [
            "Data Point=  879189\n"
          ]
        },
        {
          "output_type": "execute_result",
          "data": {
            "text/plain": [
              "(51717, 17)"
            ]
          },
          "metadata": {},
          "execution_count": 301
        }
      ],
      "source": [
        "a,b=df.shape  # Since shape return tuple thus storing value in a and b \n",
        "print('Data Point= ',a*b)\n",
        "df.shape\n",
        "#We have 51K rows of restaurant data and 17 columns."
      ]
    },
    {
      "cell_type": "markdown",
      "metadata": {
        "id": "IL1uqpGURlvr"
      },
      "source": [
        "# Data Preprocessing"
      ]
    },
    {
      "cell_type": "code",
      "execution_count": 302,
      "metadata": {
        "colab": {
          "base_uri": "https://localhost:8080/"
        },
        "id": "HAcoQRaXz8Ol",
        "outputId": "e5babcd9-4a73-42f0-cab1-07bedd8573d0"
      },
      "outputs": [
        {
          "output_type": "execute_result",
          "data": {
            "text/plain": [
              "url                                0\n",
              "address                            0\n",
              "name                               0\n",
              "online_order                       0\n",
              "book_table                         0\n",
              "rate                            7775\n",
              "votes                              0\n",
              "phone                           1208\n",
              "location                          21\n",
              "rest_type                        227\n",
              "dish_liked                     28078\n",
              "cuisines                          45\n",
              "approx_cost(for two people)      346\n",
              "reviews_list                       0\n",
              "menu_item                          0\n",
              "listed_in(type)                    0\n",
              "listed_in(city)                    0\n",
              "dtype: int64"
            ]
          },
          "metadata": {},
          "execution_count": 302
        }
      ],
      "source": [
        "# Counting NaN in each Columns\n",
        "# We can also df.info()\n",
        "df.isnull().sum()"
      ]
    },
    {
      "cell_type": "code",
      "execution_count": 303,
      "metadata": {
        "colab": {
          "base_uri": "https://localhost:8080/"
        },
        "id": "4wuiBzio0BVQ",
        "outputId": "1dfd839f-fd14-4797-cede-761e9eb866b9"
      },
      "outputs": [
        {
          "output_type": "stream",
          "name": "stdout",
          "text": [
            "<class 'pandas.core.frame.DataFrame'>\n",
            "RangeIndex: 51717 entries, 0 to 51716\n",
            "Data columns (total 17 columns):\n",
            " #   Column                       Non-Null Count  Dtype \n",
            "---  ------                       --------------  ----- \n",
            " 0   url                          51717 non-null  object\n",
            " 1   address                      51717 non-null  object\n",
            " 2   name                         51717 non-null  object\n",
            " 3   online_order                 51717 non-null  object\n",
            " 4   book_table                   51717 non-null  object\n",
            " 5   rate                         43942 non-null  object\n",
            " 6   votes                        51717 non-null  int64 \n",
            " 7   phone                        50509 non-null  object\n",
            " 8   location                     51696 non-null  object\n",
            " 9   rest_type                    51490 non-null  object\n",
            " 10  dish_liked                   23639 non-null  object\n",
            " 11  cuisines                     51672 non-null  object\n",
            " 12  approx_cost(for two people)  51371 non-null  object\n",
            " 13  reviews_list                 51717 non-null  object\n",
            " 14  menu_item                    51717 non-null  object\n",
            " 15  listed_in(type)              51717 non-null  object\n",
            " 16  listed_in(city)              51717 non-null  object\n",
            "dtypes: int64(1), object(16)\n",
            "memory usage: 6.7+ MB\n"
          ]
        }
      ],
      "source": [
        "# .info helps us check NaN values and data type of each column\n",
        "df.info()\n",
        "#rate column which will be the outcome column for models has 43K filled rows out of 51K. \n",
        "#We won't be imputing values for this column. Any manipulation of the outcome column will add bias in the predictions\n",
        "#So maximum rows we can use after data cleaning will be around 43K."
      ]
    },
    {
      "cell_type": "code",
      "execution_count": 304,
      "metadata": {
        "id": "znmbuTsH0HRs"
      },
      "outputs": [],
      "source": [
        "# Dropping Url and Phone no as they are not useful for this project. \n",
        "# Dish liked contains a lot of missing values ~50% so won't be used for modeling. Can be used at EDA level potentially\n",
        "df.drop(['url','phone','dish_liked'], axis =1, inplace=True)"
      ]
    },
    {
      "cell_type": "code",
      "execution_count": 305,
      "metadata": {
        "colab": {
          "base_uri": "https://localhost:8080/"
        },
        "id": "hvEc91y20MIQ",
        "outputId": "82004c19-832a-4a98-ea99-00c594a39c19"
      },
      "outputs": [
        {
          "output_type": "stream",
          "name": "stdout",
          "text": [
            "Number of Dublicate values in Data Frame =  43\n"
          ]
        }
      ],
      "source": [
        "# Dropping row duplicates.\n",
        "print('Number of Dublicate values in Data Frame = ',df.duplicated().sum())\n",
        "df.drop_duplicates(inplace=True)"
      ]
    },
    {
      "cell_type": "code",
      "execution_count": 306,
      "metadata": {
        "id": "uT8GfivD0QpP"
      },
      "outputs": [],
      "source": [
        "# Remove the NaN values from the dataset. \n",
        "#Doing this as most NAs were part of rows which had outcome variable rate as NA. So taking this approach\n",
        "df.dropna(how='any',inplace=True)"
      ]
    },
    {
      "cell_type": "code",
      "source": [
        "# clean Rating column\n",
        "#Rating is formated as 4.1/5 etc so to make the column useable we need to remove '/5' from Rates\n",
        "#Also there were few restaurants that had just opened so the rating column for these was 'NEW' and had to be dropped.\n",
        "#We will try predicting ratings for these 'NEW' restaurants later\n",
        "df['rate'].unique()"
      ],
      "metadata": {
        "colab": {
          "base_uri": "https://localhost:8080/"
        },
        "id": "l3FP8-Y_YEDM",
        "outputId": "081b7ac5-b586-4e03-bdac-f046785fc7f0"
      },
      "execution_count": 307,
      "outputs": [
        {
          "output_type": "execute_result",
          "data": {
            "text/plain": [
              "array(['4.1/5', '3.8/5', '3.7/5', '3.6/5', '4.6/5', '4.0/5', '4.2/5',\n",
              "       '3.9/5', '3.1/5', '3.0/5', '3.2/5', '3.3/5', '2.8/5', '4.4/5',\n",
              "       '4.3/5', 'NEW', '2.9/5', '3.5/5', '2.6/5', '3.8 /5', '3.4/5',\n",
              "       '4.5/5', '2.5/5', '2.7/5', '4.7/5', '2.4/5', '2.2/5', '2.3/5',\n",
              "       '3.4 /5', '-', '3.6 /5', '4.8/5', '3.9 /5', '4.2 /5', '4.0 /5',\n",
              "       '4.1 /5', '3.7 /5', '3.1 /5', '2.9 /5', '3.3 /5', '2.8 /5',\n",
              "       '3.5 /5', '2.7 /5', '2.5 /5', '3.2 /5', '2.6 /5', '4.5 /5',\n",
              "       '4.3 /5', '4.4 /5', '4.9/5', '2.1/5', '2.0/5', '1.8/5', '4.6 /5',\n",
              "       '4.9 /5', '3.0 /5', '4.8 /5', '2.3 /5', '4.7 /5', '2.4 /5',\n",
              "       '2.1 /5', '2.2 /5', '2.0 /5', '1.8 /5'], dtype=object)"
            ]
          },
          "metadata": {},
          "execution_count": 307
        }
      ]
    },
    {
      "cell_type": "code",
      "source": [
        "# clean Rating column\n",
        "df_new=df[df.rate=='NEW']\n",
        "df_new.head()"
      ],
      "metadata": {
        "colab": {
          "base_uri": "https://localhost:8080/",
          "height": 528
        },
        "id": "hH_jW0tOYVUp",
        "outputId": "4981389f-e023-4636-e495-55ebdac5a69d"
      },
      "execution_count": 308,
      "outputs": [
        {
          "output_type": "execute_result",
          "data": {
            "text/plain": [
              "                                               address  \\\n",
              "72   Opposite ICICi Bank, Hanuman Nagar, Banashanka...   \n",
              "75   39, S B M Colony, Near-Sita Circle, 1st Stage,...   \n",
              "110  594, 24 The Cross BSK, Opposte Oriental Bank, ...   \n",
              "130  28, 4th Cross Road, Dwaraka Nagar, Banashankar...   \n",
              "131  3/16, 22 Main Road, Magenta Block, PES College...   \n",
              "\n",
              "                          name online_order book_table rate  votes  \\\n",
              "72               Spicy Tandoor           No         No  NEW      0   \n",
              "75       Om Sri Vinayaka Chats           No         No  NEW      0   \n",
              "110        Hari Super Sandwich           No         No  NEW      0   \n",
              "130       Roll Magic Fast Food           No         No  NEW      0   \n",
              "131  Foodlieious Multi Cuisine           No         No  NEW      0   \n",
              "\n",
              "         location           rest_type                    cuisines  \\\n",
              "72   Banashankari         Quick Bites                North Indian   \n",
              "75   Banashankari  Takeaway, Delivery      Street Food, Fast Food   \n",
              "110  Banashankari  Takeaway, Delivery  Sandwich, Pizza, Beverages   \n",
              "130  Banashankari  Takeaway, Delivery     Biryani, Rolls, Chinese   \n",
              "131  Banashankari         Quick Bites                North Indian   \n",
              "\n",
              "    approx_cost(for two people)  \\\n",
              "72                          150   \n",
              "75                          500   \n",
              "110                         200   \n",
              "130                         200   \n",
              "131                         100   \n",
              "\n",
              "                                          reviews_list menu_item  \\\n",
              "72   [('Rated 4.0', 'RATED\\n  cost for chicken roll...        []   \n",
              "75                                                  []        []   \n",
              "110  [('Rated 1.0', 'RATED\\n  I have been here many...        []   \n",
              "130                                                 []        []   \n",
              "131                                                 []        []   \n",
              "\n",
              "    listed_in(type) listed_in(city)  \n",
              "72         Delivery    Banashankari  \n",
              "75         Delivery    Banashankari  \n",
              "110        Delivery    Banashankari  \n",
              "130        Delivery    Banashankari  \n",
              "131        Delivery    Banashankari  "
            ],
            "text/html": [
              "\n",
              "  <div id=\"df-f1e0c617-f396-4b45-a29c-4d1c3fae31bd\">\n",
              "    <div class=\"colab-df-container\">\n",
              "      <div>\n",
              "<style scoped>\n",
              "    .dataframe tbody tr th:only-of-type {\n",
              "        vertical-align: middle;\n",
              "    }\n",
              "\n",
              "    .dataframe tbody tr th {\n",
              "        vertical-align: top;\n",
              "    }\n",
              "\n",
              "    .dataframe thead th {\n",
              "        text-align: right;\n",
              "    }\n",
              "</style>\n",
              "<table border=\"1\" class=\"dataframe\">\n",
              "  <thead>\n",
              "    <tr style=\"text-align: right;\">\n",
              "      <th></th>\n",
              "      <th>address</th>\n",
              "      <th>name</th>\n",
              "      <th>online_order</th>\n",
              "      <th>book_table</th>\n",
              "      <th>rate</th>\n",
              "      <th>votes</th>\n",
              "      <th>location</th>\n",
              "      <th>rest_type</th>\n",
              "      <th>cuisines</th>\n",
              "      <th>approx_cost(for two people)</th>\n",
              "      <th>reviews_list</th>\n",
              "      <th>menu_item</th>\n",
              "      <th>listed_in(type)</th>\n",
              "      <th>listed_in(city)</th>\n",
              "    </tr>\n",
              "  </thead>\n",
              "  <tbody>\n",
              "    <tr>\n",
              "      <th>72</th>\n",
              "      <td>Opposite ICICi Bank, Hanuman Nagar, Banashanka...</td>\n",
              "      <td>Spicy Tandoor</td>\n",
              "      <td>No</td>\n",
              "      <td>No</td>\n",
              "      <td>NEW</td>\n",
              "      <td>0</td>\n",
              "      <td>Banashankari</td>\n",
              "      <td>Quick Bites</td>\n",
              "      <td>North Indian</td>\n",
              "      <td>150</td>\n",
              "      <td>[('Rated 4.0', 'RATED\\n  cost for chicken roll...</td>\n",
              "      <td>[]</td>\n",
              "      <td>Delivery</td>\n",
              "      <td>Banashankari</td>\n",
              "    </tr>\n",
              "    <tr>\n",
              "      <th>75</th>\n",
              "      <td>39, S B M Colony, Near-Sita Circle, 1st Stage,...</td>\n",
              "      <td>Om Sri Vinayaka Chats</td>\n",
              "      <td>No</td>\n",
              "      <td>No</td>\n",
              "      <td>NEW</td>\n",
              "      <td>0</td>\n",
              "      <td>Banashankari</td>\n",
              "      <td>Takeaway, Delivery</td>\n",
              "      <td>Street Food, Fast Food</td>\n",
              "      <td>500</td>\n",
              "      <td>[]</td>\n",
              "      <td>[]</td>\n",
              "      <td>Delivery</td>\n",
              "      <td>Banashankari</td>\n",
              "    </tr>\n",
              "    <tr>\n",
              "      <th>110</th>\n",
              "      <td>594, 24 The Cross BSK, Opposte Oriental Bank, ...</td>\n",
              "      <td>Hari Super Sandwich</td>\n",
              "      <td>No</td>\n",
              "      <td>No</td>\n",
              "      <td>NEW</td>\n",
              "      <td>0</td>\n",
              "      <td>Banashankari</td>\n",
              "      <td>Takeaway, Delivery</td>\n",
              "      <td>Sandwich, Pizza, Beverages</td>\n",
              "      <td>200</td>\n",
              "      <td>[('Rated 1.0', 'RATED\\n  I have been here many...</td>\n",
              "      <td>[]</td>\n",
              "      <td>Delivery</td>\n",
              "      <td>Banashankari</td>\n",
              "    </tr>\n",
              "    <tr>\n",
              "      <th>130</th>\n",
              "      <td>28, 4th Cross Road, Dwaraka Nagar, Banashankar...</td>\n",
              "      <td>Roll Magic Fast Food</td>\n",
              "      <td>No</td>\n",
              "      <td>No</td>\n",
              "      <td>NEW</td>\n",
              "      <td>0</td>\n",
              "      <td>Banashankari</td>\n",
              "      <td>Takeaway, Delivery</td>\n",
              "      <td>Biryani, Rolls, Chinese</td>\n",
              "      <td>200</td>\n",
              "      <td>[]</td>\n",
              "      <td>[]</td>\n",
              "      <td>Delivery</td>\n",
              "      <td>Banashankari</td>\n",
              "    </tr>\n",
              "    <tr>\n",
              "      <th>131</th>\n",
              "      <td>3/16, 22 Main Road, Magenta Block, PES College...</td>\n",
              "      <td>Foodlieious Multi Cuisine</td>\n",
              "      <td>No</td>\n",
              "      <td>No</td>\n",
              "      <td>NEW</td>\n",
              "      <td>0</td>\n",
              "      <td>Banashankari</td>\n",
              "      <td>Quick Bites</td>\n",
              "      <td>North Indian</td>\n",
              "      <td>100</td>\n",
              "      <td>[]</td>\n",
              "      <td>[]</td>\n",
              "      <td>Delivery</td>\n",
              "      <td>Banashankari</td>\n",
              "    </tr>\n",
              "  </tbody>\n",
              "</table>\n",
              "</div>\n",
              "      <button class=\"colab-df-convert\" onclick=\"convertToInteractive('df-f1e0c617-f396-4b45-a29c-4d1c3fae31bd')\"\n",
              "              title=\"Convert this dataframe to an interactive table.\"\n",
              "              style=\"display:none;\">\n",
              "        \n",
              "  <svg xmlns=\"http://www.w3.org/2000/svg\" height=\"24px\"viewBox=\"0 0 24 24\"\n",
              "       width=\"24px\">\n",
              "    <path d=\"M0 0h24v24H0V0z\" fill=\"none\"/>\n",
              "    <path d=\"M18.56 5.44l.94 2.06.94-2.06 2.06-.94-2.06-.94-.94-2.06-.94 2.06-2.06.94zm-11 1L8.5 8.5l.94-2.06 2.06-.94-2.06-.94L8.5 2.5l-.94 2.06-2.06.94zm10 10l.94 2.06.94-2.06 2.06-.94-2.06-.94-.94-2.06-.94 2.06-2.06.94z\"/><path d=\"M17.41 7.96l-1.37-1.37c-.4-.4-.92-.59-1.43-.59-.52 0-1.04.2-1.43.59L10.3 9.45l-7.72 7.72c-.78.78-.78 2.05 0 2.83L4 21.41c.39.39.9.59 1.41.59.51 0 1.02-.2 1.41-.59l7.78-7.78 2.81-2.81c.8-.78.8-2.07 0-2.86zM5.41 20L4 18.59l7.72-7.72 1.47 1.35L5.41 20z\"/>\n",
              "  </svg>\n",
              "      </button>\n",
              "      \n",
              "  <style>\n",
              "    .colab-df-container {\n",
              "      display:flex;\n",
              "      flex-wrap:wrap;\n",
              "      gap: 12px;\n",
              "    }\n",
              "\n",
              "    .colab-df-convert {\n",
              "      background-color: #E8F0FE;\n",
              "      border: none;\n",
              "      border-radius: 50%;\n",
              "      cursor: pointer;\n",
              "      display: none;\n",
              "      fill: #1967D2;\n",
              "      height: 32px;\n",
              "      padding: 0 0 0 0;\n",
              "      width: 32px;\n",
              "    }\n",
              "\n",
              "    .colab-df-convert:hover {\n",
              "      background-color: #E2EBFA;\n",
              "      box-shadow: 0px 1px 2px rgba(60, 64, 67, 0.3), 0px 1px 3px 1px rgba(60, 64, 67, 0.15);\n",
              "      fill: #174EA6;\n",
              "    }\n",
              "\n",
              "    [theme=dark] .colab-df-convert {\n",
              "      background-color: #3B4455;\n",
              "      fill: #D2E3FC;\n",
              "    }\n",
              "\n",
              "    [theme=dark] .colab-df-convert:hover {\n",
              "      background-color: #434B5C;\n",
              "      box-shadow: 0px 1px 3px 1px rgba(0, 0, 0, 0.15);\n",
              "      filter: drop-shadow(0px 1px 2px rgba(0, 0, 0, 0.3));\n",
              "      fill: #FFFFFF;\n",
              "    }\n",
              "  </style>\n",
              "\n",
              "      <script>\n",
              "        const buttonEl =\n",
              "          document.querySelector('#df-f1e0c617-f396-4b45-a29c-4d1c3fae31bd button.colab-df-convert');\n",
              "        buttonEl.style.display =\n",
              "          google.colab.kernel.accessAllowed ? 'block' : 'none';\n",
              "\n",
              "        async function convertToInteractive(key) {\n",
              "          const element = document.querySelector('#df-f1e0c617-f396-4b45-a29c-4d1c3fae31bd');\n",
              "          const dataTable =\n",
              "            await google.colab.kernel.invokeFunction('convertToInteractive',\n",
              "                                                     [key], {});\n",
              "          if (!dataTable) return;\n",
              "\n",
              "          const docLinkHtml = 'Like what you see? Visit the ' +\n",
              "            '<a target=\"_blank\" href=https://colab.research.google.com/notebooks/data_table.ipynb>data table notebook</a>'\n",
              "            + ' to learn more about interactive tables.';\n",
              "          element.innerHTML = '';\n",
              "          dataTable['output_type'] = 'display_data';\n",
              "          await google.colab.output.renderOutput(dataTable, element);\n",
              "          const docLink = document.createElement('div');\n",
              "          docLink.innerHTML = docLinkHtml;\n",
              "          element.appendChild(docLink);\n",
              "        }\n",
              "      </script>\n",
              "    </div>\n",
              "  </div>\n",
              "  "
            ]
          },
          "metadata": {},
          "execution_count": 308
        }
      ]
    },
    {
      "cell_type": "code",
      "source": [
        "df_new.shape\n",
        "#So from 43K Non NA rate values we will be saving 2K rows separately for future analysis and remaining 41K will be used"
      ],
      "metadata": {
        "colab": {
          "base_uri": "https://localhost:8080/"
        },
        "id": "MZGc0npbYeh8",
        "outputId": "be46ee28-83bd-455f-c124-0bf373c68520"
      },
      "execution_count": 309,
      "outputs": [
        {
          "output_type": "execute_result",
          "data": {
            "text/plain": [
              "(2197, 14)"
            ]
          },
          "metadata": {},
          "execution_count": 309
        }
      ]
    },
    {
      "cell_type": "code",
      "execution_count": 310,
      "metadata": {
        "colab": {
          "base_uri": "https://localhost:8080/"
        },
        "id": "CxePBAxh0TdO",
        "outputId": "b5e885bb-8c18-4eaa-dfa2-5e696a76444e"
      },
      "outputs": [
        {
          "output_type": "execute_result",
          "data": {
            "text/plain": [
              "0    4.1\n",
              "1    4.1\n",
              "2    3.8\n",
              "3    3.7\n",
              "4    3.8\n",
              "Name: rate, dtype: float64"
            ]
          },
          "metadata": {},
          "execution_count": 310
        }
      ],
      "source": [
        "# clean Rating column\n",
        "df = df.loc[df.rate !='NEW']\n",
        "df = df.loc[df.rate !='-'].reset_index(drop=True)\n",
        "remove_slash = lambda x: x.replace('/5', '') if type(x) == np.str else x\n",
        "df.rate = df.rate.apply(remove_slash).str.strip().astype('float')\n",
        "df['rate'].head()"
      ]
    },
    {
      "cell_type": "code",
      "source": [
        "df.shape\n",
        "#41K rows and 14 columns"
      ],
      "metadata": {
        "colab": {
          "base_uri": "https://localhost:8080/"
        },
        "id": "24jp738yZTcs",
        "outputId": "b9e31ca7-3081-47e1-9414-1a310e745d0f"
      },
      "execution_count": 311,
      "outputs": [
        {
          "output_type": "execute_result",
          "data": {
            "text/plain": [
              "(41237, 14)"
            ]
          },
          "metadata": {},
          "execution_count": 311
        }
      ]
    },
    {
      "cell_type": "code",
      "execution_count": 312,
      "metadata": {
        "colab": {
          "base_uri": "https://localhost:8080/"
        },
        "id": "2BAf2rPZ0Ypq",
        "outputId": "f13a8a26-2592-4e06-d9aa-9c7cdbd5715d"
      },
      "outputs": [
        {
          "output_type": "stream",
          "name": "stdout",
          "text": [
            "<class 'pandas.core.frame.DataFrame'>\n",
            "RangeIndex: 41237 entries, 0 to 41236\n",
            "Data columns (total 14 columns):\n",
            " #   Column                       Non-Null Count  Dtype  \n",
            "---  ------                       --------------  -----  \n",
            " 0   address                      41237 non-null  object \n",
            " 1   name                         41237 non-null  object \n",
            " 2   online_order                 41237 non-null  object \n",
            " 3   book_table                   41237 non-null  object \n",
            " 4   rate                         41237 non-null  float64\n",
            " 5   votes                        41237 non-null  int64  \n",
            " 6   location                     41237 non-null  object \n",
            " 7   rest_type                    41237 non-null  object \n",
            " 8   cuisines                     41237 non-null  object \n",
            " 9   approx_cost(for two people)  41237 non-null  float64\n",
            " 10  reviews_list                 41237 non-null  object \n",
            " 11  menu_item                    41237 non-null  object \n",
            " 12  listed_in(type)              41237 non-null  object \n",
            " 13  listed_in(city)              41237 non-null  object \n",
            "dtypes: float64(2), int64(1), object(11)\n",
            "memory usage: 4.4+ MB\n"
          ]
        }
      ],
      "source": [
        "# Cleaning individual columns. This updated table will be used for Data Exploration Milestone. 41K rows in all columns without NAs\n",
        "\n",
        "# Cost for 2 people is in object data type we need to convert it to float\n",
        "df['approx_cost(for two people)'] = df['approx_cost(for two people)'].astype(str)\n",
        "df['approx_cost(for two people)'] = df['approx_cost(for two people)'].apply(lambda x: x.replace(',','.'))\n",
        "df['approx_cost(for two people)'] = df['approx_cost(for two people)'].astype(float)\n",
        "df.info()"
      ]
    },
    {
      "cell_type": "code",
      "execution_count": 313,
      "metadata": {
        "colab": {
          "base_uri": "https://localhost:8080/"
        },
        "id": "8q_HTZmCP6wZ",
        "outputId": "293aa311-5cf9-4a4f-f8ae-176b037adc68"
      },
      "outputs": [
        {
          "output_type": "execute_result",
          "data": {
            "text/plain": [
              "6602"
            ]
          },
          "metadata": {},
          "execution_count": 313
        }
      ],
      "source": [
        "#Checking unique restaurant brands\n",
        "len(df.name.unique())"
      ]
    },
    {
      "cell_type": "code",
      "execution_count": 314,
      "metadata": {
        "colab": {
          "base_uri": "https://localhost:8080/"
        },
        "id": "5IZpUsvH0eYR",
        "outputId": "bbc0a10b-01bf-460e-cb61-5c562eb0dcca"
      },
      "outputs": [
        {
          "output_type": "execute_result",
          "data": {
            "text/plain": [
              "Cafe Coffee Day                   86\n",
              "Onesta                            85\n",
              "Empire Restaurant                 69\n",
              "Kanti Sweets                      68\n",
              "Five Star Chicken                 68\n",
              "                                  ..\n",
              "Daafoodies                         1\n",
              "I Siri Restaurant And Caterers     1\n",
              "The Foodware Veg                   1\n",
              "Hotel Thalassery                   1\n",
              "SeeYa Restaurant                   1\n",
              "Name: name, Length: 6602, dtype: int64"
            ]
          },
          "metadata": {},
          "execution_count": 314
        }
      ],
      "source": [
        "# Checking no of resturants listed on Zomato\n",
        "# There are 9k resturants listed on Zomato in Bangalore city. 6602 are unique restaurant brands. \n",
        "# Multiple entries are due to restaurant chains across the bangalore city.\n",
        "#These ~9K restautants in Bangalore have multiple rows. \n",
        "\n",
        "# k = df.name.unique()\n",
        "# len(k)\n",
        "\n",
        "df.name.value_counts()"
      ]
    },
    {
      "cell_type": "code",
      "source": [
        "#Renaming columns\n",
        "df.columns\n",
        "df = df.rename(columns={'approx_cost(for two people)':'cost','listed_in(type)':'type',\n",
        "                                  'listed_in(city)':'city'})"
      ],
      "metadata": {
        "id": "PBmibzBC6OO1"
      },
      "execution_count": 315,
      "outputs": []
    },
    {
      "cell_type": "markdown",
      "source": [
        "# Exploratory Data Analysis"
      ],
      "metadata": {
        "id": "imICcsV6ydD0"
      }
    },
    {
      "cell_type": "markdown",
      "source": [
        "In the EDA section, we have created a temp dataframe at location, name and address level and the respective metric being analyzed. Location, name and address is the unique identifier for any restaurant, so those columns were picked everytime to get data at a restaurant level for each analysis"
      ],
      "metadata": {
        "id": "Amrh4cdHb1Fo"
      }
    },
    {
      "cell_type": "code",
      "source": [
        "#Data Prep for Q1\n",
        "df_viz=df[['location','name','address']]\n",
        "df_viz.drop_duplicates(inplace=True)"
      ],
      "metadata": {
        "id": "KlOeT1ojnceE"
      },
      "execution_count": null,
      "outputs": []
    },
    {
      "cell_type": "markdown",
      "source": [
        "Question 1: How many restaurants are located in each area within Bangalore?\n",
        "\n",
        "Insight 1: Whitefield, BTM Layout, and HSR Layout are the top 3 areas with the most restaurants. "
      ],
      "metadata": {
        "id": "_p84niSOzI23"
      }
    },
    {
      "cell_type": "code",
      "execution_count": null,
      "metadata": {
        "colab": {
          "base_uri": "https://localhost:8080/",
          "height": 591
        },
        "id": "DwEGzv6t0jPc",
        "outputId": "f96abafa-1c0f-422a-8a74-876bfbab8d1d"
      },
      "outputs": [
        {
          "output_type": "execute_result",
          "data": {
            "text/plain": [
              "Text(0, 0.5, 'Total no. of Restaurant')"
            ]
          },
          "metadata": {},
          "execution_count": 41
        },
        {
          "output_type": "display_data",
          "data": {
            "text/plain": [
              "<Figure size 1440x504 with 1 Axes>"
            ],
            "image/png": "[encoded data removed]"
          },
          "metadata": {
            "needs_background": "light"
          }
        }
      ],
      "source": [
        "#Finding number of restaurants in each area in Bangalore. Area is split by Zip code names. \n",
        "#So essentially visualizing the number of restaurants in each zipcode\n",
        "#df.location.value_counts()\n",
        "plt.figure(figsize=(20,7))\n",
        "plt.xticks(rotation=90)\n",
        "p=sns.countplot('location', data=df_viz,order = df_viz['location'].value_counts().index);\n",
        "p.set_title(\"No. of Restaurants in different locations in Bangalore City\")\n",
        "p.set_xlabel(\"Location\", fontsize = 20)\n",
        "p.set_ylabel(\"Total no. of Restaurant\", fontsize = 20)\n",
        "#We will later explore the trend in Geo Heatmap to understand factors that resulted in the areas having a certain number of restuarant.\n",
        "#Showing this plot for better explainability"
      ]
    },
    {
      "cell_type": "code",
      "source": [
        "#Data Prep for Q2\n",
        "df_viz=df[['location','name','address','rate']]\n",
        "df_viz.drop_duplicates(inplace=True)"
      ],
      "metadata": {
        "id": "6828qxgtqcwU"
      },
      "execution_count": null,
      "outputs": []
    },
    {
      "cell_type": "markdown",
      "source": [
        "Question 2: How does ratings vary with restaurants?\n",
        "\n",
        "Insight 2: Most restaurants have an average rating of 3.7 and standard deviation of 0.44\n",
        "\n",
        "The trend looks like a normal distribution. We can say that:\n",
        "\n",
        "1) When Rating is between 4.5 to 4.9---> Excellent \n",
        "\n",
        "2) When Rating are between 4.0 to 3.4--->Very good \n",
        "\n",
        "3) When Rating is between 3.5 to 3.9----> Good \n",
        "\n",
        "4) When Rating is between 3.0 to 3.4----> Average \n",
        "\n",
        "5) When Rating is between 2.5 to 2.9----> Average \n",
        "\n",
        "6) When Rating is below 2.4----> Poor"
      ],
      "metadata": {
        "id": "LXE-nxvz6wPT"
      }
    },
    {
      "cell_type": "code",
      "source": [
        "# Preprocessing and finding counting the number of restaurants with the same rating to see the distribution\n",
        "city_names=df_viz.location.value_counts().index\n",
        "city_val=df_viz.location.value_counts().values\n",
        "ratings=df_viz.groupby(['rate']).size().reset_index().rename(columns={0:'Rating Count'})\n",
        "ratings.head()\n",
        "#We can now visualize the data."
      ],
      "metadata": {
        "colab": {
          "base_uri": "https://localhost:8080/",
          "height": 206
        },
        "id": "-oyUe-zr6vxc",
        "outputId": "0b23ab29-378a-4f8e-d6e6-56815e5b7a4f"
      },
      "execution_count": null,
      "outputs": [
        {
          "output_type": "execute_result",
          "data": {
            "text/plain": [
              "   rate  Rating Count\n",
              "0   1.8             1\n",
              "1   2.0             2\n",
              "2   2.1             6\n",
              "3   2.2             6\n",
              "4   2.3            14"
            ],
            "text/html": [
              "\n",
              "  <div id=\"df-d9ee9e31-40ce-4dab-84db-a60b1d78c230\">\n",
              "    <div class=\"colab-df-container\">\n",
              "      <div>\n",
              "<style scoped>\n",
              "    .dataframe tbody tr th:only-of-type {\n",
              "        vertical-align: middle;\n",
              "    }\n",
              "\n",
              "    .dataframe tbody tr th {\n",
              "        vertical-align: top;\n",
              "    }\n",
              "\n",
              "    .dataframe thead th {\n",
              "        text-align: right;\n",
              "    }\n",
              "</style>\n",
              "<table border=\"1\" class=\"dataframe\">\n",
              "  <thead>\n",
              "    <tr style=\"text-align: right;\">\n",
              "      <th></th>\n",
              "      <th>rate</th>\n",
              "      <th>Rating Count</th>\n",
              "    </tr>\n",
              "  </thead>\n",
              "  <tbody>\n",
              "    <tr>\n",
              "      <th>0</th>\n",
              "      <td>1.8</td>\n",
              "      <td>1</td>\n",
              "    </tr>\n",
              "    <tr>\n",
              "      <th>1</th>\n",
              "      <td>2.0</td>\n",
              "      <td>2</td>\n",
              "    </tr>\n",
              "    <tr>\n",
              "      <th>2</th>\n",
              "      <td>2.1</td>\n",
              "      <td>6</td>\n",
              "    </tr>\n",
              "    <tr>\n",
              "      <th>3</th>\n",
              "      <td>2.2</td>\n",
              "      <td>6</td>\n",
              "    </tr>\n",
              "    <tr>\n",
              "      <th>4</th>\n",
              "      <td>2.3</td>\n",
              "      <td>14</td>\n",
              "    </tr>\n",
              "  </tbody>\n",
              "</table>\n",
              "</div>\n",
              "      <button class=\"colab-df-convert\" onclick=\"convertToInteractive('df-d9ee9e31-40ce-4dab-84db-a60b1d78c230')\"\n",
              "              title=\"Convert this dataframe to an interactive table.\"\n",
              "              style=\"display:none;\">\n",
              "        \n",
              "  <svg xmlns=\"http://www.w3.org/2000/svg\" height=\"24px\"viewBox=\"0 0 24 24\"\n",
              "       width=\"24px\">\n",
              "    <path d=\"M0 0h24v24H0V0z\" fill=\"none\"/>\n",
              "    <path d=\"M18.56 5.44l.94 2.06.94-2.06 2.06-.94-2.06-.94-.94-2.06-.94 2.06-2.06.94zm-11 1L8.5 8.5l.94-2.06 2.06-.94-2.06-.94L8.5 2.5l-.94 2.06-2.06.94zm10 10l.94 2.06.94-2.06 2.06-.94-2.06-.94-.94-2.06-.94 2.06-2.06.94z\"/><path d=\"M17.41 7.96l-1.37-1.37c-.4-.4-.92-.59-1.43-.59-.52 0-1.04.2-1.43.59L10.3 9.45l-7.72 7.72c-.78.78-.78 2.05 0 2.83L4 21.41c.39.39.9.59 1.41.59.51 0 1.02-.2 1.41-.59l7.78-7.78 2.81-2.81c.8-.78.8-2.07 0-2.86zM5.41 20L4 18.59l7.72-7.72 1.47 1.35L5.41 20z\"/>\n",
              "  </svg>\n",
              "      </button>\n",
              "      \n",
              "  <style>\n",
              "    .colab-df-container {\n",
              "      display:flex;\n",
              "      flex-wrap:wrap;\n",
              "      gap: 12px;\n",
              "    }\n",
              "\n",
              "    .colab-df-convert {\n",
              "      background-color: #E8F0FE;\n",
              "      border: none;\n",
              "      border-radius: 50%;\n",
              "      cursor: pointer;\n",
              "      display: none;\n",
              "      fill: #1967D2;\n",
              "      height: 32px;\n",
              "      padding: 0 0 0 0;\n",
              "      width: 32px;\n",
              "    }\n",
              "\n",
              "    .colab-df-convert:hover {\n",
              "      background-color: #E2EBFA;\n",
              "      box-shadow: 0px 1px 2px rgba(60, 64, 67, 0.3), 0px 1px 3px 1px rgba(60, 64, 67, 0.15);\n",
              "      fill: #174EA6;\n",
              "    }\n",
              "\n",
              "    [theme=dark] .colab-df-convert {\n",
              "      background-color: #3B4455;\n",
              "      fill: #D2E3FC;\n",
              "    }\n",
              "\n",
              "    [theme=dark] .colab-df-convert:hover {\n",
              "      background-color: #434B5C;\n",
              "      box-shadow: 0px 1px 3px 1px rgba(0, 0, 0, 0.15);\n",
              "      filter: drop-shadow(0px 1px 2px rgba(0, 0, 0, 0.3));\n",
              "      fill: #FFFFFF;\n",
              "    }\n",
              "  </style>\n",
              "\n",
              "      <script>\n",
              "        const buttonEl =\n",
              "          document.querySelector('#df-d9ee9e31-40ce-4dab-84db-a60b1d78c230 button.colab-df-convert');\n",
              "        buttonEl.style.display =\n",
              "          google.colab.kernel.accessAllowed ? 'block' : 'none';\n",
              "\n",
              "        async function convertToInteractive(key) {\n",
              "          const element = document.querySelector('#df-d9ee9e31-40ce-4dab-84db-a60b1d78c230');\n",
              "          const dataTable =\n",
              "            await google.colab.kernel.invokeFunction('convertToInteractive',\n",
              "                                                     [key], {});\n",
              "          if (!dataTable) return;\n",
              "\n",
              "          const docLinkHtml = 'Like what you see? Visit the ' +\n",
              "            '<a target=\"_blank\" href=https://colab.research.google.com/notebooks/data_table.ipynb>data table notebook</a>'\n",
              "            + ' to learn more about interactive tables.';\n",
              "          element.innerHTML = '';\n",
              "          dataTable['output_type'] = 'display_data';\n",
              "          await google.colab.output.renderOutput(dataTable, element);\n",
              "          const docLink = document.createElement('div');\n",
              "          docLink.innerHTML = docLinkHtml;\n",
              "          element.appendChild(docLink);\n",
              "        }\n",
              "      </script>\n",
              "    </div>\n",
              "  </div>\n",
              "  "
            ]
          },
          "metadata": {},
          "execution_count": 49
        }
      ]
    },
    {
      "cell_type": "code",
      "execution_count": null,
      "metadata": {
        "colab": {
          "base_uri": "https://localhost:8080/",
          "height": 430
        },
        "id": "Lw6XYYHOqNry",
        "outputId": "6d17f93c-506c-46fd-a88d-6eac1ce6a247"
      },
      "outputs": [
        {
          "output_type": "execute_result",
          "data": {
            "text/plain": [
              "Text(0, 0.5, 'Total no. of Restaurant')"
            ]
          },
          "metadata": {},
          "execution_count": 50
        },
        {
          "output_type": "display_data",
          "data": {
            "text/plain": [
              "<Figure size 864x432 with 1 Axes>"
            ],
            "image/png": "[encoded data removed]"
          },
          "metadata": {
            "needs_background": "light"
          }
        }
      ],
      "source": [
        "plt.rcParams['figure.figsize'] = (12, 6)#Rating \n",
        "p=sns.barplot(x=\"rate\",y=\"Rating Count\",data=ratings)\n",
        "p.set_title(\"Restaurant Ratings spread in Bangalore City\")\n",
        "p.set_xlabel(\"Rating\", fontsize = 20)\n",
        "p.set_ylabel(\"Total no. of Restaurant\", fontsize = 20)"
      ]
    },
    {
      "cell_type": "code",
      "source": [
        "#Data Prep for Q3\n",
        "df_viz=df[['location','name','address','online_order','rate']]\n",
        "df_viz.drop_duplicates(inplace=True)"
      ],
      "metadata": {
        "id": "a4qtnlhesFht"
      },
      "execution_count": null,
      "outputs": []
    },
    {
      "cell_type": "markdown",
      "source": [
        "Question 3: How many restaurants offer Online ordering option and who offers offline only options\n",
        "\n",
        "Insight 3: Online ordering is so crucial to restaurant survival especially with the pandemic, 63% of restaurants in Bangalore have Online ordering as an option. Offline option is offered by Larger Restaurants like Hilton Bangalore and Ice Cream Parlors. Restaurants listed in offline ordering can have online option too.\n"
      ],
      "metadata": {
        "id": "APn8w-t5G2wf"
      }
    },
    {
      "cell_type": "code",
      "execution_count": null,
      "metadata": {
        "id": "dZi0qY-KqNry"
      },
      "outputs": [],
      "source": [
        "online_delivery = df_viz['online_order'].value_counts()\n",
        "#online_delivery"
      ]
    },
    {
      "cell_type": "code",
      "execution_count": null,
      "metadata": {
        "colab": {
          "base_uri": "https://localhost:8080/",
          "height": 390
        },
        "id": "qwexj4-TqNrz",
        "outputId": "6650aec9-1c5b-4ddc-97ea-6f359d72d6b6"
      },
      "outputs": [
        {
          "output_type": "execute_result",
          "data": {
            "text/plain": [
              "[]"
            ]
          },
          "metadata": {},
          "execution_count": 64
        },
        {
          "output_type": "display_data",
          "data": {
            "text/plain": [
              "<Figure size 864x432 with 1 Axes>"
            ],
            "image/png": "[encoded data removed]"
          },
          "metadata": {}
        }
      ],
      "source": [
        "plt.pie(online_delivery.values, labels= online_delivery.index, autopct='%1.2f%%')\n",
        "plt.title('Restaurants with Online Ordering option')\n",
        "plt.plot()  ##63% HAS ONLINE ordering option "
      ]
    },
    {
      "cell_type": "code",
      "source": [
        "X=df_viz\n",
        "highRatYes = X[(X[\"rate\"] >= 4.5) & (X[\"online_order\"] == \"Yes\")]\n",
        "ratOnline = highRatYes.shape[0]\n",
        "b = highRatYes.max()\n",
        "c = b[\"rate\"]\n",
        "a = b[\"name\"]\n",
        "print(f\"Name of Excellent Rated Restaurent: {a} and Rate is: {c}\")\n",
        "print(f\"Total {ratOnline} restaurents take online order and their rating above 4.5\")\n",
        "\n",
        "highRatNo = X[(X[\"rate\"] >= 4.5) & (X[\"online_order\"] == \"No\")]\n",
        "ratOffline = highRatNo.shape[0]\n",
        "b = highRatNo.max()\n",
        "c = b[\"rate\"]\n",
        "a = b[\"name\"]\n",
        "print(f\"Name of Excellent Rated Restaurent: {a} and Rate is: {c}\")\n",
        "print(f\"Total {ratOffline} restaurents take offline order and their rating above 4.5\")\n",
        "\n",
        "print(\"*\" * 50)\n",
        "\n",
        "midRatYes = X[(X[\"rate\"] >= 4.0) & (X[\"rate\"] <= 4.4) & (X[\"online_order\"] == \"Yes\")]\n",
        "ratOnline = midRatYes.shape[0]\n",
        "b = midRatYes.max()\n",
        "c = b[\"rate\"]\n",
        "a = b[\"name\"]\n",
        "print(f\"Name of Very Good Rated Restaurent: {a} and Rate is: {c}\")\n",
        "print(f\"Total {ratOnline} restaurents take online order and their rating between 4.0 to 4.4\")\n",
        "\n",
        "midRatNo = X[(X[\"rate\"] >= 4.0) & (X[\"rate\"] <= 4.4) & (X[\"online_order\"] == \"No\")]\n",
        "ratOffline = midRatNo.shape[0]\n",
        "b = midRatNo.max()\n",
        "c = b[\"rate\"]\n",
        "a = b[\"name\"]\n",
        "print(f\"Name of Very Good Rated Restaurent: {a} and Rate is: {c}\")\n",
        "print(f\"Total {ratOffline} restaurents take offline order and their rating between 4.0 to 4.4\")\n",
        "\n",
        "print(\"*\" * 50)\n",
        "\n",
        "lowRatYes = X[(X[\"rate\"] < 4.0) & (X[\"online_order\"] == \"Yes\")]\n",
        "ratOnline = lowRatYes.shape[0]\n",
        "b = lowRatYes.max()\n",
        "c = b[\"rate\"]\n",
        "a = b[\"name\"]\n",
        "print(f\"Name of Low Restaurent: {a} and Rate is: {c}\")\n",
        "print(f\"Total {ratOnline} restaurents take online order and their rating less 4.0\")\n",
        "\n",
        "lowRatNo = X[(X[\"rate\"] < 4.0) & (X[\"online_order\"] == \"No\")]\n",
        "ratOfline = lowRatNo.shape[0]\n",
        "b = lowRatNo.max()\n",
        "c = b[\"rate\"]\n",
        "a = b[\"name\"]\n",
        "print(f\"Name of Low Rated Restaurent: {a} and Rate is: {c}\")\n",
        "print(f\"Total {ratOfline} restaurents take offline order and their rating less 4.0\")\n",
        "\n",
        "## Offline option is offered by Larger Restaurants like Hilton Bangalore and Ice Cream Parlors"
      ],
      "metadata": {
        "colab": {
          "base_uri": "https://localhost:8080/"
        },
        "id": "rzsMCf6e8gk5",
        "outputId": "36902c0e-0fcf-47b6-f80b-c0165403bc05"
      },
      "execution_count": null,
      "outputs": [
        {
          "output_type": "stream",
          "name": "stdout",
          "text": [
            "Name of Excellent Rated Restaurent: eat.fit and Rate is: 4.9\n",
            "Total 110 restaurents take online order and their rating above 4.5\n",
            "Name of Excellent Rated Restaurent: Yauatcha and Rate is: 4.9\n",
            "Total 140 restaurents take offline order and their rating above 4.5\n",
            "**************************************************\n",
            "Name of Very Good Rated Restaurent: nu.tree and Rate is: 4.4\n",
            "Total 1543 restaurents take online order and their rating between 4.0 to 4.4\n",
            "Name of Very Good Rated Restaurent: re:cess - Hilton Bangalore Embassy GolfLinks and Rate is: 4.4\n",
            "Total 772 restaurents take offline order and their rating between 4.0 to 4.4\n",
            "**************************************************\n",
            "Name of Low Restaurent: iSpice Resto Cafe and Rate is: 3.9\n",
            "Total 5304 restaurents take online order and their rating less 4.0\n",
            "Name of Low Rated Restaurent: iFruit Live Ice Creams and Rate is: 3.9\n",
            "Total 3251 restaurents take offline order and their rating less 4.0\n"
          ]
        }
      ]
    },
    {
      "cell_type": "code",
      "source": [
        "#Data Prep for Q4\n",
        "df_viz=df[['location','name','address','book_table','rate']]\n",
        "df_viz.drop_duplicates(inplace=True)"
      ],
      "metadata": {
        "id": "QhxfVERHvZso"
      },
      "execution_count": null,
      "outputs": []
    },
    {
      "cell_type": "markdown",
      "source": [
        "Question 4: What percentage of restaurants have booking a table option?\n",
        "\n",
        "Insight 4: Only 10% offer the booking a table option on Zomato, this could be because of pandemic restrictions or restaurants not able to handle online booking. They might be preferring in person bookings only."
      ],
      "metadata": {
        "id": "ls2OeyCaI7yT"
      }
    },
    {
      "cell_type": "code",
      "execution_count": null,
      "metadata": {
        "colab": {
          "base_uri": "https://localhost:8080/"
        },
        "id": "CLeicT0VqNrz",
        "outputId": "550c0a4f-6135-405f-e4e9-6dd1a01fecc2"
      },
      "outputs": [
        {
          "output_type": "execute_result",
          "data": {
            "text/plain": [
              "No     9793\n",
              "Yes    1132\n",
              "Name: book_table, dtype: int64"
            ]
          },
          "metadata": {},
          "execution_count": 66
        }
      ],
      "source": [
        "book_table = df_viz['book_table'].value_counts()"
      ]
    },
    {
      "cell_type": "code",
      "execution_count": null,
      "metadata": {
        "colab": {
          "base_uri": "https://localhost:8080/",
          "height": 390
        },
        "id": "aOpnOV6WqNr0",
        "outputId": "90128413-8f8e-4278-ad0a-61fee00bd4e4"
      },
      "outputs": [
        {
          "output_type": "execute_result",
          "data": {
            "text/plain": [
              "[]"
            ]
          },
          "metadata": {},
          "execution_count": 67
        },
        {
          "output_type": "display_data",
          "data": {
            "text/plain": [
              "<Figure size 864x432 with 1 Axes>"
            ],
            "image/png": "[encoded data removed]"
          },
          "metadata": {}
        }
      ],
      "source": [
        "plt.pie(book_table.values, labels= book_table.index, autopct='%1.2f%%')\n",
        "plt.title('Restaurants allowing table booking or not')\n",
        "plt.plot() "
      ]
    },
    {
      "cell_type": "code",
      "source": [
        "#Data Prep for Q5\n",
        "df_viz=df[['location','name','address','votes','rate']]\n",
        "df_viz.drop_duplicates(inplace=True)"
      ],
      "metadata": {
        "id": "UMcsNzWXvfHG"
      },
      "execution_count": null,
      "outputs": []
    },
    {
      "cell_type": "markdown",
      "source": [
        "Question 5: Which areas in Bangalore vote the most, and what's the average number of votes for all areas\n",
        "\n",
        "Insight 5: \n",
        "\n",
        "Koramangala 5th Block has the highest number of votes and average votes, shows popularity of restaurants in Kormangala. \n",
        "\n",
        "Church Street and Lavelle road being areas being CBD regions in Bangalore have high average votes share. Could be that the quality of restaurants is really good or famous restaurants could be located in the area."
      ],
      "metadata": {
        "id": "gGtLHYAtKxBh"
      }
    },
    {
      "cell_type": "code",
      "execution_count": null,
      "metadata": {
        "colab": {
          "base_uri": "https://localhost:8080/"
        },
        "id": "SRx6RPK-qNr0",
        "outputId": "97859299-1549-41c2-8e0f-3f89a7114c88"
      },
      "outputs": [
        {
          "output_type": "execute_result",
          "data": {
            "text/plain": [
              "location\n",
              "Koramangala 5th Block    1112697\n",
              "Indiranagar               686022\n",
              "Church Street             295274\n",
              "JP Nagar                  291313\n",
              "Koramangala 4th Block     288269\n",
              "                          ...   \n",
              "Hebbal                       225\n",
              "Kengeri                      118\n",
              "Yelahanka                     88\n",
              "Nagarbhavi                    10\n",
              "Peenya                         5\n",
              "Name: votes, Length: 92, dtype: int64"
            ]
          },
          "metadata": {},
          "execution_count": 70
        }
      ],
      "source": [
        "df_viz.groupby('location')['votes'].sum().sort_values(ascending = False)"
      ]
    },
    {
      "cell_type": "code",
      "execution_count": null,
      "metadata": {
        "colab": {
          "base_uri": "https://localhost:8080/"
        },
        "id": "Ec721PFXqNr0",
        "outputId": "30e87929-ca93-4631-d821-0d3145467a5f"
      },
      "outputs": [
        {
          "output_type": "execute_result",
          "data": {
            "text/plain": [
              "location\n",
              "Koramangala 5th Block    1377.100248\n",
              "Church Street            1312.328889\n",
              "Lavelle Road             1177.595745\n",
              "St. Marks Road           1149.050420\n",
              "Koramangala 4th Block    1071.631970\n",
              "                            ...     \n",
              "Magadi Road                31.937500\n",
              "Jalahalli                  30.466667\n",
              "KR Puram                   29.875000\n",
              "Nagarbhavi                 10.000000\n",
              "Peenya                      5.000000\n",
              "Name: votes, Length: 92, dtype: float64"
            ]
          },
          "metadata": {},
          "execution_count": 71
        }
      ],
      "source": [
        "df_viz.groupby('location')['votes'].mean().sort_values(ascending = False)"
      ]
    },
    {
      "cell_type": "code",
      "source": [
        "#Data Prep for Q6\n",
        "df_viz=df[['location','name','address','cuisines']]\n",
        "df_viz.drop_duplicates(inplace=True)"
      ],
      "metadata": {
        "id": "iHop7XUzvh80"
      },
      "execution_count": null,
      "outputs": []
    },
    {
      "cell_type": "markdown",
      "source": [
        "Question 6: What are the most popular cuisines offered by restaurants?\n",
        "\n",
        "Insight 6: North Indian and Chinese cuisine is very popular in Bangalore."
      ],
      "metadata": {
        "id": "vaPKr3zZMVUT"
      }
    },
    {
      "cell_type": "code",
      "execution_count": null,
      "metadata": {
        "colab": {
          "base_uri": "https://localhost:8080/"
        },
        "id": "hQPWZ7IwqNr1",
        "outputId": "b5e998dd-826c-4d06-c725-d6f5425ffca4"
      },
      "outputs": [
        {
          "output_type": "execute_result",
          "data": {
            "text/plain": [
              "North Indian                                              497\n",
              "North Indian, Chinese                                     459\n",
              "South Indian                                              385\n",
              "Bakery, Desserts                                          187\n",
              "Biryani                                                   177\n",
              "                                                         ... \n",
              "Street Food, Mithai, North Indian, Beverages, Desserts      1\n",
              "Biryani, Beverages, South Indian                            1\n",
              "South Indian, North Indian, Kerala, Seafood                 1\n",
              "North Indian, Andhra, BBQ, Seafood, Chinese                 1\n",
              "North Indian, Chinese, Arabian, Momos                       1\n",
              "Name: cuisines, Length: 2367, dtype: int64"
            ]
          },
          "metadata": {},
          "execution_count": 97
        }
      ],
      "source": [
        "df_viz['cuisines'].value_counts()"
      ]
    },
    {
      "cell_type": "code",
      "source": [
        "par=df_viz['cuisines'].str.split(pat=',',expand=True)\n",
        "c=par[0].append(par[1], ignore_index = True)\n",
        "c=c.append(par[2], ignore_index = True)\n",
        "c=c.append(par[3], ignore_index = True)\n",
        "c=c.append(par[4], ignore_index = True)\n",
        "c=c.append(par[5], ignore_index = True)\n",
        "c=c.append(par[6], ignore_index = True)\n",
        "c=c.append(par[7], ignore_index = True)\n",
        "\n",
        "#Removing spaces and special characters\n",
        "import re\n",
        "remove_special = lambda x: re.sub('[!,/*)\\s@#%(&$_?.^]', '',str(x))\n",
        "c=c.apply(remove_special).str.lower()\n",
        "\n",
        "#Counting frequency using value count and storing result as dictionary\n",
        "d=c.value_counts().to_dict()\n",
        "\n",
        "#Converting the dictionary to data frame and resetting index so that I can save the index rest types as column\n",
        "data=pd.DataFrame.from_dict(d, orient='index',columns=['Frequency']).reset_index()\n",
        "\n",
        "#Renaming columns\n",
        "data.rename(columns={'index': 'Cuisines'}, inplace=True)\n",
        "data[1:]"
      ],
      "metadata": {
        "colab": {
          "base_uri": "https://localhost:8080/",
          "height": 423
        },
        "id": "eHYhz6K6VTyL",
        "outputId": "fd7403d1-cc63-4591-cc38-e44a632e7be1"
      },
      "execution_count": null,
      "outputs": [
        {
          "output_type": "execute_result",
          "data": {
            "text/plain": [
              "          Cuisines  Frequency\n",
              "1      northindian       4058\n",
              "2          chinese       3000\n",
              "3         fastfood       1746\n",
              "4      southindian       1696\n",
              "5          biryani       1369\n",
              "..             ...        ...\n",
              "101     australian          1\n",
              "102  southamerican          1\n",
              "103        belgian          1\n",
              "104          bohri          1\n",
              "105          vegan          1\n",
              "\n",
              "[105 rows x 2 columns]"
            ],
            "text/html": [
              "\n",
              "  <div id=\"df-1b5f62d1-713d-4695-aebe-5272190369ac\">\n",
              "    <div class=\"colab-df-container\">\n",
              "      <div>\n",
              "<style scoped>\n",
              "    .dataframe tbody tr th:only-of-type {\n",
              "        vertical-align: middle;\n",
              "    }\n",
              "\n",
              "    .dataframe tbody tr th {\n",
              "        vertical-align: top;\n",
              "    }\n",
              "\n",
              "    .dataframe thead th {\n",
              "        text-align: right;\n",
              "    }\n",
              "</style>\n",
              "<table border=\"1\" class=\"dataframe\">\n",
              "  <thead>\n",
              "    <tr style=\"text-align: right;\">\n",
              "      <th></th>\n",
              "      <th>Cuisines</th>\n",
              "      <th>Frequency</th>\n",
              "    </tr>\n",
              "  </thead>\n",
              "  <tbody>\n",
              "    <tr>\n",
              "      <th>1</th>\n",
              "      <td>northindian</td>\n",
              "      <td>4058</td>\n",
              "    </tr>\n",
              "    <tr>\n",
              "      <th>2</th>\n",
              "      <td>chinese</td>\n",
              "      <td>3000</td>\n",
              "    </tr>\n",
              "    <tr>\n",
              "      <th>3</th>\n",
              "      <td>fastfood</td>\n",
              "      <td>1746</td>\n",
              "    </tr>\n",
              "    <tr>\n",
              "      <th>4</th>\n",
              "      <td>southindian</td>\n",
              "      <td>1696</td>\n",
              "    </tr>\n",
              "    <tr>\n",
              "      <th>5</th>\n",
              "      <td>biryani</td>\n",
              "      <td>1369</td>\n",
              "    </tr>\n",
              "    <tr>\n",
              "      <th>...</th>\n",
              "      <td>...</td>\n",
              "      <td>...</td>\n",
              "    </tr>\n",
              "    <tr>\n",
              "      <th>101</th>\n",
              "      <td>australian</td>\n",
              "      <td>1</td>\n",
              "    </tr>\n",
              "    <tr>\n",
              "      <th>102</th>\n",
              "      <td>southamerican</td>\n",
              "      <td>1</td>\n",
              "    </tr>\n",
              "    <tr>\n",
              "      <th>103</th>\n",
              "      <td>belgian</td>\n",
              "      <td>1</td>\n",
              "    </tr>\n",
              "    <tr>\n",
              "      <th>104</th>\n",
              "      <td>bohri</td>\n",
              "      <td>1</td>\n",
              "    </tr>\n",
              "    <tr>\n",
              "      <th>105</th>\n",
              "      <td>vegan</td>\n",
              "      <td>1</td>\n",
              "    </tr>\n",
              "  </tbody>\n",
              "</table>\n",
              "<p>105 rows × 2 columns</p>\n",
              "</div>\n",
              "      <button class=\"colab-df-convert\" onclick=\"convertToInteractive('df-1b5f62d1-713d-4695-aebe-5272190369ac')\"\n",
              "              title=\"Convert this dataframe to an interactive table.\"\n",
              "              style=\"display:none;\">\n",
              "        \n",
              "  <svg xmlns=\"http://www.w3.org/2000/svg\" height=\"24px\"viewBox=\"0 0 24 24\"\n",
              "       width=\"24px\">\n",
              "    <path d=\"M0 0h24v24H0V0z\" fill=\"none\"/>\n",
              "    <path d=\"M18.56 5.44l.94 2.06.94-2.06 2.06-.94-2.06-.94-.94-2.06-.94 2.06-2.06.94zm-11 1L8.5 8.5l.94-2.06 2.06-.94-2.06-.94L8.5 2.5l-.94 2.06-2.06.94zm10 10l.94 2.06.94-2.06 2.06-.94-2.06-.94-.94-2.06-.94 2.06-2.06.94z\"/><path d=\"M17.41 7.96l-1.37-1.37c-.4-.4-.92-.59-1.43-.59-.52 0-1.04.2-1.43.59L10.3 9.45l-7.72 7.72c-.78.78-.78 2.05 0 2.83L4 21.41c.39.39.9.59 1.41.59.51 0 1.02-.2 1.41-.59l7.78-7.78 2.81-2.81c.8-.78.8-2.07 0-2.86zM5.41 20L4 18.59l7.72-7.72 1.47 1.35L5.41 20z\"/>\n",
              "  </svg>\n",
              "      </button>\n",
              "      \n",
              "  <style>\n",
              "    .colab-df-container {\n",
              "      display:flex;\n",
              "      flex-wrap:wrap;\n",
              "      gap: 12px;\n",
              "    }\n",
              "\n",
              "    .colab-df-convert {\n",
              "      background-color: #E8F0FE;\n",
              "      border: none;\n",
              "      border-radius: 50%;\n",
              "      cursor: pointer;\n",
              "      display: none;\n",
              "      fill: #1967D2;\n",
              "      height: 32px;\n",
              "      padding: 0 0 0 0;\n",
              "      width: 32px;\n",
              "    }\n",
              "\n",
              "    .colab-df-convert:hover {\n",
              "      background-color: #E2EBFA;\n",
              "      box-shadow: 0px 1px 2px rgba(60, 64, 67, 0.3), 0px 1px 3px 1px rgba(60, 64, 67, 0.15);\n",
              "      fill: #174EA6;\n",
              "    }\n",
              "\n",
              "    [theme=dark] .colab-df-convert {\n",
              "      background-color: #3B4455;\n",
              "      fill: #D2E3FC;\n",
              "    }\n",
              "\n",
              "    [theme=dark] .colab-df-convert:hover {\n",
              "      background-color: #434B5C;\n",
              "      box-shadow: 0px 1px 3px 1px rgba(0, 0, 0, 0.15);\n",
              "      filter: drop-shadow(0px 1px 2px rgba(0, 0, 0, 0.3));\n",
              "      fill: #FFFFFF;\n",
              "    }\n",
              "  </style>\n",
              "\n",
              "      <script>\n",
              "        const buttonEl =\n",
              "          document.querySelector('#df-1b5f62d1-713d-4695-aebe-5272190369ac button.colab-df-convert');\n",
              "        buttonEl.style.display =\n",
              "          google.colab.kernel.accessAllowed ? 'block' : 'none';\n",
              "\n",
              "        async function convertToInteractive(key) {\n",
              "          const element = document.querySelector('#df-1b5f62d1-713d-4695-aebe-5272190369ac');\n",
              "          const dataTable =\n",
              "            await google.colab.kernel.invokeFunction('convertToInteractive',\n",
              "                                                     [key], {});\n",
              "          if (!dataTable) return;\n",
              "\n",
              "          const docLinkHtml = 'Like what you see? Visit the ' +\n",
              "            '<a target=\"_blank\" href=https://colab.research.google.com/notebooks/data_table.ipynb>data table notebook</a>'\n",
              "            + ' to learn more about interactive tables.';\n",
              "          element.innerHTML = '';\n",
              "          dataTable['output_type'] = 'display_data';\n",
              "          await google.colab.output.renderOutput(dataTable, element);\n",
              "          const docLink = document.createElement('div');\n",
              "          docLink.innerHTML = docLinkHtml;\n",
              "          element.appendChild(docLink);\n",
              "        }\n",
              "      </script>\n",
              "    </div>\n",
              "  </div>\n",
              "  "
            ]
          },
          "metadata": {},
          "execution_count": 98
        }
      ]
    },
    {
      "cell_type": "code",
      "source": [
        "#Data Prep for Q7\n",
        "df_viz=df[['location','name','address','rest_type']]\n",
        "df_viz.drop_duplicates(inplace=True)"
      ],
      "metadata": {
        "id": "J1WMPEem44Kk"
      },
      "execution_count": null,
      "outputs": []
    },
    {
      "cell_type": "markdown",
      "source": [
        "Question 7: What are the most popular restaurant types?\n",
        "\n",
        "Insight 7: Quick Bites and Casual Dining restaurants are very popular in Bangalore. This could be because of the Sotware or IT professionals and young population of Bangalore. Quick Bites constitute of 35% of the total offerings. Another reason could be lower average dish prices for quick bite restaurants"
      ],
      "metadata": {
        "id": "TnFcG7mV4txd"
      }
    },
    {
      "cell_type": "code",
      "source": [
        "#Parsing the rest type column by comma separators\n",
        "par=df_viz['rest_type'].str.split(pat=',',expand=True)\n",
        "#Appending the parsed columns into one single column\n",
        "a=par[0]\n",
        "b=par[1]\n",
        "c=a.append(b, ignore_index = True)\n",
        "\n",
        "#Removing spaces and special characters\n",
        "import re\n",
        "remove_special = lambda x: re.sub('[!,/*)\\s@#%(&$_?.^]', '',str(x))\n",
        "c=c.apply(remove_special).str.lower()\n",
        "\n",
        "#Counting frequency using value count and storing result as dictionary\n",
        "d=c.value_counts().to_dict()\n",
        "\n",
        "#Converting the dictionary to data frame and resetting index so that I can save the index rest types as column\n",
        "data=pd.DataFrame.from_dict(d, orient='index',columns=['Frequency']).reset_index()\n",
        "\n",
        "#Renaming columns\n",
        "data.rename(columns={'index': 'Rest_type'}, inplace=True)\n",
        "data[1:]"
      ],
      "metadata": {
        "colab": {
          "base_uri": "https://localhost:8080/",
          "height": 802
        },
        "id": "YlWqwS5dJ8un",
        "outputId": "c892172f-b3f1-451c-8157-917a70d6df2c"
      },
      "execution_count": null,
      "outputs": [
        {
          "output_type": "execute_result",
          "data": {
            "text/plain": [
              "        Rest_type  Frequency\n",
              "1      quickbites       3895\n",
              "2    casualdining       2414\n",
              "3        delivery        997\n",
              "4            cafe        658\n",
              "5   dessertparlor        628\n",
              "6        takeaway        469\n",
              "7          bakery        337\n",
              "8    beverageshop        324\n",
              "9             bar        306\n",
              "10      foodcourt        188\n",
              "11      sweetshop        158\n",
              "12            pub        116\n",
              "13     finedining         92\n",
              "14         lounge         83\n",
              "15          kiosk         52\n",
              "16           mess         50\n",
              "17   microbrewery         47\n",
              "18      foodtruck         20\n",
              "19           club          6\n",
              "20          dhaba          5\n",
              "21  confectionery          3\n",
              "22     bhojanalya          1\n",
              "23     iranicafee          1\n",
              "24       meatshop          1"
            ],
            "text/html": [
              "\n",
              "  <div id=\"df-45795577-6bc6-4186-b325-9e70663a2059\">\n",
              "    <div class=\"colab-df-container\">\n",
              "      <div>\n",
              "<style scoped>\n",
              "    .dataframe tbody tr th:only-of-type {\n",
              "        vertical-align: middle;\n",
              "    }\n",
              "\n",
              "    .dataframe tbody tr th {\n",
              "        vertical-align: top;\n",
              "    }\n",
              "\n",
              "    .dataframe thead th {\n",
              "        text-align: right;\n",
              "    }\n",
              "</style>\n",
              "<table border=\"1\" class=\"dataframe\">\n",
              "  <thead>\n",
              "    <tr style=\"text-align: right;\">\n",
              "      <th></th>\n",
              "      <th>Rest_type</th>\n",
              "      <th>Frequency</th>\n",
              "    </tr>\n",
              "  </thead>\n",
              "  <tbody>\n",
              "    <tr>\n",
              "      <th>1</th>\n",
              "      <td>quickbites</td>\n",
              "      <td>3895</td>\n",
              "    </tr>\n",
              "    <tr>\n",
              "      <th>2</th>\n",
              "      <td>casualdining</td>\n",
              "      <td>2414</td>\n",
              "    </tr>\n",
              "    <tr>\n",
              "      <th>3</th>\n",
              "      <td>delivery</td>\n",
              "      <td>997</td>\n",
              "    </tr>\n",
              "    <tr>\n",
              "      <th>4</th>\n",
              "      <td>cafe</td>\n",
              "      <td>658</td>\n",
              "    </tr>\n",
              "    <tr>\n",
              "      <th>5</th>\n",
              "      <td>dessertparlor</td>\n",
              "      <td>628</td>\n",
              "    </tr>\n",
              "    <tr>\n",
              "      <th>6</th>\n",
              "      <td>takeaway</td>\n",
              "      <td>469</td>\n",
              "    </tr>\n",
              "    <tr>\n",
              "      <th>7</th>\n",
              "      <td>bakery</td>\n",
              "      <td>337</td>\n",
              "    </tr>\n",
              "    <tr>\n",
              "      <th>8</th>\n",
              "      <td>beverageshop</td>\n",
              "      <td>324</td>\n",
              "    </tr>\n",
              "    <tr>\n",
              "      <th>9</th>\n",
              "      <td>bar</td>\n",
              "      <td>306</td>\n",
              "    </tr>\n",
              "    <tr>\n",
              "      <th>10</th>\n",
              "      <td>foodcourt</td>\n",
              "      <td>188</td>\n",
              "    </tr>\n",
              "    <tr>\n",
              "      <th>11</th>\n",
              "      <td>sweetshop</td>\n",
              "      <td>158</td>\n",
              "    </tr>\n",
              "    <tr>\n",
              "      <th>12</th>\n",
              "      <td>pub</td>\n",
              "      <td>116</td>\n",
              "    </tr>\n",
              "    <tr>\n",
              "      <th>13</th>\n",
              "      <td>finedining</td>\n",
              "      <td>92</td>\n",
              "    </tr>\n",
              "    <tr>\n",
              "      <th>14</th>\n",
              "      <td>lounge</td>\n",
              "      <td>83</td>\n",
              "    </tr>\n",
              "    <tr>\n",
              "      <th>15</th>\n",
              "      <td>kiosk</td>\n",
              "      <td>52</td>\n",
              "    </tr>\n",
              "    <tr>\n",
              "      <th>16</th>\n",
              "      <td>mess</td>\n",
              "      <td>50</td>\n",
              "    </tr>\n",
              "    <tr>\n",
              "      <th>17</th>\n",
              "      <td>microbrewery</td>\n",
              "      <td>47</td>\n",
              "    </tr>\n",
              "    <tr>\n",
              "      <th>18</th>\n",
              "      <td>foodtruck</td>\n",
              "      <td>20</td>\n",
              "    </tr>\n",
              "    <tr>\n",
              "      <th>19</th>\n",
              "      <td>club</td>\n",
              "      <td>6</td>\n",
              "    </tr>\n",
              "    <tr>\n",
              "      <th>20</th>\n",
              "      <td>dhaba</td>\n",
              "      <td>5</td>\n",
              "    </tr>\n",
              "    <tr>\n",
              "      <th>21</th>\n",
              "      <td>confectionery</td>\n",
              "      <td>3</td>\n",
              "    </tr>\n",
              "    <tr>\n",
              "      <th>22</th>\n",
              "      <td>bhojanalya</td>\n",
              "      <td>1</td>\n",
              "    </tr>\n",
              "    <tr>\n",
              "      <th>23</th>\n",
              "      <td>iranicafee</td>\n",
              "      <td>1</td>\n",
              "    </tr>\n",
              "    <tr>\n",
              "      <th>24</th>\n",
              "      <td>meatshop</td>\n",
              "      <td>1</td>\n",
              "    </tr>\n",
              "  </tbody>\n",
              "</table>\n",
              "</div>\n",
              "      <button class=\"colab-df-convert\" onclick=\"convertToInteractive('df-45795577-6bc6-4186-b325-9e70663a2059')\"\n",
              "              title=\"Convert this dataframe to an interactive table.\"\n",
              "              style=\"display:none;\">\n",
              "        \n",
              "  <svg xmlns=\"http://www.w3.org/2000/svg\" height=\"24px\"viewBox=\"0 0 24 24\"\n",
              "       width=\"24px\">\n",
              "    <path d=\"M0 0h24v24H0V0z\" fill=\"none\"/>\n",
              "    <path d=\"M18.56 5.44l.94 2.06.94-2.06 2.06-.94-2.06-.94-.94-2.06-.94 2.06-2.06.94zm-11 1L8.5 8.5l.94-2.06 2.06-.94-2.06-.94L8.5 2.5l-.94 2.06-2.06.94zm10 10l.94 2.06.94-2.06 2.06-.94-2.06-.94-.94-2.06-.94 2.06-2.06.94z\"/><path d=\"M17.41 7.96l-1.37-1.37c-.4-.4-.92-.59-1.43-.59-.52 0-1.04.2-1.43.59L10.3 9.45l-7.72 7.72c-.78.78-.78 2.05 0 2.83L4 21.41c.39.39.9.59 1.41.59.51 0 1.02-.2 1.41-.59l7.78-7.78 2.81-2.81c.8-.78.8-2.07 0-2.86zM5.41 20L4 18.59l7.72-7.72 1.47 1.35L5.41 20z\"/>\n",
              "  </svg>\n",
              "      </button>\n",
              "      \n",
              "  <style>\n",
              "    .colab-df-container {\n",
              "      display:flex;\n",
              "      flex-wrap:wrap;\n",
              "      gap: 12px;\n",
              "    }\n",
              "\n",
              "    .colab-df-convert {\n",
              "      background-color: #E8F0FE;\n",
              "      border: none;\n",
              "      border-radius: 50%;\n",
              "      cursor: pointer;\n",
              "      display: none;\n",
              "      fill: #1967D2;\n",
              "      height: 32px;\n",
              "      padding: 0 0 0 0;\n",
              "      width: 32px;\n",
              "    }\n",
              "\n",
              "    .colab-df-convert:hover {\n",
              "      background-color: #E2EBFA;\n",
              "      box-shadow: 0px 1px 2px rgba(60, 64, 67, 0.3), 0px 1px 3px 1px rgba(60, 64, 67, 0.15);\n",
              "      fill: #174EA6;\n",
              "    }\n",
              "\n",
              "    [theme=dark] .colab-df-convert {\n",
              "      background-color: #3B4455;\n",
              "      fill: #D2E3FC;\n",
              "    }\n",
              "\n",
              "    [theme=dark] .colab-df-convert:hover {\n",
              "      background-color: #434B5C;\n",
              "      box-shadow: 0px 1px 3px 1px rgba(0, 0, 0, 0.15);\n",
              "      filter: drop-shadow(0px 1px 2px rgba(0, 0, 0, 0.3));\n",
              "      fill: #FFFFFF;\n",
              "    }\n",
              "  </style>\n",
              "\n",
              "      <script>\n",
              "        const buttonEl =\n",
              "          document.querySelector('#df-45795577-6bc6-4186-b325-9e70663a2059 button.colab-df-convert');\n",
              "        buttonEl.style.display =\n",
              "          google.colab.kernel.accessAllowed ? 'block' : 'none';\n",
              "\n",
              "        async function convertToInteractive(key) {\n",
              "          const element = document.querySelector('#df-45795577-6bc6-4186-b325-9e70663a2059');\n",
              "          const dataTable =\n",
              "            await google.colab.kernel.invokeFunction('convertToInteractive',\n",
              "                                                     [key], {});\n",
              "          if (!dataTable) return;\n",
              "\n",
              "          const docLinkHtml = 'Like what you see? Visit the ' +\n",
              "            '<a target=\"_blank\" href=https://colab.research.google.com/notebooks/data_table.ipynb>data table notebook</a>'\n",
              "            + ' to learn more about interactive tables.';\n",
              "          element.innerHTML = '';\n",
              "          dataTable['output_type'] = 'display_data';\n",
              "          await google.colab.output.renderOutput(dataTable, element);\n",
              "          const docLink = document.createElement('div');\n",
              "          docLink.innerHTML = docLinkHtml;\n",
              "          element.appendChild(docLink);\n",
              "        }\n",
              "      </script>\n",
              "    </div>\n",
              "  </div>\n",
              "  "
            ]
          },
          "metadata": {},
          "execution_count": 107
        }
      ]
    },
    {
      "cell_type": "code",
      "execution_count": null,
      "metadata": {
        "colab": {
          "base_uri": "https://localhost:8080/",
          "height": 430
        },
        "id": "YQrUlnzTqNr2",
        "outputId": "e91f7c49-7689-4222-f07d-4cec2ddab88d"
      },
      "outputs": [
        {
          "output_type": "execute_result",
          "data": {
            "text/plain": [
              "Text(0, 0.5, 'No. of times offered')"
            ]
          },
          "metadata": {},
          "execution_count": 117
        },
        {
          "output_type": "display_data",
          "data": {
            "text/plain": [
              "<Figure size 864x432 with 1 Axes>"
            ],
            "image/png": "[encoded data removed]"
          },
          "metadata": {
            "needs_background": "light"
          }
        }
      ],
      "source": [
        "data1=data[1:11]\n",
        "\n",
        "\n",
        "plt.rcParams['figure.figsize'] = (12, 6)#Rating \n",
        "p=sns.barplot(x=\"Rest_type\",y=\"Frequency\",data=data1)\n",
        "p.set_title(\"Top 10 Restaurant Type spread in Bangalore City\")\n",
        "p.set_xlabel(\"Restaurant Type\", fontsize = 20)\n",
        "p.set_ylabel(\"No. of times offered\", fontsize = 20)"
      ]
    },
    {
      "cell_type": "code",
      "source": [
        "#Data Prep for Q3\n",
        "df_viz=df[['location','name','address','type']]\n",
        "df_viz.drop_duplicates(inplace=True)"
      ],
      "metadata": {
        "id": "cf92H80fvnYw"
      },
      "execution_count": null,
      "outputs": []
    },
    {
      "cell_type": "markdown",
      "source": [
        "Question 8: How is type of service distributed among restaurants in Bangalore?\n",
        "\n",
        "Insight 8: As expected Delivery and Dine out are the highest offered service types of restaurants. Delivery is the top service option as restaurant customers prefer convenience as a result it is prefferd restaurant service type. Delivery accounts for ~45% of the services offered by restaurants"
      ],
      "metadata": {
        "id": "A5lJik1OQEVC"
      }
    },
    {
      "cell_type": "code",
      "source": [
        "#Counting frequency using value count and storing result as dictionary\n",
        "d=df_viz['type'].value_counts().to_dict()\n",
        "\n",
        "#Converting the dictionary to data frame and resetting index so that I can save the index rest types as column\n",
        "data=pd.DataFrame.from_dict(d, orient='index',columns=['Frequency']).reset_index()\n",
        "\n",
        "#Renaming columns\n",
        "data.rename(columns={'index': 'type'}, inplace=True)"
      ],
      "metadata": {
        "id": "Fn6dYMr4_Qau"
      },
      "execution_count": null,
      "outputs": []
    },
    {
      "cell_type": "code",
      "source": [
        "data"
      ],
      "metadata": {
        "colab": {
          "base_uri": "https://localhost:8080/",
          "height": 269
        },
        "id": "BKdR_IKz_gns",
        "outputId": "1950a1cb-7577-4e4a-9ea8-458b448ec601"
      },
      "execution_count": null,
      "outputs": [
        {
          "output_type": "execute_result",
          "data": {
            "text/plain": [
              "                 type  Frequency\n",
              "0            Delivery       7177\n",
              "1            Dine-out       6390\n",
              "2            Desserts       1290\n",
              "3               Cafes        634\n",
              "4  Drinks & nightlife        404\n",
              "5              Buffet        327\n",
              "6       Pubs and bars        327"
            ],
            "text/html": [
              "\n",
              "  <div id=\"df-9545e3c6-78fc-4187-905d-592c62a79064\">\n",
              "    <div class=\"colab-df-container\">\n",
              "      <div>\n",
              "<style scoped>\n",
              "    .dataframe tbody tr th:only-of-type {\n",
              "        vertical-align: middle;\n",
              "    }\n",
              "\n",
              "    .dataframe tbody tr th {\n",
              "        vertical-align: top;\n",
              "    }\n",
              "\n",
              "    .dataframe thead th {\n",
              "        text-align: right;\n",
              "    }\n",
              "</style>\n",
              "<table border=\"1\" class=\"dataframe\">\n",
              "  <thead>\n",
              "    <tr style=\"text-align: right;\">\n",
              "      <th></th>\n",
              "      <th>type</th>\n",
              "      <th>Frequency</th>\n",
              "    </tr>\n",
              "  </thead>\n",
              "  <tbody>\n",
              "    <tr>\n",
              "      <th>0</th>\n",
              "      <td>Delivery</td>\n",
              "      <td>7177</td>\n",
              "    </tr>\n",
              "    <tr>\n",
              "      <th>1</th>\n",
              "      <td>Dine-out</td>\n",
              "      <td>6390</td>\n",
              "    </tr>\n",
              "    <tr>\n",
              "      <th>2</th>\n",
              "      <td>Desserts</td>\n",
              "      <td>1290</td>\n",
              "    </tr>\n",
              "    <tr>\n",
              "      <th>3</th>\n",
              "      <td>Cafes</td>\n",
              "      <td>634</td>\n",
              "    </tr>\n",
              "    <tr>\n",
              "      <th>4</th>\n",
              "      <td>Drinks &amp; nightlife</td>\n",
              "      <td>404</td>\n",
              "    </tr>\n",
              "    <tr>\n",
              "      <th>5</th>\n",
              "      <td>Buffet</td>\n",
              "      <td>327</td>\n",
              "    </tr>\n",
              "    <tr>\n",
              "      <th>6</th>\n",
              "      <td>Pubs and bars</td>\n",
              "      <td>327</td>\n",
              "    </tr>\n",
              "  </tbody>\n",
              "</table>\n",
              "</div>\n",
              "      <button class=\"colab-df-convert\" onclick=\"convertToInteractive('df-9545e3c6-78fc-4187-905d-592c62a79064')\"\n",
              "              title=\"Convert this dataframe to an interactive table.\"\n",
              "              style=\"display:none;\">\n",
              "        \n",
              "  <svg xmlns=\"http://www.w3.org/2000/svg\" height=\"24px\"viewBox=\"0 0 24 24\"\n",
              "       width=\"24px\">\n",
              "    <path d=\"M0 0h24v24H0V0z\" fill=\"none\"/>\n",
              "    <path d=\"M18.56 5.44l.94 2.06.94-2.06 2.06-.94-2.06-.94-.94-2.06-.94 2.06-2.06.94zm-11 1L8.5 8.5l.94-2.06 2.06-.94-2.06-.94L8.5 2.5l-.94 2.06-2.06.94zm10 10l.94 2.06.94-2.06 2.06-.94-2.06-.94-.94-2.06-.94 2.06-2.06.94z\"/><path d=\"M17.41 7.96l-1.37-1.37c-.4-.4-.92-.59-1.43-.59-.52 0-1.04.2-1.43.59L10.3 9.45l-7.72 7.72c-.78.78-.78 2.05 0 2.83L4 21.41c.39.39.9.59 1.41.59.51 0 1.02-.2 1.41-.59l7.78-7.78 2.81-2.81c.8-.78.8-2.07 0-2.86zM5.41 20L4 18.59l7.72-7.72 1.47 1.35L5.41 20z\"/>\n",
              "  </svg>\n",
              "      </button>\n",
              "      \n",
              "  <style>\n",
              "    .colab-df-container {\n",
              "      display:flex;\n",
              "      flex-wrap:wrap;\n",
              "      gap: 12px;\n",
              "    }\n",
              "\n",
              "    .colab-df-convert {\n",
              "      background-color: #E8F0FE;\n",
              "      border: none;\n",
              "      border-radius: 50%;\n",
              "      cursor: pointer;\n",
              "      display: none;\n",
              "      fill: #1967D2;\n",
              "      height: 32px;\n",
              "      padding: 0 0 0 0;\n",
              "      width: 32px;\n",
              "    }\n",
              "\n",
              "    .colab-df-convert:hover {\n",
              "      background-color: #E2EBFA;\n",
              "      box-shadow: 0px 1px 2px rgba(60, 64, 67, 0.3), 0px 1px 3px 1px rgba(60, 64, 67, 0.15);\n",
              "      fill: #174EA6;\n",
              "    }\n",
              "\n",
              "    [theme=dark] .colab-df-convert {\n",
              "      background-color: #3B4455;\n",
              "      fill: #D2E3FC;\n",
              "    }\n",
              "\n",
              "    [theme=dark] .colab-df-convert:hover {\n",
              "      background-color: #434B5C;\n",
              "      box-shadow: 0px 1px 3px 1px rgba(0, 0, 0, 0.15);\n",
              "      filter: drop-shadow(0px 1px 2px rgba(0, 0, 0, 0.3));\n",
              "      fill: #FFFFFF;\n",
              "    }\n",
              "  </style>\n",
              "\n",
              "      <script>\n",
              "        const buttonEl =\n",
              "          document.querySelector('#df-9545e3c6-78fc-4187-905d-592c62a79064 button.colab-df-convert');\n",
              "        buttonEl.style.display =\n",
              "          google.colab.kernel.accessAllowed ? 'block' : 'none';\n",
              "\n",
              "        async function convertToInteractive(key) {\n",
              "          const element = document.querySelector('#df-9545e3c6-78fc-4187-905d-592c62a79064');\n",
              "          const dataTable =\n",
              "            await google.colab.kernel.invokeFunction('convertToInteractive',\n",
              "                                                     [key], {});\n",
              "          if (!dataTable) return;\n",
              "\n",
              "          const docLinkHtml = 'Like what you see? Visit the ' +\n",
              "            '<a target=\"_blank\" href=https://colab.research.google.com/notebooks/data_table.ipynb>data table notebook</a>'\n",
              "            + ' to learn more about interactive tables.';\n",
              "          element.innerHTML = '';\n",
              "          dataTable['output_type'] = 'display_data';\n",
              "          await google.colab.output.renderOutput(dataTable, element);\n",
              "          const docLink = document.createElement('div');\n",
              "          docLink.innerHTML = docLinkHtml;\n",
              "          element.appendChild(docLink);\n",
              "        }\n",
              "      </script>\n",
              "    </div>\n",
              "  </div>\n",
              "  "
            ]
          },
          "metadata": {},
          "execution_count": 128
        }
      ]
    },
    {
      "cell_type": "code",
      "source": [
        "data1=data\n",
        "\n",
        "plt.rcParams['figure.figsize'] = (12, 6)#Rating \n",
        "p=sns.barplot(x=\"type\",y=\"Frequency\",data=data1)\n",
        "p.set_title(\"Type of Service\")\n",
        "p.set_xlabel(\"Service Type\", fontsize = 20)\n",
        "p.set_ylabel(\"Count of offered Service Type\", fontsize = 20)"
      ],
      "metadata": {
        "colab": {
          "base_uri": "https://localhost:8080/",
          "height": 430
        },
        "id": "veHpvPIe_rtM",
        "outputId": "20b8dfa7-fec3-437e-98a3-854bac8cea51"
      },
      "execution_count": null,
      "outputs": [
        {
          "output_type": "execute_result",
          "data": {
            "text/plain": [
              "Text(0, 0.5, 'Count of offered Service Type')"
            ]
          },
          "metadata": {},
          "execution_count": 129
        },
        {
          "output_type": "display_data",
          "data": {
            "text/plain": [
              "<Figure size 864x432 with 1 Axes>"
            ],
            "image/png": "[encoded data removed]"
          },
          "metadata": {
            "needs_background": "light"
          }
        }
      ]
    },
    {
      "cell_type": "code",
      "source": [
        "#Data Prep for Q9\n",
        "df_viz=df[['location','name','address','book_table','rate']]\n",
        "df_viz.drop_duplicates(inplace=True)"
      ],
      "metadata": {
        "id": "mQUYtyhQvpar"
      },
      "execution_count": null,
      "outputs": []
    },
    {
      "cell_type": "markdown",
      "source": [
        "Question 9: Does Offering Table booking impact the Restaurant ratings\n",
        "\n",
        "Insight 9: If the restaurant provides Table booking as an option they are more likely to get a higher rating as this feature adds more convinience to the users"
      ],
      "metadata": {
        "id": "8-NAsUuFDJhN"
      }
    },
    {
      "cell_type": "code",
      "source": [
        "plt.rcParams['figure.figsize'] = (13, 9)\n",
        "Y = pd.crosstab(df_viz['rate'], df_viz['book_table'])\n",
        "Y.div(Y.sum(1).astype(float), axis = 0).plot(kind = 'bar', stacked = True,color=['red','green'])\n",
        "plt.title('Table Booking vs Restaurant rating', fontweight = 30, fontsize = 20)\n",
        "plt.legend(loc=\"upper right\")\n",
        "plt.ylabel('Proportion Yes vs No')\n",
        "plt.show()"
      ],
      "metadata": {
        "colab": {
          "base_uri": "https://localhost:8080/",
          "height": 578
        },
        "id": "Q14_EJ8CB7RH",
        "outputId": "24c69c29-8f42-449c-d97e-b1a38649f84d"
      },
      "execution_count": null,
      "outputs": [
        {
          "output_type": "display_data",
          "data": {
            "text/plain": [
              "<Figure size 936x648 with 1 Axes>"
            ],
            "image/png": "[encoded data removed]"
          },
          "metadata": {
            "needs_background": "light"
          }
        }
      ]
    },
    {
      "cell_type": "code",
      "source": [
        "#Data Prep for Q10\n",
        "df_viz=df[['location','name','address','cost','rate']]\n",
        "df_viz.drop_duplicates(inplace=True)"
      ],
      "metadata": {
        "id": "HuxWAI3lvqsn"
      },
      "execution_count": null,
      "outputs": []
    },
    {
      "cell_type": "markdown",
      "source": [
        "Question 10: How much do restaurants charge for 2 people?\n",
        "\n",
        "Insight 10: We see that there are some exceptional cases with very low costs for 2. Could be an issue in data collection. But most restaurants charge between 300 and 600 for 2 people "
      ],
      "metadata": {
        "id": "pYq6HutHEKaN"
      }
    },
    {
      "cell_type": "code",
      "source": [
        "sns.countplot(df_viz['cost'])\n",
        "sns.countplot(df_viz['cost']).set_xticklabels(sns.countplot(df_viz['cost']).get_xticklabels(), rotation=90, ha=\"right\")\n",
        "fig = plt.gcf()\n",
        "fig.set_size_inches(15,15)\n",
        "plt.title('Cost of Restuarant')\n",
        "plt.xlabel('Restaurant Costs for 2 people')\n",
        "plt.ylabel('Total Restaurants')"
      ],
      "metadata": {
        "colab": {
          "base_uri": "https://localhost:8080/",
          "height": 930
        },
        "id": "ACIp-lVQDfE1",
        "outputId": "dd51f525-9d3b-42f2-8aaa-e2ce804d86a6"
      },
      "execution_count": null,
      "outputs": [
        {
          "output_type": "execute_result",
          "data": {
            "text/plain": [
              "Text(0, 0.5, 'Total Restaurants')"
            ]
          },
          "metadata": {},
          "execution_count": 142
        },
        {
          "output_type": "display_data",
          "data": {
            "text/plain": [
              "<Figure size 1080x1080 with 1 Axes>"
            ],
            "image/png": "[encoded data removed]"
          },
          "metadata": {
            "needs_background": "light"
          }
        }
      ]
    },
    {
      "cell_type": "code",
      "source": [
        "#Data Prep for Q11\n",
        "df_viz=df[['location','name','address']]\n",
        "df_viz.drop_duplicates(inplace=True)"
      ],
      "metadata": {
        "id": "T4B5tNMOvsdt"
      },
      "execution_count": null,
      "outputs": []
    },
    {
      "cell_type": "markdown",
      "source": [
        "Question 11: Which restaurants have the most branches in Bangalore\n",
        "\n",
        "\n",
        "Insight 11: Cafe Coffee Day and Domino's Pizza have the most branches. The top 5 restuarants are ones which people would go to on a regular basis. These restaurant brands could have low franchise costs\n"
      ],
      "metadata": {
        "id": "z5MZa0SXFVHf"
      }
    },
    {
      "cell_type": "code",
      "source": [
        "plt.figure(figsize=(15,7))\n",
        "chains=df_viz['name'].value_counts()[:20]\n",
        "sns.barplot(x=chains,y=chains.index,palette='Set1')\n",
        "plt.title(\"Most common restaurant brands in Bangaluru\",size=20,pad=20)\n",
        "plt.xlabel(\"Number of outlets\",size=15)"
      ],
      "metadata": {
        "colab": {
          "base_uri": "https://localhost:8080/",
          "height": 499
        },
        "id": "inm62Z7YFMJG",
        "outputId": "73de4dda-f6f3-489e-fc6f-006c84989186"
      },
      "execution_count": null,
      "outputs": [
        {
          "output_type": "execute_result",
          "data": {
            "text/plain": [
              "Text(0.5, 0, 'Number of outlets')"
            ]
          },
          "metadata": {},
          "execution_count": 144
        },
        {
          "output_type": "display_data",
          "data": {
            "text/plain": [
              "<Figure size 1080x504 with 1 Axes>"
            ],
            "image/png": "[encoded data removed]"
          },
          "metadata": {
            "needs_background": "light"
          }
        }
      ]
    },
    {
      "cell_type": "code",
      "source": [
        "#Data Prep for Q12\n",
        "df_viz=df[['location','name','address','cuisines','cost']]\n",
        "df_viz.drop_duplicates(inplace=True)"
      ],
      "metadata": {
        "id": "wFGLhrQtvuZX"
      },
      "execution_count": null,
      "outputs": []
    },
    {
      "cell_type": "markdown",
      "source": [
        "Question 12: Do top cuisines change depending on the cost for two?\n",
        "\n",
        "Insight 12: Yes we see do see variation with the various budget ranges.\n",
        "\n",
        "Low Budget(less than 300 for 2 people): Street Food and Bihari cuisine cost the least.\n",
        "\n",
        "Medium Budget(less than 500 and more than 300 for 2 people): Mughlai, Northeastern, Pizza, North Indian cuisines cost in the medium range.\n",
        "\n",
        "High Budget(greater than 500 for 2 people): Vegan restaurants and Niche middle east cuisines cost the most.\n"
      ],
      "metadata": {
        "id": "0qeoVFckG1Eu"
      }
    },
    {
      "cell_type": "code",
      "source": [
        "#Parsiing Cuisines column and storing the cost for the restaurant offering the cuisine\n",
        "par=df_viz['cuisines'].str.split(pat=',',expand=True)\n",
        "par['cost']=df_viz['cost']\n",
        "par.head()"
      ],
      "metadata": {
        "colab": {
          "base_uri": "https://localhost:8080/",
          "height": 206
        },
        "id": "QkNCWF30I8JW",
        "outputId": "22d48c0b-d95f-4109-f927-29f1a0d52d58"
      },
      "execution_count": null,
      "outputs": [
        {
          "output_type": "execute_result",
          "data": {
            "text/plain": [
              "              0              1         2     3     4     5     6     7   cost\n",
              "0  North Indian        Mughlai   Chinese  None  None  None  None  None  800.0\n",
              "1       Chinese   North Indian      Thai  None  None  None  None  None  800.0\n",
              "2          Cafe        Mexican   Italian  None  None  None  None  None  800.0\n",
              "3  South Indian   North Indian      None  None  None  None  None  None  300.0\n",
              "4  North Indian     Rajasthani      None  None  None  None  None  None  600.0"
            ],
            "text/html": [
              "\n",
              "  <div id=\"df-a756c31d-cd19-4b9e-a353-4d6893ea999f\">\n",
              "    <div class=\"colab-df-container\">\n",
              "      <div>\n",
              "<style scoped>\n",
              "    .dataframe tbody tr th:only-of-type {\n",
              "        vertical-align: middle;\n",
              "    }\n",
              "\n",
              "    .dataframe tbody tr th {\n",
              "        vertical-align: top;\n",
              "    }\n",
              "\n",
              "    .dataframe thead th {\n",
              "        text-align: right;\n",
              "    }\n",
              "</style>\n",
              "<table border=\"1\" class=\"dataframe\">\n",
              "  <thead>\n",
              "    <tr style=\"text-align: right;\">\n",
              "      <th></th>\n",
              "      <th>0</th>\n",
              "      <th>1</th>\n",
              "      <th>2</th>\n",
              "      <th>3</th>\n",
              "      <th>4</th>\n",
              "      <th>5</th>\n",
              "      <th>6</th>\n",
              "      <th>7</th>\n",
              "      <th>cost</th>\n",
              "    </tr>\n",
              "  </thead>\n",
              "  <tbody>\n",
              "    <tr>\n",
              "      <th>0</th>\n",
              "      <td>North Indian</td>\n",
              "      <td>Mughlai</td>\n",
              "      <td>Chinese</td>\n",
              "      <td>None</td>\n",
              "      <td>None</td>\n",
              "      <td>None</td>\n",
              "      <td>None</td>\n",
              "      <td>None</td>\n",
              "      <td>800.0</td>\n",
              "    </tr>\n",
              "    <tr>\n",
              "      <th>1</th>\n",
              "      <td>Chinese</td>\n",
              "      <td>North Indian</td>\n",
              "      <td>Thai</td>\n",
              "      <td>None</td>\n",
              "      <td>None</td>\n",
              "      <td>None</td>\n",
              "      <td>None</td>\n",
              "      <td>None</td>\n",
              "      <td>800.0</td>\n",
              "    </tr>\n",
              "    <tr>\n",
              "      <th>2</th>\n",
              "      <td>Cafe</td>\n",
              "      <td>Mexican</td>\n",
              "      <td>Italian</td>\n",
              "      <td>None</td>\n",
              "      <td>None</td>\n",
              "      <td>None</td>\n",
              "      <td>None</td>\n",
              "      <td>None</td>\n",
              "      <td>800.0</td>\n",
              "    </tr>\n",
              "    <tr>\n",
              "      <th>3</th>\n",
              "      <td>South Indian</td>\n",
              "      <td>North Indian</td>\n",
              "      <td>None</td>\n",
              "      <td>None</td>\n",
              "      <td>None</td>\n",
              "      <td>None</td>\n",
              "      <td>None</td>\n",
              "      <td>None</td>\n",
              "      <td>300.0</td>\n",
              "    </tr>\n",
              "    <tr>\n",
              "      <th>4</th>\n",
              "      <td>North Indian</td>\n",
              "      <td>Rajasthani</td>\n",
              "      <td>None</td>\n",
              "      <td>None</td>\n",
              "      <td>None</td>\n",
              "      <td>None</td>\n",
              "      <td>None</td>\n",
              "      <td>None</td>\n",
              "      <td>600.0</td>\n",
              "    </tr>\n",
              "  </tbody>\n",
              "</table>\n",
              "</div>\n",
              "      <button class=\"colab-df-convert\" onclick=\"convertToInteractive('df-a756c31d-cd19-4b9e-a353-4d6893ea999f')\"\n",
              "              title=\"Convert this dataframe to an interactive table.\"\n",
              "              style=\"display:none;\">\n",
              "        \n",
              "  <svg xmlns=\"http://www.w3.org/2000/svg\" height=\"24px\"viewBox=\"0 0 24 24\"\n",
              "       width=\"24px\">\n",
              "    <path d=\"M0 0h24v24H0V0z\" fill=\"none\"/>\n",
              "    <path d=\"M18.56 5.44l.94 2.06.94-2.06 2.06-.94-2.06-.94-.94-2.06-.94 2.06-2.06.94zm-11 1L8.5 8.5l.94-2.06 2.06-.94-2.06-.94L8.5 2.5l-.94 2.06-2.06.94zm10 10l.94 2.06.94-2.06 2.06-.94-2.06-.94-.94-2.06-.94 2.06-2.06.94z\"/><path d=\"M17.41 7.96l-1.37-1.37c-.4-.4-.92-.59-1.43-.59-.52 0-1.04.2-1.43.59L10.3 9.45l-7.72 7.72c-.78.78-.78 2.05 0 2.83L4 21.41c.39.39.9.59 1.41.59.51 0 1.02-.2 1.41-.59l7.78-7.78 2.81-2.81c.8-.78.8-2.07 0-2.86zM5.41 20L4 18.59l7.72-7.72 1.47 1.35L5.41 20z\"/>\n",
              "  </svg>\n",
              "      </button>\n",
              "      \n",
              "  <style>\n",
              "    .colab-df-container {\n",
              "      display:flex;\n",
              "      flex-wrap:wrap;\n",
              "      gap: 12px;\n",
              "    }\n",
              "\n",
              "    .colab-df-convert {\n",
              "      background-color: #E8F0FE;\n",
              "      border: none;\n",
              "      border-radius: 50%;\n",
              "      cursor: pointer;\n",
              "      display: none;\n",
              "      fill: #1967D2;\n",
              "      height: 32px;\n",
              "      padding: 0 0 0 0;\n",
              "      width: 32px;\n",
              "    }\n",
              "\n",
              "    .colab-df-convert:hover {\n",
              "      background-color: #E2EBFA;\n",
              "      box-shadow: 0px 1px 2px rgba(60, 64, 67, 0.3), 0px 1px 3px 1px rgba(60, 64, 67, 0.15);\n",
              "      fill: #174EA6;\n",
              "    }\n",
              "\n",
              "    [theme=dark] .colab-df-convert {\n",
              "      background-color: #3B4455;\n",
              "      fill: #D2E3FC;\n",
              "    }\n",
              "\n",
              "    [theme=dark] .colab-df-convert:hover {\n",
              "      background-color: #434B5C;\n",
              "      box-shadow: 0px 1px 3px 1px rgba(0, 0, 0, 0.15);\n",
              "      filter: drop-shadow(0px 1px 2px rgba(0, 0, 0, 0.3));\n",
              "      fill: #FFFFFF;\n",
              "    }\n",
              "  </style>\n",
              "\n",
              "      <script>\n",
              "        const buttonEl =\n",
              "          document.querySelector('#df-a756c31d-cd19-4b9e-a353-4d6893ea999f button.colab-df-convert');\n",
              "        buttonEl.style.display =\n",
              "          google.colab.kernel.accessAllowed ? 'block' : 'none';\n",
              "\n",
              "        async function convertToInteractive(key) {\n",
              "          const element = document.querySelector('#df-a756c31d-cd19-4b9e-a353-4d6893ea999f');\n",
              "          const dataTable =\n",
              "            await google.colab.kernel.invokeFunction('convertToInteractive',\n",
              "                                                     [key], {});\n",
              "          if (!dataTable) return;\n",
              "\n",
              "          const docLinkHtml = 'Like what you see? Visit the ' +\n",
              "            '<a target=\"_blank\" href=https://colab.research.google.com/notebooks/data_table.ipynb>data table notebook</a>'\n",
              "            + ' to learn more about interactive tables.';\n",
              "          element.innerHTML = '';\n",
              "          dataTable['output_type'] = 'display_data';\n",
              "          await google.colab.output.renderOutput(dataTable, element);\n",
              "          const docLink = document.createElement('div');\n",
              "          docLink.innerHTML = docLinkHtml;\n",
              "          element.appendChild(docLink);\n",
              "        }\n",
              "      </script>\n",
              "    </div>\n",
              "  </div>\n",
              "  "
            ]
          },
          "metadata": {},
          "execution_count": 230
        }
      ]
    },
    {
      "cell_type": "code",
      "source": [
        "#Using the Parsed columns and appending the cost for the restaurant\n",
        "#This is being done as for example Restaurant A offers cuisine A and cuisine B, we don't know the cost by cuisine.\n",
        "#We are assuming same cost for both cuisine and will record cuisine A and B with the same cost.\n",
        "#This is repeated with all restaurants, their cuisines and cost for 2 people\n",
        "#This is stored row wise for each cuisine and cost combination\n",
        "c=par[0] + ',' + par['cost'].astype(str)\n",
        "c=c.append(par[1]+ ',' + par['cost'].astype(str), ignore_index = True)\n",
        "c=c.append(par[2]+ ',' + par['cost'].astype(str), ignore_index = True)\n",
        "c=c.append(par[3]+ ',' + par['cost'].astype(str), ignore_index = True)\n",
        "c=c.append(par[4]+ ',' + par['cost'].astype(str), ignore_index = True)\n",
        "c=c.append(par[5]+ ',' + par['cost'].astype(str), ignore_index = True)\n",
        "c=c.append(par[6]+ ',' + par['cost'].astype(str), ignore_index = True)\n",
        "c=c.append(par[7]+ ',' + par['cost'].astype(str), ignore_index = True)\n",
        "\n",
        "#storing the row wise results as dataframe while splitting the combined cuisine and cost string which we concatenated in last step\n",
        "from pandas.core.frame import DataFrame\n",
        "d1=pd.DataFrame(columns=['cuisines','cost'])\n",
        "d1[['cuisines','cost']]=c.str.split(',', expand=True)\n",
        "\n",
        "#Removing spaces, special characters and converting to correct formats\n",
        "import re\n",
        "remove_special = lambda x: re.sub('[!,/*)\\s@#%(&$_?.^]', '',str(x))\n",
        "d1['cuisines']=d1['cuisines'].apply(remove_special).str.lower()\n",
        "d1['cost']=d1['cost'].astype(float)\n",
        "d1.head()"
      ],
      "metadata": {
        "colab": {
          "base_uri": "https://localhost:8080/",
          "height": 206
        },
        "id": "hI33yqJ6JdE0",
        "outputId": "002b433b-7828-4f67-af28-4f311e686e0e"
      },
      "execution_count": null,
      "outputs": [
        {
          "output_type": "execute_result",
          "data": {
            "text/plain": [
              "      cuisines   cost\n",
              "0  northindian  800.0\n",
              "1      chinese  800.0\n",
              "2         cafe  800.0\n",
              "3  southindian  300.0\n",
              "4  northindian  600.0"
            ],
            "text/html": [
              "\n",
              "  <div id=\"df-14611008-aace-48ce-b2d6-d36fb96656cb\">\n",
              "    <div class=\"colab-df-container\">\n",
              "      <div>\n",
              "<style scoped>\n",
              "    .dataframe tbody tr th:only-of-type {\n",
              "        vertical-align: middle;\n",
              "    }\n",
              "\n",
              "    .dataframe tbody tr th {\n",
              "        vertical-align: top;\n",
              "    }\n",
              "\n",
              "    .dataframe thead th {\n",
              "        text-align: right;\n",
              "    }\n",
              "</style>\n",
              "<table border=\"1\" class=\"dataframe\">\n",
              "  <thead>\n",
              "    <tr style=\"text-align: right;\">\n",
              "      <th></th>\n",
              "      <th>cuisines</th>\n",
              "      <th>cost</th>\n",
              "    </tr>\n",
              "  </thead>\n",
              "  <tbody>\n",
              "    <tr>\n",
              "      <th>0</th>\n",
              "      <td>northindian</td>\n",
              "      <td>800.0</td>\n",
              "    </tr>\n",
              "    <tr>\n",
              "      <th>1</th>\n",
              "      <td>chinese</td>\n",
              "      <td>800.0</td>\n",
              "    </tr>\n",
              "    <tr>\n",
              "      <th>2</th>\n",
              "      <td>cafe</td>\n",
              "      <td>800.0</td>\n",
              "    </tr>\n",
              "    <tr>\n",
              "      <th>3</th>\n",
              "      <td>southindian</td>\n",
              "      <td>300.0</td>\n",
              "    </tr>\n",
              "    <tr>\n",
              "      <th>4</th>\n",
              "      <td>northindian</td>\n",
              "      <td>600.0</td>\n",
              "    </tr>\n",
              "  </tbody>\n",
              "</table>\n",
              "</div>\n",
              "      <button class=\"colab-df-convert\" onclick=\"convertToInteractive('df-14611008-aace-48ce-b2d6-d36fb96656cb')\"\n",
              "              title=\"Convert this dataframe to an interactive table.\"\n",
              "              style=\"display:none;\">\n",
              "        \n",
              "  <svg xmlns=\"http://www.w3.org/2000/svg\" height=\"24px\"viewBox=\"0 0 24 24\"\n",
              "       width=\"24px\">\n",
              "    <path d=\"M0 0h24v24H0V0z\" fill=\"none\"/>\n",
              "    <path d=\"M18.56 5.44l.94 2.06.94-2.06 2.06-.94-2.06-.94-.94-2.06-.94 2.06-2.06.94zm-11 1L8.5 8.5l.94-2.06 2.06-.94-2.06-.94L8.5 2.5l-.94 2.06-2.06.94zm10 10l.94 2.06.94-2.06 2.06-.94-2.06-.94-.94-2.06-.94 2.06-2.06.94z\"/><path d=\"M17.41 7.96l-1.37-1.37c-.4-.4-.92-.59-1.43-.59-.52 0-1.04.2-1.43.59L10.3 9.45l-7.72 7.72c-.78.78-.78 2.05 0 2.83L4 21.41c.39.39.9.59 1.41.59.51 0 1.02-.2 1.41-.59l7.78-7.78 2.81-2.81c.8-.78.8-2.07 0-2.86zM5.41 20L4 18.59l7.72-7.72 1.47 1.35L5.41 20z\"/>\n",
              "  </svg>\n",
              "      </button>\n",
              "      \n",
              "  <style>\n",
              "    .colab-df-container {\n",
              "      display:flex;\n",
              "      flex-wrap:wrap;\n",
              "      gap: 12px;\n",
              "    }\n",
              "\n",
              "    .colab-df-convert {\n",
              "      background-color: #E8F0FE;\n",
              "      border: none;\n",
              "      border-radius: 50%;\n",
              "      cursor: pointer;\n",
              "      display: none;\n",
              "      fill: #1967D2;\n",
              "      height: 32px;\n",
              "      padding: 0 0 0 0;\n",
              "      width: 32px;\n",
              "    }\n",
              "\n",
              "    .colab-df-convert:hover {\n",
              "      background-color: #E2EBFA;\n",
              "      box-shadow: 0px 1px 2px rgba(60, 64, 67, 0.3), 0px 1px 3px 1px rgba(60, 64, 67, 0.15);\n",
              "      fill: #174EA6;\n",
              "    }\n",
              "\n",
              "    [theme=dark] .colab-df-convert {\n",
              "      background-color: #3B4455;\n",
              "      fill: #D2E3FC;\n",
              "    }\n",
              "\n",
              "    [theme=dark] .colab-df-convert:hover {\n",
              "      background-color: #434B5C;\n",
              "      box-shadow: 0px 1px 3px 1px rgba(0, 0, 0, 0.15);\n",
              "      filter: drop-shadow(0px 1px 2px rgba(0, 0, 0, 0.3));\n",
              "      fill: #FFFFFF;\n",
              "    }\n",
              "  </style>\n",
              "\n",
              "      <script>\n",
              "        const buttonEl =\n",
              "          document.querySelector('#df-14611008-aace-48ce-b2d6-d36fb96656cb button.colab-df-convert');\n",
              "        buttonEl.style.display =\n",
              "          google.colab.kernel.accessAllowed ? 'block' : 'none';\n",
              "\n",
              "        async function convertToInteractive(key) {\n",
              "          const element = document.querySelector('#df-14611008-aace-48ce-b2d6-d36fb96656cb');\n",
              "          const dataTable =\n",
              "            await google.colab.kernel.invokeFunction('convertToInteractive',\n",
              "                                                     [key], {});\n",
              "          if (!dataTable) return;\n",
              "\n",
              "          const docLinkHtml = 'Like what you see? Visit the ' +\n",
              "            '<a target=\"_blank\" href=https://colab.research.google.com/notebooks/data_table.ipynb>data table notebook</a>'\n",
              "            + ' to learn more about interactive tables.';\n",
              "          element.innerHTML = '';\n",
              "          dataTable['output_type'] = 'display_data';\n",
              "          await google.colab.output.renderOutput(dataTable, element);\n",
              "          const docLink = document.createElement('div');\n",
              "          docLink.innerHTML = docLinkHtml;\n",
              "          element.appendChild(docLink);\n",
              "        }\n",
              "      </script>\n",
              "    </div>\n",
              "  </div>\n",
              "  "
            ]
          },
          "metadata": {},
          "execution_count": 232
        }
      ]
    },
    {
      "cell_type": "code",
      "source": [
        "#Grouping by cuisines and calculating average cost\n",
        "Z=d1.groupby('cuisines', as_index=False)['cost'].mean()"
      ],
      "metadata": {
        "id": "NUI91Bi7PQhi"
      },
      "execution_count": null,
      "outputs": []
    },
    {
      "cell_type": "code",
      "source": [
        "#Creating function to draw word cloud- Size will be decided by the highest cost of cuisine.\n",
        "#Higher average cost for the cuisine larger the size in word cloud\n",
        "def cloud_word(budget):\n",
        "    d = {w: f for w, f in\n",
        "     zip(budget['cuisines'].tolist(),\n",
        "         budget['cost'].tolist())}\n",
        "    wordcloud = WordCloud(max_font_size=100,colormap=\"summer\", height=300, width=400, random_state=42, background_color='#151515', prefer_horizontal=1)\n",
        "    wordcloud.generate_from_frequencies(frequencies=d)\n",
        "    plt.imshow(wordcloud)\n",
        "    plt.axis('off')\n",
        "    plt.show()"
      ],
      "metadata": {
        "id": "2iDTukgV_l9b"
      },
      "execution_count": null,
      "outputs": []
    },
    {
      "cell_type": "code",
      "source": [
        "#Categorizing the cuisines by the average costs\n",
        "low_budget = Z[Z[\"cost\"] <= 300].reset_index()\n",
        "mid_budget = Z[(Z[\"cost\"] <= 500) & (Z[\"cost\"]>300)].reset_index()\n",
        "high_budget = Z[Z[\"cost\"]>500].reset_index()\n"
      ],
      "metadata": {
        "id": "hHDNTgdPKLrH"
      },
      "execution_count": null,
      "outputs": []
    },
    {
      "cell_type": "code",
      "source": [
        "# Low Avarage cost and cuisines\n",
        "cloud_word(low_budget)"
      ],
      "metadata": {
        "id": "1Dt15aTa_p-d",
        "colab": {
          "base_uri": "https://localhost:8080/",
          "height": 357
        },
        "outputId": "6cf84901-9ce4-462d-a047-6a3d60d74be3"
      },
      "execution_count": null,
      "outputs": [
        {
          "output_type": "display_data",
          "data": {
            "text/plain": [
              "<Figure size 864x432 with 1 Axes>"
            ],
            "image/png": "[encoded data removed]"
          },
          "metadata": {
            "needs_background": "light"
          }
        }
      ]
    },
    {
      "cell_type": "code",
      "source": [
        "# medium Avarage cost and cuisines\n",
        "cloud_word(mid_budget)"
      ],
      "metadata": {
        "id": "lsZKSLFg_tpu",
        "colab": {
          "base_uri": "https://localhost:8080/",
          "height": 357
        },
        "outputId": "676a5c41-bf2d-4f05-c019-531cd3465f78"
      },
      "execution_count": null,
      "outputs": [
        {
          "output_type": "display_data",
          "data": {
            "text/plain": [
              "<Figure size 864x432 with 1 Axes>"
            ],
            "image/png": "[encoded data removed]"
          },
          "metadata": {
            "needs_background": "light"
          }
        }
      ]
    },
    {
      "cell_type": "code",
      "source": [
        "# High Avarage cost and cuisines\n",
        "cloud_word(high_budget)"
      ],
      "metadata": {
        "id": "8EESiA37_utP",
        "colab": {
          "base_uri": "https://localhost:8080/",
          "height": 357
        },
        "outputId": "c7934576-c654-4e9d-be1b-816fd9fafffd"
      },
      "execution_count": null,
      "outputs": [
        {
          "output_type": "display_data",
          "data": {
            "text/plain": [
              "<Figure size 864x432 with 1 Axes>"
            ],
            "image/png": "[encoded data removed]"
          },
          "metadata": {
            "needs_background": "light"
          }
        }
      ]
    },
    {
      "cell_type": "code",
      "source": [
        "#Data Prep for Q13\n",
        "df_viz=df[['location','name','address','cost','rate','votes']]\n",
        "df_viz.drop_duplicates(inplace=True)"
      ],
      "metadata": {
        "id": "femQ2X9-vwyZ"
      },
      "execution_count": null,
      "outputs": []
    },
    {
      "cell_type": "markdown",
      "source": [
        "Question 13; How is correlation between rate column and votes cost.\n",
        "\n",
        "Insight 13: Rate has +0.44 correlation with votes column. This could be an important predictor for a restaurant\n",
        "\n",
        "Rate is very weekly negatively related to cost for two people column. This may not be very precise as the data contained extremely low values for few restaurants. That could have impacted the correlation between the two columns\n"
      ],
      "metadata": {
        "id": "fOiV0YRxTBrr"
      }
    },
    {
      "cell_type": "code",
      "source": [
        "data=df_viz[['rate','cost','votes']]\n",
        "sns.heatmap(df.corr(), annot=True, linewidth=0.5, cmap=\"Blues_r\") # heatmap"
      ],
      "metadata": {
        "id": "-IM3hHSu_7FF",
        "colab": {
          "base_uri": "https://localhost:8080/",
          "height": 395
        },
        "outputId": "9a5b1a52-8d05-451a-e5fd-1973f1811b43"
      },
      "execution_count": null,
      "outputs": [
        {
          "output_type": "execute_result",
          "data": {
            "text/plain": [
              "<matplotlib.axes._subplots.AxesSubplot at 0x7faf6d2d2290>"
            ]
          },
          "metadata": {},
          "execution_count": 245
        },
        {
          "output_type": "display_data",
          "data": {
            "text/plain": [
              "<Figure size 864x432 with 2 Axes>"
            ],
            "image/png": "[encoded data removed]"
          },
          "metadata": {
            "needs_background": "light"
          }
        }
      ]
    },
    {
      "cell_type": "code",
      "source": [
        "#Checking correlation if we discard very low cost which may not be accurately recorded\n",
        "column_1 = df_viz[df_viz[\"cost\"]>100][\"rate\"]\n",
        "column_2 = df_viz[df_viz[\"cost\"]>100][\"cost\"]\n",
        "correlation = column_1.corr(column_2)\n",
        "# correlation of 0.2 between cost and rate"
      ],
      "metadata": {
        "id": "4qpSk8NlRx3N"
      },
      "execution_count": null,
      "outputs": []
    },
    {
      "cell_type": "markdown",
      "source": [
        "#Model Exploration and Model Selection"
      ],
      "metadata": {
        "id": "ZRhSqpjyRsvN"
      }
    },
    {
      "cell_type": "markdown",
      "source": [
        "Based on above EDA insights we want to further breakdown the analysis goals as follows:"
      ],
      "metadata": {
        "id": "Sgv1_dCtHRTw"
      }
    },
    {
      "cell_type": "markdown",
      "source": [
        "\n",
        "Goal 1: Understand what factors impact Rating of a restaurant\n",
        "\n",
        "Approach: Correlation to see relation between variables and then explore variable importance using Linear regression weights or Regression tree models to understand variable importance\n",
        "\n",
        "Goal 2: Identify and cluster restaurants based on common attributes\n",
        "\n",
        "Approach: Clustering data to find similar restaurants or high rated groups\n",
        "\n",
        "Goal 3: Predicting new restaurant rating depending on input parameters\n",
        "\n",
        "Approach: Model building and creation of best fit model to predict new points\n",
        "\n",
        "Goal 4: Building recommendation system to suggest restaurant based on customer preference.\n",
        "\n",
        "Approach: Recommendation model- Content based filtering or collaborative learning\n"
      ],
      "metadata": {
        "id": "D9piyWPHS_HE"
      }
    },
    {
      "cell_type": "markdown",
      "source": [
        "#Goal 1: Understand what factors impact Rating of a restaurant - Based on the EDA creating a final correlation chart"
      ],
      "metadata": {
        "id": "DzjUtrqUHaP3"
      }
    },
    {
      "cell_type": "code",
      "source": [
        "#Data Prep for Correlation and future models\n",
        "# As correlation function and sklearn models take numeric inputs only we need to convert categorical variables into numeric variables\n",
        "# We have two approaches: 1) One Hot Encoding, 2) Encoding categories(each category as unique integer)\n",
        "\n",
        "#Adv and DisAdv of Approach 1\n",
        "#If we have x categories in a column we will be left with x additional columns. \n",
        "#As we have location like column with 30+ categories, we will have 30 additional column to One Hot Encode this column\n",
        "#This will result in huge tables, high complexity, high number of 0s in rows, difficult to look through the data\n",
        "#Might lead to overfitting using Tree Based algorithms\n",
        "\n",
        "#Adv and DisAdv of Approach 2\n",
        "#Not often used but we can add numerical encoding based on freqency of category or just adding a numerical value to identify the category\n",
        "#This will result in just one column, so less complex, but with this approach higher numerical value may lead to bias\n",
        "#That is it may show that higher the value higher the weight to be given which is not the case. So need to be careful\n",
        "#Most tree-based models (SKLearn Random Forest, XGBoost, LightGBM) can handle number-labeled-columns very well.\n",
        "\n",
        "\n",
        "##Model Approach\n",
        "#We have implemented both approaches and tested the models. \n",
        "#We have evaluated approaches based on the Regression model(train and test data) R2 Scores, MAPE, RMSE scores.\n",
        "#Models were also compared with the Naive Model\n",
        "#we will be imputing few of the categorical variables(more than 30 categories) by frequency of occurance\n",
        "#Categorical variables with binary categories will be label encoded to 1 or 0\n",
        "#Categorical variables with  less than 30 categories and greater than 2 will be one hot encoded\n",
        "# Numeric variables will be feature scaled. "
      ],
      "metadata": {
        "id": "gYABhVLvl3KE"
      },
      "execution_count": null,
      "outputs": []
    },
    {
      "cell_type": "code",
      "source": [
        "#Based on EDA selecting the below featuresdf_viz=df[['location','name','city','online_order','book_table','rest_type','cuisines','type','rate','cost','votes']]"
      ],
      "metadata": {
        "id": "nSZSeNgbPM9F"
      },
      "execution_count": 36,
      "outputs": []
    },
    {
      "cell_type": "code",
      "source": [
        "# Adjust the column names and convert binary categories from Yes, No to True, False\n",
        "df_viz.name = df_viz.name.apply(lambda x:x.title())\n",
        "df_viz.location = df_viz.location.apply(lambda x:x.title())\n",
        "df_viz.city = df_viz.city.apply(lambda x:x.title())\n",
        "df_viz.online_order.replace(('Yes','No'),(True, False),inplace=True)\n",
        "df_viz.book_table.replace(('Yes','No'),(True, False),inplace=True)\n",
        "df_viz.head() # looking at the dataset after transformation\n"
      ],
      "metadata": {
        "colab": {
          "base_uri": "https://localhost:8080/",
          "height": 206
        },
        "id": "po_vRqiMNHto",
        "outputId": "fa60cb51-953d-4227-d648-86f050ae704d"
      },
      "execution_count": 316,
      "outputs": [
        {
          "output_type": "execute_result",
          "data": {
            "text/plain": [
              "       location                   name          city  online_order  \\\n",
              "0  Banashankari                  Jalsa  Banashankari          True   \n",
              "1  Banashankari         Spice Elephant  Banashankari          True   \n",
              "2  Banashankari        San Churro Cafe  Banashankari          True   \n",
              "3  Banashankari  Addhuri Udupi Bhojana  Banashankari         False   \n",
              "4  Basavanagudi          Grand Village  Banashankari         False   \n",
              "\n",
              "   book_table            rest_type                        cuisines    type  \\\n",
              "0        True        Casual Dining  North Indian, Mughlai, Chinese  Buffet   \n",
              "1       False        Casual Dining     Chinese, North Indian, Thai  Buffet   \n",
              "2       False  Cafe, Casual Dining          Cafe, Mexican, Italian  Buffet   \n",
              "3       False          Quick Bites      South Indian, North Indian  Buffet   \n",
              "4       False        Casual Dining        North Indian, Rajasthani  Buffet   \n",
              "\n",
              "   rate   cost  votes  cuisine_freq  \n",
              "0   4.1  800.0    775             3  \n",
              "1   4.1  800.0    787             3  \n",
              "2   3.8  800.0    918             3  \n",
              "3   3.7  300.0     88             2  \n",
              "4   3.8  600.0    166             2  "
            ],
            "text/html": [
              "\n",
              "  <div id=\"df-1d976ce2-b3b3-4fe6-913d-5877e4cd7ee1\">\n",
              "    <div class=\"colab-df-container\">\n",
              "      <div>\n",
              "<style scoped>\n",
              "    .dataframe tbody tr th:only-of-type {\n",
              "        vertical-align: middle;\n",
              "    }\n",
              "\n",
              "    .dataframe tbody tr th {\n",
              "        vertical-align: top;\n",
              "    }\n",
              "\n",
              "    .dataframe thead th {\n",
              "        text-align: right;\n",
              "    }\n",
              "</style>\n",
              "<table border=\"1\" class=\"dataframe\">\n",
              "  <thead>\n",
              "    <tr style=\"text-align: right;\">\n",
              "      <th></th>\n",
              "      <th>location</th>\n",
              "      <th>name</th>\n",
              "      <th>city</th>\n",
              "      <th>online_order</th>\n",
              "      <th>book_table</th>\n",
              "      <th>rest_type</th>\n",
              "      <th>cuisines</th>\n",
              "      <th>type</th>\n",
              "      <th>rate</th>\n",
              "      <th>cost</th>\n",
              "      <th>votes</th>\n",
              "      <th>cuisine_freq</th>\n",
              "    </tr>\n",
              "  </thead>\n",
              "  <tbody>\n",
              "    <tr>\n",
              "      <th>0</th>\n",
              "      <td>Banashankari</td>\n",
              "      <td>Jalsa</td>\n",
              "      <td>Banashankari</td>\n",
              "      <td>True</td>\n",
              "      <td>True</td>\n",
              "      <td>Casual Dining</td>\n",
              "      <td>North Indian, Mughlai, Chinese</td>\n",
              "      <td>Buffet</td>\n",
              "      <td>4.1</td>\n",
              "      <td>800.0</td>\n",
              "      <td>775</td>\n",
              "      <td>3</td>\n",
              "    </tr>\n",
              "    <tr>\n",
              "      <th>1</th>\n",
              "      <td>Banashankari</td>\n",
              "      <td>Spice Elephant</td>\n",
              "      <td>Banashankari</td>\n",
              "      <td>True</td>\n",
              "      <td>False</td>\n",
              "      <td>Casual Dining</td>\n",
              "      <td>Chinese, North Indian, Thai</td>\n",
              "      <td>Buffet</td>\n",
              "      <td>4.1</td>\n",
              "      <td>800.0</td>\n",
              "      <td>787</td>\n",
              "      <td>3</td>\n",
              "    </tr>\n",
              "    <tr>\n",
              "      <th>2</th>\n",
              "      <td>Banashankari</td>\n",
              "      <td>San Churro Cafe</td>\n",
              "      <td>Banashankari</td>\n",
              "      <td>True</td>\n",
              "      <td>False</td>\n",
              "      <td>Cafe, Casual Dining</td>\n",
              "      <td>Cafe, Mexican, Italian</td>\n",
              "      <td>Buffet</td>\n",
              "      <td>3.8</td>\n",
              "      <td>800.0</td>\n",
              "      <td>918</td>\n",
              "      <td>3</td>\n",
              "    </tr>\n",
              "    <tr>\n",
              "      <th>3</th>\n",
              "      <td>Banashankari</td>\n",
              "      <td>Addhuri Udupi Bhojana</td>\n",
              "      <td>Banashankari</td>\n",
              "      <td>False</td>\n",
              "      <td>False</td>\n",
              "      <td>Quick Bites</td>\n",
              "      <td>South Indian, North Indian</td>\n",
              "      <td>Buffet</td>\n",
              "      <td>3.7</td>\n",
              "      <td>300.0</td>\n",
              "      <td>88</td>\n",
              "      <td>2</td>\n",
              "    </tr>\n",
              "    <tr>\n",
              "      <th>4</th>\n",
              "      <td>Basavanagudi</td>\n",
              "      <td>Grand Village</td>\n",
              "      <td>Banashankari</td>\n",
              "      <td>False</td>\n",
              "      <td>False</td>\n",
              "      <td>Casual Dining</td>\n",
              "      <td>North Indian, Rajasthani</td>\n",
              "      <td>Buffet</td>\n",
              "      <td>3.8</td>\n",
              "      <td>600.0</td>\n",
              "      <td>166</td>\n",
              "      <td>2</td>\n",
              "    </tr>\n",
              "  </tbody>\n",
              "</table>\n",
              "</div>\n",
              "      <button class=\"colab-df-convert\" onclick=\"convertToInteractive('df-1d976ce2-b3b3-4fe6-913d-5877e4cd7ee1')\"\n",
              "              title=\"Convert this dataframe to an interactive table.\"\n",
              "              style=\"display:none;\">\n",
              "        \n",
              "  <svg xmlns=\"http://www.w3.org/2000/svg\" height=\"24px\"viewBox=\"0 0 24 24\"\n",
              "       width=\"24px\">\n",
              "    <path d=\"M0 0h24v24H0V0z\" fill=\"none\"/>\n",
              "    <path d=\"M18.56 5.44l.94 2.06.94-2.06 2.06-.94-2.06-.94-.94-2.06-.94 2.06-2.06.94zm-11 1L8.5 8.5l.94-2.06 2.06-.94-2.06-.94L8.5 2.5l-.94 2.06-2.06.94zm10 10l.94 2.06.94-2.06 2.06-.94-2.06-.94-.94-2.06-.94 2.06-2.06.94z\"/><path d=\"M17.41 7.96l-1.37-1.37c-.4-.4-.92-.59-1.43-.59-.52 0-1.04.2-1.43.59L10.3 9.45l-7.72 7.72c-.78.78-.78 2.05 0 2.83L4 21.41c.39.39.9.59 1.41.59.51 0 1.02-.2 1.41-.59l7.78-7.78 2.81-2.81c.8-.78.8-2.07 0-2.86zM5.41 20L4 18.59l7.72-7.72 1.47 1.35L5.41 20z\"/>\n",
              "  </svg>\n",
              "      </button>\n",
              "      \n",
              "  <style>\n",
              "    .colab-df-container {\n",
              "      display:flex;\n",
              "      flex-wrap:wrap;\n",
              "      gap: 12px;\n",
              "    }\n",
              "\n",
              "    .colab-df-convert {\n",
              "      background-color: #E8F0FE;\n",
              "      border: none;\n",
              "      border-radius: 50%;\n",
              "      cursor: pointer;\n",
              "      display: none;\n",
              "      fill: #1967D2;\n",
              "      height: 32px;\n",
              "      padding: 0 0 0 0;\n",
              "      width: 32px;\n",
              "    }\n",
              "\n",
              "    .colab-df-convert:hover {\n",
              "      background-color: #E2EBFA;\n",
              "      box-shadow: 0px 1px 2px rgba(60, 64, 67, 0.3), 0px 1px 3px 1px rgba(60, 64, 67, 0.15);\n",
              "      fill: #174EA6;\n",
              "    }\n",
              "\n",
              "    [theme=dark] .colab-df-convert {\n",
              "      background-color: #3B4455;\n",
              "      fill: #D2E3FC;\n",
              "    }\n",
              "\n",
              "    [theme=dark] .colab-df-convert:hover {\n",
              "      background-color: #434B5C;\n",
              "      box-shadow: 0px 1px 3px 1px rgba(0, 0, 0, 0.15);\n",
              "      filter: drop-shadow(0px 1px 2px rgba(0, 0, 0, 0.3));\n",
              "      fill: #FFFFFF;\n",
              "    }\n",
              "  </style>\n",
              "\n",
              "      <script>\n",
              "        const buttonEl =\n",
              "          document.querySelector('#df-1d976ce2-b3b3-4fe6-913d-5877e4cd7ee1 button.colab-df-convert');\n",
              "        buttonEl.style.display =\n",
              "          google.colab.kernel.accessAllowed ? 'block' : 'none';\n",
              "\n",
              "        async function convertToInteractive(key) {\n",
              "          const element = document.querySelector('#df-1d976ce2-b3b3-4fe6-913d-5877e4cd7ee1');\n",
              "          const dataTable =\n",
              "            await google.colab.kernel.invokeFunction('convertToInteractive',\n",
              "                                                     [key], {});\n",
              "          if (!dataTable) return;\n",
              "\n",
              "          const docLinkHtml = 'Like what you see? Visit the ' +\n",
              "            '<a target=\"_blank\" href=https://colab.research.google.com/notebooks/data_table.ipynb>data table notebook</a>'\n",
              "            + ' to learn more about interactive tables.';\n",
              "          element.innerHTML = '';\n",
              "          dataTable['output_type'] = 'display_data';\n",
              "          await google.colab.output.renderOutput(dataTable, element);\n",
              "          const docLink = document.createElement('div');\n",
              "          docLink.innerHTML = docLinkHtml;\n",
              "          element.appendChild(docLink);\n",
              "        }\n",
              "      </script>\n",
              "    </div>\n",
              "  </div>\n",
              "  "
            ]
          },
          "metadata": {},
          "execution_count": 316
        }
      ]
    },
    {
      "cell_type": "code",
      "source": [
        "#Feature creation: Number of Cuisines offered by restaurant  \n",
        "df_viz['cuisine_freq']=list(map(lambda x: x.count(\",\")+1, df_viz['cuisines']))"
      ],
      "metadata": {
        "id": "e67wZN5QkeCY"
      },
      "execution_count": 317,
      "outputs": []
    },
    {
      "cell_type": "code",
      "source": [
        "# Imputing categorical columns with frequency of occurance when there are more than 30+ categories in column\n",
        "zomato_en1 = df_viz['location'].value_counts().reset_index(name='location_freq').rename(columns={'index': 'location'})\n",
        "df2=pd.merge(df_viz,zomato_en1,on=['location'], how='left' )\n"
      ],
      "metadata": {
        "id": "05aYP989tR_E"
      },
      "execution_count": 318,
      "outputs": []
    },
    {
      "cell_type": "code",
      "source": [
        "zomato_en1 = df_viz['name'].value_counts().reset_index(name='name_freq').rename(columns={'index': 'name'})\n",
        "df2=pd.merge(df2,zomato_en1,on=['name'], how='left' )"
      ],
      "metadata": {
        "id": "MCLDVM1Otea2"
      },
      "execution_count": 319,
      "outputs": []
    },
    {
      "cell_type": "code",
      "source": [
        "\n",
        "zomato_en1 = df_viz['city'].value_counts().reset_index(name='city_freq').rename(columns={'index': 'city'})\n",
        "df2=pd.merge(df2,zomato_en1,on=['city'], how='left' )\n",
        "df2.head()"
      ],
      "metadata": {
        "colab": {
          "base_uri": "https://localhost:8080/",
          "height": 337
        },
        "id": "ZlFae93nYsCl",
        "outputId": "0599e6b3-b187-4497-85e5-1f2bf7a7e975"
      },
      "execution_count": 320,
      "outputs": [
        {
          "output_type": "execute_result",
          "data": {
            "text/plain": [
              "       location                   name          city  online_order  \\\n",
              "0  Banashankari                  Jalsa  Banashankari          True   \n",
              "1  Banashankari         Spice Elephant  Banashankari          True   \n",
              "2  Banashankari        San Churro Cafe  Banashankari          True   \n",
              "3  Banashankari  Addhuri Udupi Bhojana  Banashankari         False   \n",
              "4  Basavanagudi          Grand Village  Banashankari         False   \n",
              "\n",
              "   book_table            rest_type                        cuisines    type  \\\n",
              "0        True        Casual Dining  North Indian, Mughlai, Chinese  Buffet   \n",
              "1       False        Casual Dining     Chinese, North Indian, Thai  Buffet   \n",
              "2       False  Cafe, Casual Dining          Cafe, Mexican, Italian  Buffet   \n",
              "3       False          Quick Bites      South Indian, North Indian  Buffet   \n",
              "4       False        Casual Dining        North Indian, Rajasthani  Buffet   \n",
              "\n",
              "   rate   cost  votes  cuisine_freq  location_freq  name_freq  city_freq  \n",
              "0   4.1  800.0    775             3            744         11        727  \n",
              "1   4.1  800.0    787             3            744          4        727  \n",
              "2   3.8  800.0    918             3            744         11        727  \n",
              "3   3.7  300.0     88             2            744          2        727  \n",
              "4   3.8  600.0    166             2            595          4        727  "
            ],
            "text/html": [
              "\n",
              "  <div id=\"df-f1c32822-7dee-4bdf-8a3c-1868152189c7\">\n",
              "    <div class=\"colab-df-container\">\n",
              "      <div>\n",
              "<style scoped>\n",
              "    .dataframe tbody tr th:only-of-type {\n",
              "        vertical-align: middle;\n",
              "    }\n",
              "\n",
              "    .dataframe tbody tr th {\n",
              "        vertical-align: top;\n",
              "    }\n",
              "\n",
              "    .dataframe thead th {\n",
              "        text-align: right;\n",
              "    }\n",
              "</style>\n",
              "<table border=\"1\" class=\"dataframe\">\n",
              "  <thead>\n",
              "    <tr style=\"text-align: right;\">\n",
              "      <th></th>\n",
              "      <th>location</th>\n",
              "      <th>name</th>\n",
              "      <th>city</th>\n",
              "      <th>online_order</th>\n",
              "      <th>book_table</th>\n",
              "      <th>rest_type</th>\n",
              "      <th>cuisines</th>\n",
              "      <th>type</th>\n",
              "      <th>rate</th>\n",
              "      <th>cost</th>\n",
              "      <th>votes</th>\n",
              "      <th>cuisine_freq</th>\n",
              "      <th>location_freq</th>\n",
              "      <th>name_freq</th>\n",
              "      <th>city_freq</th>\n",
              "    </tr>\n",
              "  </thead>\n",
              "  <tbody>\n",
              "    <tr>\n",
              "      <th>0</th>\n",
              "      <td>Banashankari</td>\n",
              "      <td>Jalsa</td>\n",
              "      <td>Banashankari</td>\n",
              "      <td>True</td>\n",
              "      <td>True</td>\n",
              "      <td>Casual Dining</td>\n",
              "      <td>North Indian, Mughlai, Chinese</td>\n",
              "      <td>Buffet</td>\n",
              "      <td>4.1</td>\n",
              "      <td>800.0</td>\n",
              "      <td>775</td>\n",
              "      <td>3</td>\n",
              "      <td>744</td>\n",
              "      <td>11</td>\n",
              "      <td>727</td>\n",
              "    </tr>\n",
              "    <tr>\n",
              "      <th>1</th>\n",
              "      <td>Banashankari</td>\n",
              "      <td>Spice Elephant</td>\n",
              "      <td>Banashankari</td>\n",
              "      <td>True</td>\n",
              "      <td>False</td>\n",
              "      <td>Casual Dining</td>\n",
              "      <td>Chinese, North Indian, Thai</td>\n",
              "      <td>Buffet</td>\n",
              "      <td>4.1</td>\n",
              "      <td>800.0</td>\n",
              "      <td>787</td>\n",
              "      <td>3</td>\n",
              "      <td>744</td>\n",
              "      <td>4</td>\n",
              "      <td>727</td>\n",
              "    </tr>\n",
              "    <tr>\n",
              "      <th>2</th>\n",
              "      <td>Banashankari</td>\n",
              "      <td>San Churro Cafe</td>\n",
              "      <td>Banashankari</td>\n",
              "      <td>True</td>\n",
              "      <td>False</td>\n",
              "      <td>Cafe, Casual Dining</td>\n",
              "      <td>Cafe, Mexican, Italian</td>\n",
              "      <td>Buffet</td>\n",
              "      <td>3.8</td>\n",
              "      <td>800.0</td>\n",
              "      <td>918</td>\n",
              "      <td>3</td>\n",
              "      <td>744</td>\n",
              "      <td>11</td>\n",
              "      <td>727</td>\n",
              "    </tr>\n",
              "    <tr>\n",
              "      <th>3</th>\n",
              "      <td>Banashankari</td>\n",
              "      <td>Addhuri Udupi Bhojana</td>\n",
              "      <td>Banashankari</td>\n",
              "      <td>False</td>\n",
              "      <td>False</td>\n",
              "      <td>Quick Bites</td>\n",
              "      <td>South Indian, North Indian</td>\n",
              "      <td>Buffet</td>\n",
              "      <td>3.7</td>\n",
              "      <td>300.0</td>\n",
              "      <td>88</td>\n",
              "      <td>2</td>\n",
              "      <td>744</td>\n",
              "      <td>2</td>\n",
              "      <td>727</td>\n",
              "    </tr>\n",
              "    <tr>\n",
              "      <th>4</th>\n",
              "      <td>Basavanagudi</td>\n",
              "      <td>Grand Village</td>\n",
              "      <td>Banashankari</td>\n",
              "      <td>False</td>\n",
              "      <td>False</td>\n",
              "      <td>Casual Dining</td>\n",
              "      <td>North Indian, Rajasthani</td>\n",
              "      <td>Buffet</td>\n",
              "      <td>3.8</td>\n",
              "      <td>600.0</td>\n",
              "      <td>166</td>\n",
              "      <td>2</td>\n",
              "      <td>595</td>\n",
              "      <td>4</td>\n",
              "      <td>727</td>\n",
              "    </tr>\n",
              "  </tbody>\n",
              "</table>\n",
              "</div>\n",
              "      <button class=\"colab-df-convert\" onclick=\"convertToInteractive('df-f1c32822-7dee-4bdf-8a3c-1868152189c7')\"\n",
              "              title=\"Convert this dataframe to an interactive table.\"\n",
              "              style=\"display:none;\">\n",
              "        \n",
              "  <svg xmlns=\"http://www.w3.org/2000/svg\" height=\"24px\"viewBox=\"0 0 24 24\"\n",
              "       width=\"24px\">\n",
              "    <path d=\"M0 0h24v24H0V0z\" fill=\"none\"/>\n",
              "    <path d=\"M18.56 5.44l.94 2.06.94-2.06 2.06-.94-2.06-.94-.94-2.06-.94 2.06-2.06.94zm-11 1L8.5 8.5l.94-2.06 2.06-.94-2.06-.94L8.5 2.5l-.94 2.06-2.06.94zm10 10l.94 2.06.94-2.06 2.06-.94-2.06-.94-.94-2.06-.94 2.06-2.06.94z\"/><path d=\"M17.41 7.96l-1.37-1.37c-.4-.4-.92-.59-1.43-.59-.52 0-1.04.2-1.43.59L10.3 9.45l-7.72 7.72c-.78.78-.78 2.05 0 2.83L4 21.41c.39.39.9.59 1.41.59.51 0 1.02-.2 1.41-.59l7.78-7.78 2.81-2.81c.8-.78.8-2.07 0-2.86zM5.41 20L4 18.59l7.72-7.72 1.47 1.35L5.41 20z\"/>\n",
              "  </svg>\n",
              "      </button>\n",
              "      \n",
              "  <style>\n",
              "    .colab-df-container {\n",
              "      display:flex;\n",
              "      flex-wrap:wrap;\n",
              "      gap: 12px;\n",
              "    }\n",
              "\n",
              "    .colab-df-convert {\n",
              "      background-color: #E8F0FE;\n",
              "      border: none;\n",
              "      border-radius: 50%;\n",
              "      cursor: pointer;\n",
              "      display: none;\n",
              "      fill: #1967D2;\n",
              "      height: 32px;\n",
              "      padding: 0 0 0 0;\n",
              "      width: 32px;\n",
              "    }\n",
              "\n",
              "    .colab-df-convert:hover {\n",
              "      background-color: #E2EBFA;\n",
              "      box-shadow: 0px 1px 2px rgba(60, 64, 67, 0.3), 0px 1px 3px 1px rgba(60, 64, 67, 0.15);\n",
              "      fill: #174EA6;\n",
              "    }\n",
              "\n",
              "    [theme=dark] .colab-df-convert {\n",
              "      background-color: #3B4455;\n",
              "      fill: #D2E3FC;\n",
              "    }\n",
              "\n",
              "    [theme=dark] .colab-df-convert:hover {\n",
              "      background-color: #434B5C;\n",
              "      box-shadow: 0px 1px 3px 1px rgba(0, 0, 0, 0.15);\n",
              "      filter: drop-shadow(0px 1px 2px rgba(0, 0, 0, 0.3));\n",
              "      fill: #FFFFFF;\n",
              "    }\n",
              "  </style>\n",
              "\n",
              "      <script>\n",
              "        const buttonEl =\n",
              "          document.querySelector('#df-f1c32822-7dee-4bdf-8a3c-1868152189c7 button.colab-df-convert');\n",
              "        buttonEl.style.display =\n",
              "          google.colab.kernel.accessAllowed ? 'block' : 'none';\n",
              "\n",
              "        async function convertToInteractive(key) {\n",
              "          const element = document.querySelector('#df-f1c32822-7dee-4bdf-8a3c-1868152189c7');\n",
              "          const dataTable =\n",
              "            await google.colab.kernel.invokeFunction('convertToInteractive',\n",
              "                                                     [key], {});\n",
              "          if (!dataTable) return;\n",
              "\n",
              "          const docLinkHtml = 'Like what you see? Visit the ' +\n",
              "            '<a target=\"_blank\" href=https://colab.research.google.com/notebooks/data_table.ipynb>data table notebook</a>'\n",
              "            + ' to learn more about interactive tables.';\n",
              "          element.innerHTML = '';\n",
              "          dataTable['output_type'] = 'display_data';\n",
              "          await google.colab.output.renderOutput(dataTable, element);\n",
              "          const docLink = document.createElement('div');\n",
              "          docLink.innerHTML = docLinkHtml;\n",
              "          element.appendChild(docLink);\n",
              "        }\n",
              "      </script>\n",
              "    </div>\n",
              "  </div>\n",
              "  "
            ]
          },
          "metadata": {},
          "execution_count": 320
        }
      ]
    },
    {
      "cell_type": "code",
      "source": [
        "# One hot encoding Service Type offered feature as this column contains ~10 categories\n",
        "df1=df2\n",
        "y = pd.get_dummies(df1.type, prefix='type')\n",
        "df2=pd.concat([df1,y], axis=1)"
      ],
      "metadata": {
        "id": "T6RLY7r7htBx"
      },
      "execution_count": 321,
      "outputs": []
    },
    {
      "cell_type": "code",
      "source": [
        "#cleaning rest_type column and one hot encoding column to get various restaurant type as features\n",
        "from sklearn.preprocessing import MultiLabelBinarizer\n",
        "\n",
        "mlb = MultiLabelBinarizer(sparse_output=True)\n",
        "df1=df2\n",
        "df1['rest_new']=df1.rest_type.str.replace(\" \",\"\").str.lower()\n",
        "df1.rest_new = (df1.rest_new).str.split(',')\n",
        "\n",
        "df1 = df1.join(\n",
        "            pd.DataFrame.sparse.from_spmatrix(\n",
        "                mlb.fit_transform(df1.pop('rest_new')),\n",
        "                index=df.index,\n",
        "                columns=mlb.classes_))\n",
        "\n",
        "df1.head()"
      ],
      "metadata": {
        "colab": {
          "base_uri": "https://localhost:8080/",
          "height": 513
        },
        "id": "hSFSuewSiKSq",
        "outputId": "cf13460e-f422-4b59-948f-c8615b92b7ca"
      },
      "execution_count": 322,
      "outputs": [
        {
          "output_type": "execute_result",
          "data": {
            "text/plain": [
              "       location                   name          city  online_order  \\\n",
              "0  Banashankari                  Jalsa  Banashankari          True   \n",
              "1  Banashankari         Spice Elephant  Banashankari          True   \n",
              "2  Banashankari        San Churro Cafe  Banashankari          True   \n",
              "3  Banashankari  Addhuri Udupi Bhojana  Banashankari         False   \n",
              "4  Basavanagudi          Grand Village  Banashankari         False   \n",
              "\n",
              "   book_table            rest_type                        cuisines    type  \\\n",
              "0        True        Casual Dining  North Indian, Mughlai, Chinese  Buffet   \n",
              "1       False        Casual Dining     Chinese, North Indian, Thai  Buffet   \n",
              "2       False  Cafe, Casual Dining          Cafe, Mexican, Italian  Buffet   \n",
              "3       False          Quick Bites      South Indian, North Indian  Buffet   \n",
              "4       False        Casual Dining        North Indian, Rajasthani  Buffet   \n",
              "\n",
              "   rate   cost  votes  cuisine_freq  location_freq  name_freq  city_freq  \\\n",
              "0   4.1  800.0    775             3            744         11        727   \n",
              "1   4.1  800.0    787             3            744          4        727   \n",
              "2   3.8  800.0    918             3            744         11        727   \n",
              "3   3.7  300.0     88             2            744          2        727   \n",
              "4   3.8  600.0    166             2            595          4        727   \n",
              "\n",
              "   type_Buffet  type_Cafes  type_Delivery  type_Desserts  type_Dine-out  \\\n",
              "0            1           0              0              0              0   \n",
              "1            1           0              0              0              0   \n",
              "2            1           0              0              0              0   \n",
              "3            1           0              0              0              0   \n",
              "4            1           0              0              0              0   \n",
              "\n",
              "   type_Drinks & nightlife  type_Pubs and bars  bakery  bar  beverageshop  \\\n",
              "0                        0                   0       0    0             0   \n",
              "1                        0                   0       0    0             0   \n",
              "2                        0                   0       0    0             0   \n",
              "3                        0                   0       0    0             0   \n",
              "4                        0                   0       0    0             0   \n",
              "\n",
              "   bhojanalya  cafe  casualdining  club  confectionery  delivery  \\\n",
              "0           0     0             1     0              0         0   \n",
              "1           0     0             1     0              0         0   \n",
              "2           0     1             1     0              0         0   \n",
              "3           0     0             0     0              0         0   \n",
              "4           0     0             1     0              0         0   \n",
              "\n",
              "   dessertparlor  dhaba  finedining  foodcourt  foodtruck  iranicafee  kiosk  \\\n",
              "0              0      0           0          0          0           0      0   \n",
              "1              0      0           0          0          0           0      0   \n",
              "2              0      0           0          0          0           0      0   \n",
              "3              0      0           0          0          0           0      0   \n",
              "4              0      0           0          0          0           0      0   \n",
              "\n",
              "   lounge  meatshop  mess  microbrewery  pub  quickbites  sweetshop  takeaway  \n",
              "0       0         0     0             0    0           0          0         0  \n",
              "1       0         0     0             0    0           0          0         0  \n",
              "2       0         0     0             0    0           0          0         0  \n",
              "3       0         0     0             0    0           1          0         0  \n",
              "4       0         0     0             0    0           0          0         0  "
            ],
            "text/html": [
              "\n",
              "  <div id=\"df-a72472d2-9a2f-49b8-a412-ee29637d830c\">\n",
              "    <div class=\"colab-df-container\">\n",
              "      <div>\n",
              "<style scoped>\n",
              "    .dataframe tbody tr th:only-of-type {\n",
              "        vertical-align: middle;\n",
              "    }\n",
              "\n",
              "    .dataframe tbody tr th {\n",
              "        vertical-align: top;\n",
              "    }\n",
              "\n",
              "    .dataframe thead th {\n",
              "        text-align: right;\n",
              "    }\n",
              "</style>\n",
              "<table border=\"1\" class=\"dataframe\">\n",
              "  <thead>\n",
              "    <tr style=\"text-align: right;\">\n",
              "      <th></th>\n",
              "      <th>location</th>\n",
              "      <th>name</th>\n",
              "      <th>city</th>\n",
              "      <th>online_order</th>\n",
              "      <th>book_table</th>\n",
              "      <th>rest_type</th>\n",
              "      <th>cuisines</th>\n",
              "      <th>type</th>\n",
              "      <th>rate</th>\n",
              "      <th>cost</th>\n",
              "      <th>votes</th>\n",
              "      <th>cuisine_freq</th>\n",
              "      <th>location_freq</th>\n",
              "      <th>name_freq</th>\n",
              "      <th>city_freq</th>\n",
              "      <th>type_Buffet</th>\n",
              "      <th>type_Cafes</th>\n",
              "      <th>type_Delivery</th>\n",
              "      <th>type_Desserts</th>\n",
              "      <th>type_Dine-out</th>\n",
              "      <th>type_Drinks &amp; nightlife</th>\n",
              "      <th>type_Pubs and bars</th>\n",
              "      <th>bakery</th>\n",
              "      <th>bar</th>\n",
              "      <th>beverageshop</th>\n",
              "      <th>bhojanalya</th>\n",
              "      <th>cafe</th>\n",
              "      <th>casualdining</th>\n",
              "      <th>club</th>\n",
              "      <th>confectionery</th>\n",
              "      <th>delivery</th>\n",
              "      <th>dessertparlor</th>\n",
              "      <th>dhaba</th>\n",
              "      <th>finedining</th>\n",
              "      <th>foodcourt</th>\n",
              "      <th>foodtruck</th>\n",
              "      <th>iranicafee</th>\n",
              "      <th>kiosk</th>\n",
              "      <th>lounge</th>\n",
              "      <th>meatshop</th>\n",
              "      <th>mess</th>\n",
              "      <th>microbrewery</th>\n",
              "      <th>pub</th>\n",
              "      <th>quickbites</th>\n",
              "      <th>sweetshop</th>\n",
              "      <th>takeaway</th>\n",
              "    </tr>\n",
              "  </thead>\n",
              "  <tbody>\n",
              "    <tr>\n",
              "      <th>0</th>\n",
              "      <td>Banashankari</td>\n",
              "      <td>Jalsa</td>\n",
              "      <td>Banashankari</td>\n",
              "      <td>True</td>\n",
              "      <td>True</td>\n",
              "      <td>Casual Dining</td>\n",
              "      <td>North Indian, Mughlai, Chinese</td>\n",
              "      <td>Buffet</td>\n",
              "      <td>4.1</td>\n",
              "      <td>800.0</td>\n",
              "      <td>775</td>\n",
              "      <td>3</td>\n",
              "      <td>744</td>\n",
              "      <td>11</td>\n",
              "      <td>727</td>\n",
              "      <td>1</td>\n",
              "      <td>0</td>\n",
              "      <td>0</td>\n",
              "      <td>0</td>\n",
              "      <td>0</td>\n",
              "      <td>0</td>\n",
              "      <td>0</td>\n",
              "      <td>0</td>\n",
              "      <td>0</td>\n",
              "      <td>0</td>\n",
              "      <td>0</td>\n",
              "      <td>0</td>\n",
              "      <td>1</td>\n",
              "      <td>0</td>\n",
              "      <td>0</td>\n",
              "      <td>0</td>\n",
              "      <td>0</td>\n",
              "      <td>0</td>\n",
              "      <td>0</td>\n",
              "      <td>0</td>\n",
              "      <td>0</td>\n",
              "      <td>0</td>\n",
              "      <td>0</td>\n",
              "      <td>0</td>\n",
              "      <td>0</td>\n",
              "      <td>0</td>\n",
              "      <td>0</td>\n",
              "      <td>0</td>\n",
              "      <td>0</td>\n",
              "      <td>0</td>\n",
              "      <td>0</td>\n",
              "    </tr>\n",
              "    <tr>\n",
              "      <th>1</th>\n",
              "      <td>Banashankari</td>\n",
              "      <td>Spice Elephant</td>\n",
              "      <td>Banashankari</td>\n",
              "      <td>True</td>\n",
              "      <td>False</td>\n",
              "      <td>Casual Dining</td>\n",
              "      <td>Chinese, North Indian, Thai</td>\n",
              "      <td>Buffet</td>\n",
              "      <td>4.1</td>\n",
              "      <td>800.0</td>\n",
              "      <td>787</td>\n",
              "      <td>3</td>\n",
              "      <td>744</td>\n",
              "      <td>4</td>\n",
              "      <td>727</td>\n",
              "      <td>1</td>\n",
              "      <td>0</td>\n",
              "      <td>0</td>\n",
              "      <td>0</td>\n",
              "      <td>0</td>\n",
              "      <td>0</td>\n",
              "      <td>0</td>\n",
              "      <td>0</td>\n",
              "      <td>0</td>\n",
              "      <td>0</td>\n",
              "      <td>0</td>\n",
              "      <td>0</td>\n",
              "      <td>1</td>\n",
              "      <td>0</td>\n",
              "      <td>0</td>\n",
              "      <td>0</td>\n",
              "      <td>0</td>\n",
              "      <td>0</td>\n",
              "      <td>0</td>\n",
              "      <td>0</td>\n",
              "      <td>0</td>\n",
              "      <td>0</td>\n",
              "      <td>0</td>\n",
              "      <td>0</td>\n",
              "      <td>0</td>\n",
              "      <td>0</td>\n",
              "      <td>0</td>\n",
              "      <td>0</td>\n",
              "      <td>0</td>\n",
              "      <td>0</td>\n",
              "      <td>0</td>\n",
              "    </tr>\n",
              "    <tr>\n",
              "      <th>2</th>\n",
              "      <td>Banashankari</td>\n",
              "      <td>San Churro Cafe</td>\n",
              "      <td>Banashankari</td>\n",
              "      <td>True</td>\n",
              "      <td>False</td>\n",
              "      <td>Cafe, Casual Dining</td>\n",
              "      <td>Cafe, Mexican, Italian</td>\n",
              "      <td>Buffet</td>\n",
              "      <td>3.8</td>\n",
              "      <td>800.0</td>\n",
              "      <td>918</td>\n",
              "      <td>3</td>\n",
              "      <td>744</td>\n",
              "      <td>11</td>\n",
              "      <td>727</td>\n",
              "      <td>1</td>\n",
              "      <td>0</td>\n",
              "      <td>0</td>\n",
              "      <td>0</td>\n",
              "      <td>0</td>\n",
              "      <td>0</td>\n",
              "      <td>0</td>\n",
              "      <td>0</td>\n",
              "      <td>0</td>\n",
              "      <td>0</td>\n",
              "      <td>0</td>\n",
              "      <td>1</td>\n",
              "      <td>1</td>\n",
              "      <td>0</td>\n",
              "      <td>0</td>\n",
              "      <td>0</td>\n",
              "      <td>0</td>\n",
              "      <td>0</td>\n",
              "      <td>0</td>\n",
              "      <td>0</td>\n",
              "      <td>0</td>\n",
              "      <td>0</td>\n",
              "      <td>0</td>\n",
              "      <td>0</td>\n",
              "      <td>0</td>\n",
              "      <td>0</td>\n",
              "      <td>0</td>\n",
              "      <td>0</td>\n",
              "      <td>0</td>\n",
              "      <td>0</td>\n",
              "      <td>0</td>\n",
              "    </tr>\n",
              "    <tr>\n",
              "      <th>3</th>\n",
              "      <td>Banashankari</td>\n",
              "      <td>Addhuri Udupi Bhojana</td>\n",
              "      <td>Banashankari</td>\n",
              "      <td>False</td>\n",
              "      <td>False</td>\n",
              "      <td>Quick Bites</td>\n",
              "      <td>South Indian, North Indian</td>\n",
              "      <td>Buffet</td>\n",
              "      <td>3.7</td>\n",
              "      <td>300.0</td>\n",
              "      <td>88</td>\n",
              "      <td>2</td>\n",
              "      <td>744</td>\n",
              "      <td>2</td>\n",
              "      <td>727</td>\n",
              "      <td>1</td>\n",
              "      <td>0</td>\n",
              "      <td>0</td>\n",
              "      <td>0</td>\n",
              "      <td>0</td>\n",
              "      <td>0</td>\n",
              "      <td>0</td>\n",
              "      <td>0</td>\n",
              "      <td>0</td>\n",
              "      <td>0</td>\n",
              "      <td>0</td>\n",
              "      <td>0</td>\n",
              "      <td>0</td>\n",
              "      <td>0</td>\n",
              "      <td>0</td>\n",
              "      <td>0</td>\n",
              "      <td>0</td>\n",
              "      <td>0</td>\n",
              "      <td>0</td>\n",
              "      <td>0</td>\n",
              "      <td>0</td>\n",
              "      <td>0</td>\n",
              "      <td>0</td>\n",
              "      <td>0</td>\n",
              "      <td>0</td>\n",
              "      <td>0</td>\n",
              "      <td>0</td>\n",
              "      <td>0</td>\n",
              "      <td>1</td>\n",
              "      <td>0</td>\n",
              "      <td>0</td>\n",
              "    </tr>\n",
              "    <tr>\n",
              "      <th>4</th>\n",
              "      <td>Basavanagudi</td>\n",
              "      <td>Grand Village</td>\n",
              "      <td>Banashankari</td>\n",
              "      <td>False</td>\n",
              "      <td>False</td>\n",
              "      <td>Casual Dining</td>\n",
              "      <td>North Indian, Rajasthani</td>\n",
              "      <td>Buffet</td>\n",
              "      <td>3.8</td>\n",
              "      <td>600.0</td>\n",
              "      <td>166</td>\n",
              "      <td>2</td>\n",
              "      <td>595</td>\n",
              "      <td>4</td>\n",
              "      <td>727</td>\n",
              "      <td>1</td>\n",
              "      <td>0</td>\n",
              "      <td>0</td>\n",
              "      <td>0</td>\n",
              "      <td>0</td>\n",
              "      <td>0</td>\n",
              "      <td>0</td>\n",
              "      <td>0</td>\n",
              "      <td>0</td>\n",
              "      <td>0</td>\n",
              "      <td>0</td>\n",
              "      <td>0</td>\n",
              "      <td>1</td>\n",
              "      <td>0</td>\n",
              "      <td>0</td>\n",
              "      <td>0</td>\n",
              "      <td>0</td>\n",
              "      <td>0</td>\n",
              "      <td>0</td>\n",
              "      <td>0</td>\n",
              "      <td>0</td>\n",
              "      <td>0</td>\n",
              "      <td>0</td>\n",
              "      <td>0</td>\n",
              "      <td>0</td>\n",
              "      <td>0</td>\n",
              "      <td>0</td>\n",
              "      <td>0</td>\n",
              "      <td>0</td>\n",
              "      <td>0</td>\n",
              "      <td>0</td>\n",
              "    </tr>\n",
              "  </tbody>\n",
              "</table>\n",
              "</div>\n",
              "      <button class=\"colab-df-convert\" onclick=\"convertToInteractive('df-a72472d2-9a2f-49b8-a412-ee29637d830c')\"\n",
              "              title=\"Convert this dataframe to an interactive table.\"\n",
              "              style=\"display:none;\">\n",
              "        \n",
              "  <svg xmlns=\"http://www.w3.org/2000/svg\" height=\"24px\"viewBox=\"0 0 24 24\"\n",
              "       width=\"24px\">\n",
              "    <path d=\"M0 0h24v24H0V0z\" fill=\"none\"/>\n",
              "    <path d=\"M18.56 5.44l.94 2.06.94-2.06 2.06-.94-2.06-.94-.94-2.06-.94 2.06-2.06.94zm-11 1L8.5 8.5l.94-2.06 2.06-.94-2.06-.94L8.5 2.5l-.94 2.06-2.06.94zm10 10l.94 2.06.94-2.06 2.06-.94-2.06-.94-.94-2.06-.94 2.06-2.06.94z\"/><path d=\"M17.41 7.96l-1.37-1.37c-.4-.4-.92-.59-1.43-.59-.52 0-1.04.2-1.43.59L10.3 9.45l-7.72 7.72c-.78.78-.78 2.05 0 2.83L4 21.41c.39.39.9.59 1.41.59.51 0 1.02-.2 1.41-.59l7.78-7.78 2.81-2.81c.8-.78.8-2.07 0-2.86zM5.41 20L4 18.59l7.72-7.72 1.47 1.35L5.41 20z\"/>\n",
              "  </svg>\n",
              "      </button>\n",
              "      \n",
              "  <style>\n",
              "    .colab-df-container {\n",
              "      display:flex;\n",
              "      flex-wrap:wrap;\n",
              "      gap: 12px;\n",
              "    }\n",
              "\n",
              "    .colab-df-convert {\n",
              "      background-color: #E8F0FE;\n",
              "      border: none;\n",
              "      border-radius: 50%;\n",
              "      cursor: pointer;\n",
              "      display: none;\n",
              "      fill: #1967D2;\n",
              "      height: 32px;\n",
              "      padding: 0 0 0 0;\n",
              "      width: 32px;\n",
              "    }\n",
              "\n",
              "    .colab-df-convert:hover {\n",
              "      background-color: #E2EBFA;\n",
              "      box-shadow: 0px 1px 2px rgba(60, 64, 67, 0.3), 0px 1px 3px 1px rgba(60, 64, 67, 0.15);\n",
              "      fill: #174EA6;\n",
              "    }\n",
              "\n",
              "    [theme=dark] .colab-df-convert {\n",
              "      background-color: #3B4455;\n",
              "      fill: #D2E3FC;\n",
              "    }\n",
              "\n",
              "    [theme=dark] .colab-df-convert:hover {\n",
              "      background-color: #434B5C;\n",
              "      box-shadow: 0px 1px 3px 1px rgba(0, 0, 0, 0.15);\n",
              "      filter: drop-shadow(0px 1px 2px rgba(0, 0, 0, 0.3));\n",
              "      fill: #FFFFFF;\n",
              "    }\n",
              "  </style>\n",
              "\n",
              "      <script>\n",
              "        const buttonEl =\n",
              "          document.querySelector('#df-a72472d2-9a2f-49b8-a412-ee29637d830c button.colab-df-convert');\n",
              "        buttonEl.style.display =\n",
              "          google.colab.kernel.accessAllowed ? 'block' : 'none';\n",
              "\n",
              "        async function convertToInteractive(key) {\n",
              "          const element = document.querySelector('#df-a72472d2-9a2f-49b8-a412-ee29637d830c');\n",
              "          const dataTable =\n",
              "            await google.colab.kernel.invokeFunction('convertToInteractive',\n",
              "                                                     [key], {});\n",
              "          if (!dataTable) return;\n",
              "\n",
              "          const docLinkHtml = 'Like what you see? Visit the ' +\n",
              "            '<a target=\"_blank\" href=https://colab.research.google.com/notebooks/data_table.ipynb>data table notebook</a>'\n",
              "            + ' to learn more about interactive tables.';\n",
              "          element.innerHTML = '';\n",
              "          dataTable['output_type'] = 'display_data';\n",
              "          await google.colab.output.renderOutput(dataTable, element);\n",
              "          const docLink = document.createElement('div');\n",
              "          docLink.innerHTML = docLinkHtml;\n",
              "          element.appendChild(docLink);\n",
              "        }\n",
              "      </script>\n",
              "    </div>\n",
              "  </div>\n",
              "  "
            ]
          },
          "metadata": {},
          "execution_count": 322
        }
      ]
    },
    {
      "cell_type": "code",
      "source": [
        "#Encode the input Variables online order and book table features True and False to 1 and 0\n",
        "def Encode(zomato):\n",
        "    for column in zomato.columns[zomato.columns.isin(['online_order', 'book_table'])]:\n",
        "        zomato[column] = zomato[column].factorize()[0]\n",
        "    return zomato\n",
        "\n",
        "zomato_en = Encode(df1.copy())\n",
        "zomato_en.head() # looking at the dataset after transformation "
      ],
      "metadata": {
        "colab": {
          "base_uri": "https://localhost:8080/",
          "height": 513
        },
        "id": "tzqV0fS2Xcm1",
        "outputId": "ee456b7c-7f49-4b02-cc33-582920c28d74"
      },
      "execution_count": 323,
      "outputs": [
        {
          "output_type": "execute_result",
          "data": {
            "text/plain": [
              "       location                   name          city  online_order  \\\n",
              "0  Banashankari                  Jalsa  Banashankari             0   \n",
              "1  Banashankari         Spice Elephant  Banashankari             0   \n",
              "2  Banashankari        San Churro Cafe  Banashankari             0   \n",
              "3  Banashankari  Addhuri Udupi Bhojana  Banashankari             1   \n",
              "4  Basavanagudi          Grand Village  Banashankari             1   \n",
              "\n",
              "   book_table            rest_type                        cuisines    type  \\\n",
              "0           0        Casual Dining  North Indian, Mughlai, Chinese  Buffet   \n",
              "1           1        Casual Dining     Chinese, North Indian, Thai  Buffet   \n",
              "2           1  Cafe, Casual Dining          Cafe, Mexican, Italian  Buffet   \n",
              "3           1          Quick Bites      South Indian, North Indian  Buffet   \n",
              "4           1        Casual Dining        North Indian, Rajasthani  Buffet   \n",
              "\n",
              "   rate   cost  votes  cuisine_freq  location_freq  name_freq  city_freq  \\\n",
              "0   4.1  800.0    775             3            744         11        727   \n",
              "1   4.1  800.0    787             3            744          4        727   \n",
              "2   3.8  800.0    918             3            744         11        727   \n",
              "3   3.7  300.0     88             2            744          2        727   \n",
              "4   3.8  600.0    166             2            595          4        727   \n",
              "\n",
              "   type_Buffet  type_Cafes  type_Delivery  type_Desserts  type_Dine-out  \\\n",
              "0            1           0              0              0              0   \n",
              "1            1           0              0              0              0   \n",
              "2            1           0              0              0              0   \n",
              "3            1           0              0              0              0   \n",
              "4            1           0              0              0              0   \n",
              "\n",
              "   type_Drinks & nightlife  type_Pubs and bars  bakery  bar  beverageshop  \\\n",
              "0                        0                   0       0    0             0   \n",
              "1                        0                   0       0    0             0   \n",
              "2                        0                   0       0    0             0   \n",
              "3                        0                   0       0    0             0   \n",
              "4                        0                   0       0    0             0   \n",
              "\n",
              "   bhojanalya  cafe  casualdining  club  confectionery  delivery  \\\n",
              "0           0     0             1     0              0         0   \n",
              "1           0     0             1     0              0         0   \n",
              "2           0     1             1     0              0         0   \n",
              "3           0     0             0     0              0         0   \n",
              "4           0     0             1     0              0         0   \n",
              "\n",
              "   dessertparlor  dhaba  finedining  foodcourt  foodtruck  iranicafee  kiosk  \\\n",
              "0              0      0           0          0          0           0      0   \n",
              "1              0      0           0          0          0           0      0   \n",
              "2              0      0           0          0          0           0      0   \n",
              "3              0      0           0          0          0           0      0   \n",
              "4              0      0           0          0          0           0      0   \n",
              "\n",
              "   lounge  meatshop  mess  microbrewery  pub  quickbites  sweetshop  takeaway  \n",
              "0       0         0     0             0    0           0          0         0  \n",
              "1       0         0     0             0    0           0          0         0  \n",
              "2       0         0     0             0    0           0          0         0  \n",
              "3       0         0     0             0    0           1          0         0  \n",
              "4       0         0     0             0    0           0          0         0  "
            ],
            "text/html": [
              "\n",
              "  <div id=\"df-9f1b756d-939b-4d92-bd2b-42ede1c90825\">\n",
              "    <div class=\"colab-df-container\">\n",
              "      <div>\n",
              "<style scoped>\n",
              "    .dataframe tbody tr th:only-of-type {\n",
              "        vertical-align: middle;\n",
              "    }\n",
              "\n",
              "    .dataframe tbody tr th {\n",
              "        vertical-align: top;\n",
              "    }\n",
              "\n",
              "    .dataframe thead th {\n",
              "        text-align: right;\n",
              "    }\n",
              "</style>\n",
              "<table border=\"1\" class=\"dataframe\">\n",
              "  <thead>\n",
              "    <tr style=\"text-align: right;\">\n",
              "      <th></th>\n",
              "      <th>location</th>\n",
              "      <th>name</th>\n",
              "      <th>city</th>\n",
              "      <th>online_order</th>\n",
              "      <th>book_table</th>\n",
              "      <th>rest_type</th>\n",
              "      <th>cuisines</th>\n",
              "      <th>type</th>\n",
              "      <th>rate</th>\n",
              "      <th>cost</th>\n",
              "      <th>votes</th>\n",
              "      <th>cuisine_freq</th>\n",
              "      <th>location_freq</th>\n",
              "      <th>name_freq</th>\n",
              "      <th>city_freq</th>\n",
              "      <th>type_Buffet</th>\n",
              "      <th>type_Cafes</th>\n",
              "      <th>type_Delivery</th>\n",
              "      <th>type_Desserts</th>\n",
              "      <th>type_Dine-out</th>\n",
              "      <th>type_Drinks &amp; nightlife</th>\n",
              "      <th>type_Pubs and bars</th>\n",
              "      <th>bakery</th>\n",
              "      <th>bar</th>\n",
              "      <th>beverageshop</th>\n",
              "      <th>bhojanalya</th>\n",
              "      <th>cafe</th>\n",
              "      <th>casualdining</th>\n",
              "      <th>club</th>\n",
              "      <th>confectionery</th>\n",
              "      <th>delivery</th>\n",
              "      <th>dessertparlor</th>\n",
              "      <th>dhaba</th>\n",
              "      <th>finedining</th>\n",
              "      <th>foodcourt</th>\n",
              "      <th>foodtruck</th>\n",
              "      <th>iranicafee</th>\n",
              "      <th>kiosk</th>\n",
              "      <th>lounge</th>\n",
              "      <th>meatshop</th>\n",
              "      <th>mess</th>\n",
              "      <th>microbrewery</th>\n",
              "      <th>pub</th>\n",
              "      <th>quickbites</th>\n",
              "      <th>sweetshop</th>\n",
              "      <th>takeaway</th>\n",
              "    </tr>\n",
              "  </thead>\n",
              "  <tbody>\n",
              "    <tr>\n",
              "      <th>0</th>\n",
              "      <td>Banashankari</td>\n",
              "      <td>Jalsa</td>\n",
              "      <td>Banashankari</td>\n",
              "      <td>0</td>\n",
              "      <td>0</td>\n",
              "      <td>Casual Dining</td>\n",
              "      <td>North Indian, Mughlai, Chinese</td>\n",
              "      <td>Buffet</td>\n",
              "      <td>4.1</td>\n",
              "      <td>800.0</td>\n",
              "      <td>775</td>\n",
              "      <td>3</td>\n",
              "      <td>744</td>\n",
              "      <td>11</td>\n",
              "      <td>727</td>\n",
              "      <td>1</td>\n",
              "      <td>0</td>\n",
              "      <td>0</td>\n",
              "      <td>0</td>\n",
              "      <td>0</td>\n",
              "      <td>0</td>\n",
              "      <td>0</td>\n",
              "      <td>0</td>\n",
              "      <td>0</td>\n",
              "      <td>0</td>\n",
              "      <td>0</td>\n",
              "      <td>0</td>\n",
              "      <td>1</td>\n",
              "      <td>0</td>\n",
              "      <td>0</td>\n",
              "      <td>0</td>\n",
              "      <td>0</td>\n",
              "      <td>0</td>\n",
              "      <td>0</td>\n",
              "      <td>0</td>\n",
              "      <td>0</td>\n",
              "      <td>0</td>\n",
              "      <td>0</td>\n",
              "      <td>0</td>\n",
              "      <td>0</td>\n",
              "      <td>0</td>\n",
              "      <td>0</td>\n",
              "      <td>0</td>\n",
              "      <td>0</td>\n",
              "      <td>0</td>\n",
              "      <td>0</td>\n",
              "    </tr>\n",
              "    <tr>\n",
              "      <th>1</th>\n",
              "      <td>Banashankari</td>\n",
              "      <td>Spice Elephant</td>\n",
              "      <td>Banashankari</td>\n",
              "      <td>0</td>\n",
              "      <td>1</td>\n",
              "      <td>Casual Dining</td>\n",
              "      <td>Chinese, North Indian, Thai</td>\n",
              "      <td>Buffet</td>\n",
              "      <td>4.1</td>\n",
              "      <td>800.0</td>\n",
              "      <td>787</td>\n",
              "      <td>3</td>\n",
              "      <td>744</td>\n",
              "      <td>4</td>\n",
              "      <td>727</td>\n",
              "      <td>1</td>\n",
              "      <td>0</td>\n",
              "      <td>0</td>\n",
              "      <td>0</td>\n",
              "      <td>0</td>\n",
              "      <td>0</td>\n",
              "      <td>0</td>\n",
              "      <td>0</td>\n",
              "      <td>0</td>\n",
              "      <td>0</td>\n",
              "      <td>0</td>\n",
              "      <td>0</td>\n",
              "      <td>1</td>\n",
              "      <td>0</td>\n",
              "      <td>0</td>\n",
              "      <td>0</td>\n",
              "      <td>0</td>\n",
              "      <td>0</td>\n",
              "      <td>0</td>\n",
              "      <td>0</td>\n",
              "      <td>0</td>\n",
              "      <td>0</td>\n",
              "      <td>0</td>\n",
              "      <td>0</td>\n",
              "      <td>0</td>\n",
              "      <td>0</td>\n",
              "      <td>0</td>\n",
              "      <td>0</td>\n",
              "      <td>0</td>\n",
              "      <td>0</td>\n",
              "      <td>0</td>\n",
              "    </tr>\n",
              "    <tr>\n",
              "      <th>2</th>\n",
              "      <td>Banashankari</td>\n",
              "      <td>San Churro Cafe</td>\n",
              "      <td>Banashankari</td>\n",
              "      <td>0</td>\n",
              "      <td>1</td>\n",
              "      <td>Cafe, Casual Dining</td>\n",
              "      <td>Cafe, Mexican, Italian</td>\n",
              "      <td>Buffet</td>\n",
              "      <td>3.8</td>\n",
              "      <td>800.0</td>\n",
              "      <td>918</td>\n",
              "      <td>3</td>\n",
              "      <td>744</td>\n",
              "      <td>11</td>\n",
              "      <td>727</td>\n",
              "      <td>1</td>\n",
              "      <td>0</td>\n",
              "      <td>0</td>\n",
              "      <td>0</td>\n",
              "      <td>0</td>\n",
              "      <td>0</td>\n",
              "      <td>0</td>\n",
              "      <td>0</td>\n",
              "      <td>0</td>\n",
              "      <td>0</td>\n",
              "      <td>0</td>\n",
              "      <td>1</td>\n",
              "      <td>1</td>\n",
              "      <td>0</td>\n",
              "      <td>0</td>\n",
              "      <td>0</td>\n",
              "      <td>0</td>\n",
              "      <td>0</td>\n",
              "      <td>0</td>\n",
              "      <td>0</td>\n",
              "      <td>0</td>\n",
              "      <td>0</td>\n",
              "      <td>0</td>\n",
              "      <td>0</td>\n",
              "      <td>0</td>\n",
              "      <td>0</td>\n",
              "      <td>0</td>\n",
              "      <td>0</td>\n",
              "      <td>0</td>\n",
              "      <td>0</td>\n",
              "      <td>0</td>\n",
              "    </tr>\n",
              "    <tr>\n",
              "      <th>3</th>\n",
              "      <td>Banashankari</td>\n",
              "      <td>Addhuri Udupi Bhojana</td>\n",
              "      <td>Banashankari</td>\n",
              "      <td>1</td>\n",
              "      <td>1</td>\n",
              "      <td>Quick Bites</td>\n",
              "      <td>South Indian, North Indian</td>\n",
              "      <td>Buffet</td>\n",
              "      <td>3.7</td>\n",
              "      <td>300.0</td>\n",
              "      <td>88</td>\n",
              "      <td>2</td>\n",
              "      <td>744</td>\n",
              "      <td>2</td>\n",
              "      <td>727</td>\n",
              "      <td>1</td>\n",
              "      <td>0</td>\n",
              "      <td>0</td>\n",
              "      <td>0</td>\n",
              "      <td>0</td>\n",
              "      <td>0</td>\n",
              "      <td>0</td>\n",
              "      <td>0</td>\n",
              "      <td>0</td>\n",
              "      <td>0</td>\n",
              "      <td>0</td>\n",
              "      <td>0</td>\n",
              "      <td>0</td>\n",
              "      <td>0</td>\n",
              "      <td>0</td>\n",
              "      <td>0</td>\n",
              "      <td>0</td>\n",
              "      <td>0</td>\n",
              "      <td>0</td>\n",
              "      <td>0</td>\n",
              "      <td>0</td>\n",
              "      <td>0</td>\n",
              "      <td>0</td>\n",
              "      <td>0</td>\n",
              "      <td>0</td>\n",
              "      <td>0</td>\n",
              "      <td>0</td>\n",
              "      <td>0</td>\n",
              "      <td>1</td>\n",
              "      <td>0</td>\n",
              "      <td>0</td>\n",
              "    </tr>\n",
              "    <tr>\n",
              "      <th>4</th>\n",
              "      <td>Basavanagudi</td>\n",
              "      <td>Grand Village</td>\n",
              "      <td>Banashankari</td>\n",
              "      <td>1</td>\n",
              "      <td>1</td>\n",
              "      <td>Casual Dining</td>\n",
              "      <td>North Indian, Rajasthani</td>\n",
              "      <td>Buffet</td>\n",
              "      <td>3.8</td>\n",
              "      <td>600.0</td>\n",
              "      <td>166</td>\n",
              "      <td>2</td>\n",
              "      <td>595</td>\n",
              "      <td>4</td>\n",
              "      <td>727</td>\n",
              "      <td>1</td>\n",
              "      <td>0</td>\n",
              "      <td>0</td>\n",
              "      <td>0</td>\n",
              "      <td>0</td>\n",
              "      <td>0</td>\n",
              "      <td>0</td>\n",
              "      <td>0</td>\n",
              "      <td>0</td>\n",
              "      <td>0</td>\n",
              "      <td>0</td>\n",
              "      <td>0</td>\n",
              "      <td>1</td>\n",
              "      <td>0</td>\n",
              "      <td>0</td>\n",
              "      <td>0</td>\n",
              "      <td>0</td>\n",
              "      <td>0</td>\n",
              "      <td>0</td>\n",
              "      <td>0</td>\n",
              "      <td>0</td>\n",
              "      <td>0</td>\n",
              "      <td>0</td>\n",
              "      <td>0</td>\n",
              "      <td>0</td>\n",
              "      <td>0</td>\n",
              "      <td>0</td>\n",
              "      <td>0</td>\n",
              "      <td>0</td>\n",
              "      <td>0</td>\n",
              "      <td>0</td>\n",
              "    </tr>\n",
              "  </tbody>\n",
              "</table>\n",
              "</div>\n",
              "      <button class=\"colab-df-convert\" onclick=\"convertToInteractive('df-9f1b756d-939b-4d92-bd2b-42ede1c90825')\"\n",
              "              title=\"Convert this dataframe to an interactive table.\"\n",
              "              style=\"display:none;\">\n",
              "        \n",
              "  <svg xmlns=\"http://www.w3.org/2000/svg\" height=\"24px\"viewBox=\"0 0 24 24\"\n",
              "       width=\"24px\">\n",
              "    <path d=\"M0 0h24v24H0V0z\" fill=\"none\"/>\n",
              "    <path d=\"M18.56 5.44l.94 2.06.94-2.06 2.06-.94-2.06-.94-.94-2.06-.94 2.06-2.06.94zm-11 1L8.5 8.5l.94-2.06 2.06-.94-2.06-.94L8.5 2.5l-.94 2.06-2.06.94zm10 10l.94 2.06.94-2.06 2.06-.94-2.06-.94-.94-2.06-.94 2.06-2.06.94z\"/><path d=\"M17.41 7.96l-1.37-1.37c-.4-.4-.92-.59-1.43-.59-.52 0-1.04.2-1.43.59L10.3 9.45l-7.72 7.72c-.78.78-.78 2.05 0 2.83L4 21.41c.39.39.9.59 1.41.59.51 0 1.02-.2 1.41-.59l7.78-7.78 2.81-2.81c.8-.78.8-2.07 0-2.86zM5.41 20L4 18.59l7.72-7.72 1.47 1.35L5.41 20z\"/>\n",
              "  </svg>\n",
              "      </button>\n",
              "      \n",
              "  <style>\n",
              "    .colab-df-container {\n",
              "      display:flex;\n",
              "      flex-wrap:wrap;\n",
              "      gap: 12px;\n",
              "    }\n",
              "\n",
              "    .colab-df-convert {\n",
              "      background-color: #E8F0FE;\n",
              "      border: none;\n",
              "      border-radius: 50%;\n",
              "      cursor: pointer;\n",
              "      display: none;\n",
              "      fill: #1967D2;\n",
              "      height: 32px;\n",
              "      padding: 0 0 0 0;\n",
              "      width: 32px;\n",
              "    }\n",
              "\n",
              "    .colab-df-convert:hover {\n",
              "      background-color: #E2EBFA;\n",
              "      box-shadow: 0px 1px 2px rgba(60, 64, 67, 0.3), 0px 1px 3px 1px rgba(60, 64, 67, 0.15);\n",
              "      fill: #174EA6;\n",
              "    }\n",
              "\n",
              "    [theme=dark] .colab-df-convert {\n",
              "      background-color: #3B4455;\n",
              "      fill: #D2E3FC;\n",
              "    }\n",
              "\n",
              "    [theme=dark] .colab-df-convert:hover {\n",
              "      background-color: #434B5C;\n",
              "      box-shadow: 0px 1px 3px 1px rgba(0, 0, 0, 0.15);\n",
              "      filter: drop-shadow(0px 1px 2px rgba(0, 0, 0, 0.3));\n",
              "      fill: #FFFFFF;\n",
              "    }\n",
              "  </style>\n",
              "\n",
              "      <script>\n",
              "        const buttonEl =\n",
              "          document.querySelector('#df-9f1b756d-939b-4d92-bd2b-42ede1c90825 button.colab-df-convert');\n",
              "        buttonEl.style.display =\n",
              "          google.colab.kernel.accessAllowed ? 'block' : 'none';\n",
              "\n",
              "        async function convertToInteractive(key) {\n",
              "          const element = document.querySelector('#df-9f1b756d-939b-4d92-bd2b-42ede1c90825');\n",
              "          const dataTable =\n",
              "            await google.colab.kernel.invokeFunction('convertToInteractive',\n",
              "                                                     [key], {});\n",
              "          if (!dataTable) return;\n",
              "\n",
              "          const docLinkHtml = 'Like what you see? Visit the ' +\n",
              "            '<a target=\"_blank\" href=https://colab.research.google.com/notebooks/data_table.ipynb>data table notebook</a>'\n",
              "            + ' to learn more about interactive tables.';\n",
              "          element.innerHTML = '';\n",
              "          dataTable['output_type'] = 'display_data';\n",
              "          await google.colab.output.renderOutput(dataTable, element);\n",
              "          const docLink = document.createElement('div');\n",
              "          docLink.innerHTML = docLinkHtml;\n",
              "          element.appendChild(docLink);\n",
              "        }\n",
              "      </script>\n",
              "    </div>\n",
              "  </div>\n",
              "  "
            ]
          },
          "metadata": {},
          "execution_count": 323
        }
      ]
    },
    {
      "cell_type": "code",
      "source": [
        "#Dropping redundant columns. These columns have either been replaced by some imputation or encoding as separate columns\n",
        "zomato_en.drop(['location','name','city','rest_type','cuisines','type'], axis =1, inplace=True)"
      ],
      "metadata": {
        "id": "WvhZIK2RZA1S"
      },
      "execution_count": 324,
      "outputs": []
    },
    {
      "cell_type": "code",
      "source": [
        "#The complete clean dataset that we will be using for the model testing\n",
        "zomato_en.info()"
      ],
      "metadata": {
        "colab": {
          "base_uri": "https://localhost:8080/"
        },
        "id": "i0abrnsXrcWw",
        "outputId": "676f6631-735e-464f-d2b4-29f9abc0157b"
      },
      "execution_count": 325,
      "outputs": [
        {
          "output_type": "stream",
          "name": "stdout",
          "text": [
            "<class 'pandas.core.frame.DataFrame'>\n",
            "Int64Index: 41237 entries, 0 to 41236\n",
            "Data columns (total 40 columns):\n",
            " #   Column                   Non-Null Count  Dtype           \n",
            "---  ------                   --------------  -----           \n",
            " 0   online_order             41237 non-null  int64           \n",
            " 1   book_table               41237 non-null  int64           \n",
            " 2   rate                     41237 non-null  float64         \n",
            " 3   cost                     41237 non-null  float64         \n",
            " 4   votes                    41237 non-null  int64           \n",
            " 5   cuisine_freq             41237 non-null  int64           \n",
            " 6   location_freq            41237 non-null  int64           \n",
            " 7   name_freq                41237 non-null  int64           \n",
            " 8   city_freq                41237 non-null  int64           \n",
            " 9   type_Buffet              41237 non-null  uint8           \n",
            " 10  type_Cafes               41237 non-null  uint8           \n",
            " 11  type_Delivery            41237 non-null  uint8           \n",
            " 12  type_Desserts            41237 non-null  uint8           \n",
            " 13  type_Dine-out            41237 non-null  uint8           \n",
            " 14  type_Drinks & nightlife  41237 non-null  uint8           \n",
            " 15  type_Pubs and bars       41237 non-null  uint8           \n",
            " 16  bakery                   41237 non-null  Sparse[int64, 0]\n",
            " 17  bar                      41237 non-null  Sparse[int64, 0]\n",
            " 18  beverageshop             41237 non-null  Sparse[int64, 0]\n",
            " 19  bhojanalya               41237 non-null  Sparse[int64, 0]\n",
            " 20  cafe                     41237 non-null  Sparse[int64, 0]\n",
            " 21  casualdining             41237 non-null  Sparse[int64, 0]\n",
            " 22  club                     41237 non-null  Sparse[int64, 0]\n",
            " 23  confectionery            41237 non-null  Sparse[int64, 0]\n",
            " 24  delivery                 41237 non-null  Sparse[int64, 0]\n",
            " 25  dessertparlor            41237 non-null  Sparse[int64, 0]\n",
            " 26  dhaba                    41237 non-null  Sparse[int64, 0]\n",
            " 27  finedining               41237 non-null  Sparse[int64, 0]\n",
            " 28  foodcourt                41237 non-null  Sparse[int64, 0]\n",
            " 29  foodtruck                41237 non-null  Sparse[int64, 0]\n",
            " 30  iranicafee               41237 non-null  Sparse[int64, 0]\n",
            " 31  kiosk                    41237 non-null  Sparse[int64, 0]\n",
            " 32  lounge                   41237 non-null  Sparse[int64, 0]\n",
            " 33  meatshop                 41237 non-null  Sparse[int64, 0]\n",
            " 34  mess                     41237 non-null  Sparse[int64, 0]\n",
            " 35  microbrewery             41237 non-null  Sparse[int64, 0]\n",
            " 36  pub                      41237 non-null  Sparse[int64, 0]\n",
            " 37  quickbites               41237 non-null  Sparse[int64, 0]\n",
            " 38  sweetshop                41237 non-null  Sparse[int64, 0]\n",
            " 39  takeaway                 41237 non-null  Sparse[int64, 0]\n",
            "dtypes: Sparse[int64, 0](24), float64(2), int64(7), uint8(7)\n",
            "memory usage: 5.0 MB\n"
          ]
        }
      ]
    },
    {
      "cell_type": "code",
      "source": [
        "#Get Correlation between different variables\n",
        "# We see that votes, book table and location seem to be important features impacting rating\n",
        "corr = zomato_en[['online_order', 'book_table', 'rate', 'cuisine_freq', 'location_freq',\n",
        "       'name_freq', 'city_freq','cost','votes']].corr(method='kendall')\n",
        "plt.figure(figsize=(15,8))\n",
        "sns.heatmap(corr, annot=True)\n",
        "#zomato_en.columns\n",
        "#Also we see that the features dont have a very high correlation amongst each other. \n",
        "#Correlation is not very high for any two feature columns meaning that the there won't be the multicollinearity issue"
      ],
      "metadata": {
        "colab": {
          "base_uri": "https://localhost:8080/",
          "height": 506
        },
        "id": "FNvYzfNQq5FM",
        "outputId": "d040e9a7-c5e4-4205-b740-89d07d86a028"
      },
      "execution_count": 326,
      "outputs": [
        {
          "output_type": "execute_result",
          "data": {
            "text/plain": [
              "<matplotlib.axes._subplots.AxesSubplot at 0x7f98e7610850>"
            ]
          },
          "metadata": {},
          "execution_count": 326
        },
        {
          "output_type": "display_data",
          "data": {
            "text/plain": [
              "<Figure size 1080x576 with 2 Axes>"
            ],
            "image/png": "[encoded data removed]"
          },
          "metadata": {
            "needs_background": "light"
          }
        }
      ]
    },
    {
      "cell_type": "code",
      "source": [
        "#Storing column names as a list for future use\n",
        "ls=zomato_en.columns.tolist()\n",
        "ls.remove('rate')"
      ],
      "metadata": {
        "id": "7R8NjUOXCtKn"
      },
      "execution_count": 327,
      "outputs": []
    },
    {
      "cell_type": "code",
      "source": [
        "#Defining the independent variables(features) and dependent variables\n",
        "x = zomato_en.iloc[:, zomato_en.columns!='rate'].values\n",
        "y = zomato_en.iloc[:, zomato_en.columns=='rate'].values\n",
        "y=y.reshape(len(y),1)\n"
      ],
      "metadata": {
        "id": "5xjLmQ8dR3aP"
      },
      "execution_count": 328,
      "outputs": []
    },
    {
      "cell_type": "code",
      "source": [
        "#Getting Test and Training Set\n",
        "from sklearn.model_selection import train_test_split\n",
        "x_train,x_test,y_train,y_test=train_test_split(x,y,test_size=.1,random_state=353)"
      ],
      "metadata": {
        "id": "kfLCh2XESlXP"
      },
      "execution_count": 329,
      "outputs": []
    },
    {
      "cell_type": "code",
      "source": [
        "#Feature scaling only non dummy variables(which are not 1 or 0)\n",
        "from sklearn.preprocessing import StandardScaler\n",
        "sc = StandardScaler()\n",
        "x_train[:, 2:8] = sc.fit_transform(x_train[:, 2:8])\n",
        "x_test[:, 2:8] = sc.transform(x_test[:, 2:8])\n"
      ],
      "metadata": {
        "id": "GTC5DB3fuMv7"
      },
      "execution_count": 330,
      "outputs": []
    },
    {
      "cell_type": "code",
      "source": [
        "#Feature scaling rating y variable with another Standard scalar. \n",
        "# Implementation of model with or without scaling y has same impact. Its not necessary but done to ensure similar range among x and y\n",
        "sc2 = StandardScaler()\n",
        "#y_train=y_train.reshape(len(y_train),1)\n",
        "#y_test=y_test.reshape(len(y_test),1)\n",
        "\n",
        "y_train=sc2.fit_transform(y_train)\n",
        "y_test=sc2.transform(y_test)"
      ],
      "metadata": {
        "id": "f1tKYkld0gfV"
      },
      "execution_count": 331,
      "outputs": []
    },
    {
      "cell_type": "markdown",
      "source": [
        "# Implementation of Selected Models"
      ],
      "metadata": {
        "id": "aPuumoIBSDyv"
      }
    },
    {
      "cell_type": "code",
      "source": [
        "## Try vectorizing different way not using ordinal or nominal for categories using numeric instead as dummy\n",
        "#Train validate split, cross validation maybe try"
      ],
      "metadata": {
        "id": "2XKtMaLEQhvr"
      },
      "execution_count": null,
      "outputs": []
    },
    {
      "cell_type": "markdown",
      "source": [
        "# Implementation of Naive Model"
      ],
      "metadata": {
        "id": "_-Q9ERu9Ex-F"
      }
    },
    {
      "cell_type": "code",
      "source": [
        "from sklearn.metrics import r2_score, mean_absolute_error, mean_squared_error, mean_absolute_percentage_error\n",
        "\n",
        "##Naive Model- In naive model mean of y train is used as prediction and r2, RMSE and MAPE is calculated to get benchmark\n",
        "y_pred=np.full((len(y_train),1), y_train.mean())\n",
        "r2_score(y_train,y_pred).round(3)"
      ],
      "metadata": {
        "colab": {
          "base_uri": "https://localhost:8080/"
        },
        "id": "ZGPA3TM00MT8",
        "outputId": "34fdc4ed-5613-4564-c317-50948b1d854d"
      },
      "execution_count": 332,
      "outputs": [
        {
          "output_type": "execute_result",
          "data": {
            "text/plain": [
              "0.0"
            ]
          },
          "metadata": {},
          "execution_count": 332
        }
      ]
    },
    {
      "cell_type": "code",
      "source": [
        "mean_absolute_percentage_error(y_train,y_pred).round(3)"
      ],
      "metadata": {
        "colab": {
          "base_uri": "https://localhost:8080/"
        },
        "id": "4ES4RPUH6IU5",
        "outputId": "30f6bf5f-34b4-4519-abc8-09fc57b41a35"
      },
      "execution_count": 333,
      "outputs": [
        {
          "output_type": "execute_result",
          "data": {
            "text/plain": [
              "1.0"
            ]
          },
          "metadata": {},
          "execution_count": 333
        }
      ]
    },
    {
      "cell_type": "code",
      "source": [
        "mean_squared_error(y_train,y_pred,squared=False).round(3)"
      ],
      "metadata": {
        "colab": {
          "base_uri": "https://localhost:8080/"
        },
        "id": "z3T0EowR1Snh",
        "outputId": "2bb7f3d3-3f21-4fc3-f0d1-c9bbe5a36df0"
      },
      "execution_count": 334,
      "outputs": [
        {
          "output_type": "execute_result",
          "data": {
            "text/plain": [
              "1.0"
            ]
          },
          "metadata": {},
          "execution_count": 334
        }
      ]
    },
    {
      "cell_type": "markdown",
      "source": [
        "# Implementation of Linear Regression"
      ],
      "metadata": {
        "id": "OVEyKh3XE6du"
      }
    },
    {
      "cell_type": "code",
      "source": [
        "from sklearn.linear_model import LinearRegression\n",
        "from sklearn.metrics import r2_score, mean_absolute_error, mean_squared_error, mean_absolute_percentage_error"
      ],
      "metadata": {
        "id": "1xhiuCKZuu4_"
      },
      "execution_count": 335,
      "outputs": []
    },
    {
      "cell_type": "code",
      "source": [
        "#Linear regression model\n",
        "reg=LinearRegression()\n",
        "reg.fit(x_train,y_train)\n",
        "\n",
        "y_pred=reg.predict(x_train)\n",
        "#Checking R2 Scores for train data. Poor Model\n",
        "r2_score(y_train,y_pred).round(3)"
      ],
      "metadata": {
        "colab": {
          "base_uri": "https://localhost:8080/"
        },
        "id": "cOm80uNHSK4Y",
        "outputId": "12c3fb32-98fa-421c-9d0c-f414b37bdb03"
      },
      "execution_count": 336,
      "outputs": [
        {
          "output_type": "execute_result",
          "data": {
            "text/plain": [
              "0.334"
            ]
          },
          "metadata": {},
          "execution_count": 336
        }
      ]
    },
    {
      "cell_type": "code",
      "source": [
        "mean_absolute_percentage_error(y_train,y_pred).round(3)"
      ],
      "metadata": {
        "colab": {
          "base_uri": "https://localhost:8080/"
        },
        "id": "Bhv49T1O71cI",
        "outputId": "56151451-272c-40c8-e35b-80dc245cdb3b"
      },
      "execution_count": 337,
      "outputs": [
        {
          "output_type": "execute_result",
          "data": {
            "text/plain": [
              "7.871"
            ]
          },
          "metadata": {},
          "execution_count": 337
        }
      ]
    },
    {
      "cell_type": "code",
      "source": [
        "mean_squared_error(y_train,y_pred,squared=False).round(3)"
      ],
      "metadata": {
        "colab": {
          "base_uri": "https://localhost:8080/"
        },
        "id": "RMguxQk871TI",
        "outputId": "d413e1b7-da54-498c-972c-66fc41b43d85"
      },
      "execution_count": 338,
      "outputs": [
        {
          "output_type": "execute_result",
          "data": {
            "text/plain": [
              "0.816"
            ]
          },
          "metadata": {},
          "execution_count": 338
        }
      ]
    },
    {
      "cell_type": "code",
      "source": [
        "y_pred=reg.predict(x_test)\n",
        "\n",
        "#Checking R2 Scores for test data. Poor Model. But close to train R2 score showing not overfit\n",
        "r2_score(y_test,y_pred).round(3)"
      ],
      "metadata": {
        "colab": {
          "base_uri": "https://localhost:8080/"
        },
        "id": "Vg_7klpj7z4K",
        "outputId": "9dd46af0-8b79-457f-d6ee-02988af8bb17"
      },
      "execution_count": 339,
      "outputs": [
        {
          "output_type": "execute_result",
          "data": {
            "text/plain": [
              "0.323"
            ]
          },
          "metadata": {},
          "execution_count": 339
        }
      ]
    },
    {
      "cell_type": "code",
      "source": [
        "mean_absolute_percentage_error(y_test,y_pred).round(3)"
      ],
      "metadata": {
        "colab": {
          "base_uri": "https://localhost:8080/"
        },
        "id": "vOWG7EXGy4la",
        "outputId": "79a8bd2f-9d70-4f78-8a6c-244015e3b92b"
      },
      "execution_count": 340,
      "outputs": [
        {
          "output_type": "execute_result",
          "data": {
            "text/plain": [
              "8.463"
            ]
          },
          "metadata": {},
          "execution_count": 340
        }
      ]
    },
    {
      "cell_type": "code",
      "source": [
        "mean_squared_error(y_test,y_pred,squared=False).round(3)"
      ],
      "metadata": {
        "colab": {
          "base_uri": "https://localhost:8080/"
        },
        "id": "ubpOBxP2zITw",
        "outputId": "7ccd6869-739a-4860-e8a8-6dac6e088eaa"
      },
      "execution_count": 341,
      "outputs": [
        {
          "output_type": "execute_result",
          "data": {
            "text/plain": [
              "0.825"
            ]
          },
          "metadata": {},
          "execution_count": 341
        }
      ]
    },
    {
      "cell_type": "code",
      "source": [
        "#Checking variable importance from Linear regrssion\n",
        "importance = reg.coef_\n",
        "# summarize feature importance\n",
        "for i in range(len(importance[0])):\n",
        "\tprint('Feature: ' +str(ls[i])+', Score: %.3f' % (importance[0][i]))\n",
        "# For this poor model, we see book_table, restaurant type dessertparlor,bhojanalya,cafe,dhaba,meatshop and fine dining are important"
      ],
      "metadata": {
        "colab": {
          "base_uri": "https://localhost:8080/"
        },
        "id": "74SPSnYz4ez8",
        "outputId": "79ed1c99-6682-4490-d840-bf1763eb7212"
      },
      "execution_count": 342,
      "outputs": [
        {
          "output_type": "stream",
          "name": "stdout",
          "text": [
            "Feature: online_order, Score: -0.233\n",
            "Feature: book_table, Score: -0.669\n",
            "Feature: cost, Score: -0.055\n",
            "Feature: votes, Score: 0.273\n",
            "Feature: cuisine_freq, Score: 0.043\n",
            "Feature: location_freq, Score: -0.032\n",
            "Feature: name_freq, Score: 0.030\n",
            "Feature: city_freq, Score: 0.073\n",
            "Feature: type_Buffet, Score: -0.057\n",
            "Feature: type_Cafes, Score: -0.011\n",
            "Feature: type_Delivery, Score: -0.052\n",
            "Feature: type_Desserts, Score: 0.104\n",
            "Feature: type_Dine-out, Score: -0.038\n",
            "Feature: type_Drinks & nightlife, Score: 0.018\n",
            "Feature: type_Pubs and bars, Score: 0.035\n",
            "Feature: bakery, Score: -0.017\n",
            "Feature: bar, Score: 0.135\n",
            "Feature: beverageshop, Score: 0.114\n",
            "Feature: bhojanalya, Score: -0.680\n",
            "Feature: cafe, Score: 0.384\n",
            "Feature: casualdining, Score: 0.104\n",
            "Feature: club, Score: 0.083\n",
            "Feature: confectionery, Score: -0.199\n",
            "Feature: delivery, Score: -0.039\n",
            "Feature: dessertparlor, Score: 0.525\n",
            "Feature: dhaba, Score: -0.629\n",
            "Feature: finedining, Score: 0.711\n",
            "Feature: foodcourt, Score: -0.220\n",
            "Feature: foodtruck, Score: -0.038\n",
            "Feature: iranicafee, Score: -0.161\n",
            "Feature: kiosk, Score: 0.091\n",
            "Feature: lounge, Score: 0.082\n",
            "Feature: meatshop, Score: 0.568\n",
            "Feature: mess, Score: 0.112\n",
            "Feature: microbrewery, Score: 0.083\n",
            "Feature: pub, Score: 0.114\n",
            "Feature: quickbites, Score: -0.078\n",
            "Feature: sweetshop, Score: 0.045\n",
            "Feature: takeaway, Score: -0.125\n"
          ]
        }
      ]
    },
    {
      "cell_type": "markdown",
      "source": [
        "# Implementation of Decision Tree Model"
      ],
      "metadata": {
        "id": "ClBEgCEQFAQy"
      }
    },
    {
      "cell_type": "code",
      "source": [
        "#Prepairng a Decision Tree Regression\n",
        "from sklearn.tree import DecisionTreeRegressor\n",
        "DTree=DecisionTreeRegressor(min_samples_leaf=.0001)\n",
        "DTree.fit(x_train,y_train)\n",
        "\n",
        "#Checking R2 Scores for train data. Very good Model\n",
        "y_pred=DTree.predict(x_train)\n",
        "\n",
        "r2_score(y_train,y_pred).round(3)"
      ],
      "metadata": {
        "colab": {
          "base_uri": "https://localhost:8080/"
        },
        "id": "FcKIzgYuE_64",
        "outputId": "87c9c2e1-8a4d-40dd-e582-2b1597085553"
      },
      "execution_count": 343,
      "outputs": [
        {
          "output_type": "execute_result",
          "data": {
            "text/plain": [
              "0.937"
            ]
          },
          "metadata": {},
          "execution_count": 343
        }
      ]
    },
    {
      "cell_type": "code",
      "source": [
        "mean_absolute_percentage_error(y_train,y_pred).round(3)"
      ],
      "metadata": {
        "colab": {
          "base_uri": "https://localhost:8080/"
        },
        "id": "JpFZkOUNFlt2",
        "outputId": "6e97dcdd-9af6-42d7-ce6d-f7f63ce23acc"
      },
      "execution_count": 344,
      "outputs": [
        {
          "output_type": "execute_result",
          "data": {
            "text/plain": [
              "2.854"
            ]
          },
          "metadata": {},
          "execution_count": 344
        }
      ]
    },
    {
      "cell_type": "code",
      "source": [
        "mean_squared_error(y_train,y_pred,squared=False).round(3)"
      ],
      "metadata": {
        "colab": {
          "base_uri": "https://localhost:8080/"
        },
        "id": "oPITxTOAFmPo",
        "outputId": "5f8f7615-3160-4905-b45f-2a610a770198"
      },
      "execution_count": 345,
      "outputs": [
        {
          "output_type": "execute_result",
          "data": {
            "text/plain": [
              "0.25"
            ]
          },
          "metadata": {},
          "execution_count": 345
        }
      ]
    },
    {
      "cell_type": "code",
      "source": [
        "#Checking R2 Scores for test data. Good Model. R2 Scores for test and train are close meaning no overfitting.\n",
        "y_pred=DTree.predict(x_test)\n",
        "r2_score(y_test,y_pred).round(3)"
      ],
      "metadata": {
        "colab": {
          "base_uri": "https://localhost:8080/"
        },
        "id": "_13YAjqn0hnM",
        "outputId": "eadef62e-a088-4c3a-dedc-81202f8df2e2"
      },
      "execution_count": 346,
      "outputs": [
        {
          "output_type": "execute_result",
          "data": {
            "text/plain": [
              "0.806"
            ]
          },
          "metadata": {},
          "execution_count": 346
        }
      ]
    },
    {
      "cell_type": "code",
      "source": [
        "mean_absolute_percentage_error(y_test,y_pred).round(3)"
      ],
      "metadata": {
        "colab": {
          "base_uri": "https://localhost:8080/"
        },
        "id": "jO08lzVaFq61",
        "outputId": "8ccdcc14-19d3-4e83-b880-bcc2e51ceb9e"
      },
      "execution_count": 347,
      "outputs": [
        {
          "output_type": "execute_result",
          "data": {
            "text/plain": [
              "5.609"
            ]
          },
          "metadata": {},
          "execution_count": 347
        }
      ]
    },
    {
      "cell_type": "code",
      "source": [
        "mean_squared_error(y_test,y_pred,squared=False).round(3)"
      ],
      "metadata": {
        "colab": {
          "base_uri": "https://localhost:8080/"
        },
        "id": "9uXlha8MFqff",
        "outputId": "b617c360-6883-4d7a-bd04-300d33b02a75"
      },
      "execution_count": 348,
      "outputs": [
        {
          "output_type": "execute_result",
          "data": {
            "text/plain": [
              "0.442"
            ]
          },
          "metadata": {},
          "execution_count": 348
        }
      ]
    },
    {
      "cell_type": "code",
      "source": [
        "#Checking variable importance from Linear regrssion amount\n",
        "importance = DTree.feature_importances_"
      ],
      "metadata": {
        "id": "a19MBfMNGgHw"
      },
      "execution_count": 349,
      "outputs": []
    },
    {
      "cell_type": "code",
      "source": [
        "# summarize feature importance\n",
        "for i in range(len(importance)):\n",
        "\tprint('Feature: ' +str(ls[i])+', Score: %.3f' % (importance[i]))"
      ],
      "metadata": {
        "colab": {
          "base_uri": "https://localhost:8080/"
        },
        "id": "MDHvHuFU_1jY",
        "outputId": "1261ee69-5732-4378-8532-340602e16bdd"
      },
      "execution_count": 350,
      "outputs": [
        {
          "output_type": "stream",
          "name": "stdout",
          "text": [
            "Feature: online_order, Score: 0.015\n",
            "Feature: book_table, Score: 0.020\n",
            "Feature: cost, Score: 0.072\n",
            "Feature: votes, Score: 0.562\n",
            "Feature: cuisine_freq, Score: 0.038\n",
            "Feature: location_freq, Score: 0.084\n",
            "Feature: name_freq, Score: 0.093\n",
            "Feature: city_freq, Score: 0.032\n",
            "Feature: type_Buffet, Score: 0.001\n",
            "Feature: type_Cafes, Score: 0.000\n",
            "Feature: type_Delivery, Score: 0.000\n",
            "Feature: type_Desserts, Score: 0.001\n",
            "Feature: type_Dine-out, Score: 0.000\n",
            "Feature: type_Drinks & nightlife, Score: 0.000\n",
            "Feature: type_Pubs and bars, Score: 0.000\n",
            "Feature: bakery, Score: 0.004\n",
            "Feature: bar, Score: 0.003\n",
            "Feature: beverageshop, Score: 0.003\n",
            "Feature: bhojanalya, Score: 0.000\n",
            "Feature: cafe, Score: 0.016\n",
            "Feature: casualdining, Score: 0.008\n",
            "Feature: club, Score: 0.000\n",
            "Feature: confectionery, Score: 0.000\n",
            "Feature: delivery, Score: 0.005\n",
            "Feature: dessertparlor, Score: 0.019\n",
            "Feature: dhaba, Score: 0.000\n",
            "Feature: finedining, Score: 0.001\n",
            "Feature: foodcourt, Score: 0.003\n",
            "Feature: foodtruck, Score: 0.000\n",
            "Feature: iranicafee, Score: 0.000\n",
            "Feature: kiosk, Score: 0.000\n",
            "Feature: lounge, Score: 0.003\n",
            "Feature: meatshop, Score: 0.000\n",
            "Feature: mess, Score: 0.000\n",
            "Feature: microbrewery, Score: 0.001\n",
            "Feature: pub, Score: 0.003\n",
            "Feature: quickbites, Score: 0.008\n",
            "Feature: sweetshop, Score: 0.002\n",
            "Feature: takeaway, Score: 0.002\n"
          ]
        }
      ]
    },
    {
      "cell_type": "code",
      "source": [
        "#Plotting features\n",
        "pyplot.bar([x for x in range(len(importance))], importance)\n",
        "#votes is the most important metric for rating prediction. Customers decide ratings based on the cost for 2"
      ],
      "metadata": {
        "colab": {
          "base_uri": "https://localhost:8080/",
          "height": 282
        },
        "id": "ZBTifmItHmcK",
        "outputId": "154cf8d9-3a13-459c-ad8f-b922f7e8326b"
      },
      "execution_count": 351,
      "outputs": [
        {
          "output_type": "execute_result",
          "data": {
            "text/plain": [
              "<BarContainer object of 39 artists>"
            ]
          },
          "metadata": {},
          "execution_count": 351
        },
        {
          "output_type": "display_data",
          "data": {
            "text/plain": [
              "<Figure size 432x288 with 1 Axes>"
            ],
            "image/png": "[encoded data removed]"
          },
          "metadata": {
            "needs_background": "light"
          }
        }
      ]
    },
    {
      "cell_type": "markdown",
      "source": [
        "# Implementation of Extra Tree Regression"
      ],
      "metadata": {
        "id": "nJifCabzIM5q"
      }
    },
    {
      "cell_type": "code",
      "source": [
        "#Preparing Extra Tree Regression\n",
        "from sklearn.ensemble import  ExtraTreesRegressor\n",
        "ETree=ExtraTreesRegressor(n_estimators = 100)\n",
        "ETree.fit(x_train,y_train)\n",
        "\n",
        "#Checking R2 Scores for train data. Great Model\n",
        "y_pred=ETree.predict(x_train)\n",
        "r2_score(y_train,y_pred).round(3)"
      ],
      "metadata": {
        "colab": {
          "base_uri": "https://localhost:8080/"
        },
        "id": "fPeoMTWc1AaZ",
        "outputId": "8e29e75f-73fd-4021-80ca-043ac1a41159"
      },
      "execution_count": 352,
      "outputs": [
        {
          "output_type": "execute_result",
          "data": {
            "text/plain": [
              "1.0"
            ]
          },
          "metadata": {},
          "execution_count": 352
        }
      ]
    },
    {
      "cell_type": "code",
      "source": [
        "mean_absolute_percentage_error(y_train,y_pred).round(3)"
      ],
      "metadata": {
        "colab": {
          "base_uri": "https://localhost:8080/"
        },
        "id": "n25yVPC9HYcF",
        "outputId": "ee4da35c-9a3e-4c00-dc86-521094bdd1ec"
      },
      "execution_count": 353,
      "outputs": [
        {
          "output_type": "execute_result",
          "data": {
            "text/plain": [
              "0.026"
            ]
          },
          "metadata": {},
          "execution_count": 353
        }
      ]
    },
    {
      "cell_type": "code",
      "source": [
        "mean_squared_error(y_train,y_pred,squared=False).round(3)"
      ],
      "metadata": {
        "colab": {
          "base_uri": "https://localhost:8080/"
        },
        "id": "1be5a2MMHgxw",
        "outputId": "0c602034-f5c5-4971-cd89-f3259245167c"
      },
      "execution_count": 354,
      "outputs": [
        {
          "output_type": "execute_result",
          "data": {
            "text/plain": [
              "0.015"
            ]
          },
          "metadata": {},
          "execution_count": 354
        }
      ]
    },
    {
      "cell_type": "code",
      "source": [
        "#Checking R2 Scores for test data. Very good Model. R2 scores for test and train dataset is close so no overfitting done\n",
        "y_pred=ETree.predict(x_test)\n",
        "r2_score(y_test,y_pred).round(3)"
      ],
      "metadata": {
        "colab": {
          "base_uri": "https://localhost:8080/"
        },
        "id": "CVxtV4aXHZB4",
        "outputId": "24b54577-df65-4928-80f0-3ffc4669fb6f"
      },
      "execution_count": 355,
      "outputs": [
        {
          "output_type": "execute_result",
          "data": {
            "text/plain": [
              "0.941"
            ]
          },
          "metadata": {},
          "execution_count": 355
        }
      ]
    },
    {
      "cell_type": "code",
      "source": [
        "mean_absolute_percentage_error(y_test,y_pred).round(3)"
      ],
      "metadata": {
        "colab": {
          "base_uri": "https://localhost:8080/"
        },
        "id": "C_FJloITHYta",
        "outputId": "558c0f5b-ce18-407e-eeeb-d7e1bc16e1a2"
      },
      "execution_count": 356,
      "outputs": [
        {
          "output_type": "execute_result",
          "data": {
            "text/plain": [
              "2.249"
            ]
          },
          "metadata": {},
          "execution_count": 356
        }
      ]
    },
    {
      "cell_type": "code",
      "source": [
        "mean_squared_error(y_test,y_pred,squared=False).round(3)"
      ],
      "metadata": {
        "colab": {
          "base_uri": "https://localhost:8080/"
        },
        "id": "JHH6CUUNHYm7",
        "outputId": "406b4944-752a-4d39-8ad9-d6c7ef092785"
      },
      "execution_count": 357,
      "outputs": [
        {
          "output_type": "execute_result",
          "data": {
            "text/plain": [
              "0.243"
            ]
          },
          "metadata": {},
          "execution_count": 357
        }
      ]
    },
    {
      "cell_type": "code",
      "source": [
        "# get feature importance using Extra tree regression\n",
        "importance = ETree.feature_importances_"
      ],
      "metadata": {
        "id": "dj0UKA0RNxR8"
      },
      "execution_count": 358,
      "outputs": []
    },
    {
      "cell_type": "code",
      "source": [
        "# summarize feature importance\n",
        "for i in range(len(importance)):\n",
        "\tprint('Feature: ' +str(ls[i])+', Score: %.5f' % (importance[i]))\n",
        " #Features like votes, availability of booking table option, restaurant brand name(more franchise more popularity and higher rating)\n",
        " #location and cuisine offered are important features that drive ratings"
      ],
      "metadata": {
        "colab": {
          "base_uri": "https://localhost:8080/"
        },
        "id": "Pj10sKrbNy1r",
        "outputId": "ab27ef28-462d-477f-fdca-ae730b615072"
      },
      "execution_count": 359,
      "outputs": [
        {
          "output_type": "stream",
          "name": "stdout",
          "text": [
            "Feature: online_order, Score: 0.01979\n",
            "Feature: book_table, Score: 0.17604\n",
            "Feature: cost, Score: 0.09160\n",
            "Feature: votes, Score: 0.30079\n",
            "Feature: cuisine_freq, Score: 0.06484\n",
            "Feature: location_freq, Score: 0.08394\n",
            "Feature: name_freq, Score: 0.09966\n",
            "Feature: city_freq, Score: 0.03351\n",
            "Feature: type_Buffet, Score: 0.00172\n",
            "Feature: type_Cafes, Score: 0.00025\n",
            "Feature: type_Delivery, Score: 0.00193\n",
            "Feature: type_Desserts, Score: 0.00284\n",
            "Feature: type_Dine-out, Score: 0.00177\n",
            "Feature: type_Drinks & nightlife, Score: 0.00010\n",
            "Feature: type_Pubs and bars, Score: 0.00004\n",
            "Feature: bakery, Score: 0.00553\n",
            "Feature: bar, Score: 0.00569\n",
            "Feature: beverageshop, Score: 0.00489\n",
            "Feature: bhojanalya, Score: 0.00000\n",
            "Feature: cafe, Score: 0.02267\n",
            "Feature: casualdining, Score: 0.01413\n",
            "Feature: club, Score: 0.00010\n",
            "Feature: confectionery, Score: 0.00005\n",
            "Feature: delivery, Score: 0.00646\n",
            "Feature: dessertparlor, Score: 0.02282\n",
            "Feature: dhaba, Score: 0.00014\n",
            "Feature: finedining, Score: 0.00170\n",
            "Feature: foodcourt, Score: 0.00455\n",
            "Feature: foodtruck, Score: 0.00032\n",
            "Feature: iranicafee, Score: 0.00001\n",
            "Feature: kiosk, Score: 0.00047\n",
            "Feature: lounge, Score: 0.00371\n",
            "Feature: meatshop, Score: 0.00001\n",
            "Feature: mess, Score: 0.00115\n",
            "Feature: microbrewery, Score: 0.00317\n",
            "Feature: pub, Score: 0.00334\n",
            "Feature: quickbites, Score: 0.01327\n",
            "Feature: sweetshop, Score: 0.00245\n",
            "Feature: takeaway, Score: 0.00455\n"
          ]
        }
      ]
    },
    {
      "cell_type": "code",
      "source": [
        "# plot feature importance\n",
        "pyplot.bar([x for x in range(len(importance))], importance)\n"
      ],
      "metadata": {
        "colab": {
          "base_uri": "https://localhost:8080/",
          "height": 282
        },
        "id": "yP4cy6g9N-OY",
        "outputId": "5cb3cea3-a485-4398-f909-bcf8803c40cf"
      },
      "execution_count": 360,
      "outputs": [
        {
          "output_type": "execute_result",
          "data": {
            "text/plain": [
              "<BarContainer object of 39 artists>"
            ]
          },
          "metadata": {},
          "execution_count": 360
        },
        {
          "output_type": "display_data",
          "data": {
            "text/plain": [
              "<Figure size 432x288 with 1 Axes>"
            ],
            "image/png": "[encoded data removed]"
          },
          "metadata": {
            "needs_background": "light"
          }
        }
      ]
    },
    {
      "cell_type": "markdown",
      "source": [
        "Extra Tree Regression is the best model among the linear tree and Decision tree model. It has the highest train and test R2 Score and low MAPE and RMSE scores.\n",
        "\n",
        "We also see that now new restaurant ratings can be predicted using the Extra tree regression. \n",
        "\n",
        "This enables us to acheive Goal 3: Predicting new restaurant rating depending on input parameters. We just have to transform new data like the x_test and use predict for the ETree model to get ratings"
      ],
      "metadata": {
        "id": "WOi8evy4xODv"
      }
    },
    {
      "cell_type": "markdown",
      "source": [
        "# Goal 2: Identify and cluster restaurants based on common attributes"
      ],
      "metadata": {
        "id": "gPNsf0X7cxCN"
      }
    },
    {
      "cell_type": "markdown",
      "source": [
        "# Implementation of KMeans Clustering"
      ],
      "metadata": {
        "id": "9hkJWdl7OB5x"
      }
    },
    {
      "cell_type": "code",
      "source": [
        "#To find optimum number of clusters we implement Elbow curve \n",
        "# Find the point at which the Within-Cluster-Sum-of-Squares forms a elbow with k cluster\n",
        "# All features are used to find clusters\n",
        "from sklearn.cluster import KMeans\n",
        "wcss = []\n",
        "for i in range(1, 11):\n",
        "    kmeans = KMeans(n_clusters = i, init = 'k-means++', random_state = 42)\n",
        "    kmeans.fit(x)\n",
        "    wcss.append(kmeans.inertia_)\n",
        "plt.plot(range(1, 11), wcss)\n",
        "plt.title('The Elbow Method')\n",
        "plt.xlabel('Number of clusters')\n",
        "plt.ylabel('WCSS')\n",
        "plt.show()\n",
        "# Here K =3 or 4 can be chosen due to the smoothness in curve"
      ],
      "metadata": {
        "colab": {
          "base_uri": "https://localhost:8080/",
          "height": 295
        },
        "id": "OZ2zMzsa6MWn",
        "outputId": "7e911ee6-92cc-4dd3-f9fe-177c7b90dbff"
      },
      "execution_count": 131,
      "outputs": [
        {
          "output_type": "display_data",
          "data": {
            "text/plain": [
              "<Figure size 432x288 with 1 Axes>"
            ],
            "image/png": "[encoded data removed]"
          },
          "metadata": {
            "needs_background": "light"
          }
        }
      ]
    },
    {
      "cell_type": "code",
      "source": [
        "kmeans = KMeans(n_clusters = 3, init = 'k-means++', random_state = 42)\n",
        "y_kmeans = kmeans.fit_predict(x)\n",
        "#this can now be used to predict what rating cluster a new restaurant may fall under. \n",
        "# We can also use the restaurants under these clusters to understand attributes and common trends live average ratings etc"
      ],
      "metadata": {
        "id": "xpyPqw_o8RcJ"
      },
      "execution_count": 132,
      "outputs": []
    },
    {
      "cell_type": "code",
      "source": [
        "# Here we will be predicting ratings for the New restaurants that did not have ratings in the initial dataset"
      ],
      "metadata": {
        "id": "gIgAqyO-eJzH"
      },
      "execution_count": null,
      "outputs": []
    },
    {
      "cell_type": "markdown",
      "source": [
        "# Goal 4: Building recommendation system to suggest restaurant based on customer preference."
      ],
      "metadata": {
        "id": "RGLXEgETeuAT"
      }
    },
    {
      "cell_type": "markdown",
      "source": [
        "https://colab.research.google.com/drive/1OK2sHx0_jYjfoK0LnXDuzw8DOgY-ltMc?usp=sharing"
      ],
      "metadata": {
        "id": "2EpYDykZ0Otf"
      }
    }
  ],
  "metadata": {
    "colab": {
      "name": "DM_Group39_Restaurant_Rating _Code.ipynb",
      "provenance": []
    },
    "kernelspec": {
      "display_name": "Python 3",
      "language": "python",
      "name": "python3"
    },
    "language_info": {
      "codemirror_mode": {
        "name": "ipython",
        "version": 3
      },
      "file_extension": ".py",
      "mimetype": "text/x-python",
      "name": "python",
      "nbconvert_exporter": "python",
      "pygments_lexer": "ipython3",
      "version": "3.7.6"
    }
  },
  "nbformat": 4,
  "nbformat_minor": 0
}